{
 "cells": [
  {
   "cell_type": "markdown",
   "metadata": {},
   "source": [
    "# Homework and bake-off: pragmatic color descriptions"
   ]
  },
  {
   "cell_type": "code",
   "execution_count": 1,
   "metadata": {},
   "outputs": [],
   "source": [
    "__author__ = \"Christopher Potts\"\n",
    "__version__ = \"CS224u, Stanford, Spring 2020\""
   ]
  },
  {
   "cell_type": "markdown",
   "metadata": {},
   "source": [
    "## Contents\n",
    "\n",
    "1. [Overview](#Overview)\n",
    "1. [Set-up](#Set-up)\n",
    "1. [All two-word examples as a dev corpus](#All-two-word-examples-as-a-dev-corpus)\n",
    "1. [Dev dataset](#Dev-dataset)\n",
    "1. [Random train–test split for development](#Random-train–test-split-for-development)\n",
    "1. [Question 1: Improve the tokenizer [1 point]](#Question-1:-Improve-the-tokenizer-[1-point])\n",
    "1. [Use the tokenizer](#Use-the-tokenizer)\n",
    "1. [Question 2: Improve the color representations [1 point]](#Question-2:-Improve-the-color-representations-[1-point])\n",
    "1. [Use the color representer](#Use-the-color-representer)\n",
    "1. [Initial model](#Initial-model)\n",
    "1. [Question 3: GloVe embeddings [1 points]](#Question-3:-GloVe-embeddings-[1-points])\n",
    "1. [Try the GloVe representations](#Try-the-GloVe-representations)\n",
    "1. [Question 4: Color context [3 points]](#Question-4:-Color-context-[3-points])\n",
    "1. [Your original system [3 points]](#Your-original-system-[3-points])\n",
    "1. [Bakeoff [1 point]](#Bakeoff-[1-point])"
   ]
  },
  {
   "cell_type": "markdown",
   "metadata": {},
   "source": [
    "## Overview\n",
    "\n",
    "This homework and associated bake-off are oriented toward building an effective system for generating color descriptions that are pragmatic in the sense that they would help a reader/listener figure out which color was being referred to in a shared context consisting of a target color (whose identity is known only to the describer/speaker) and a set of distractors.\n",
    "\n",
    "The notebook [colors_overview.ipynb](colors_overview.ipynb) should be studied before work on this homework begins. That notebook provides backgroud on the task, the dataset, and the modeling code that you will be using and adapting.\n",
    "\n",
    "The homework questions are more open-ended than previous ones have been. Rather than asking you to implement pre-defined functionality, they ask you to try to improve baseline components of the full system in ways that you find to be effective. As usual, this culiminates in a prompt asking you to develop a novel system for entry into the bake-off. In this case, though, the work you do for the homework will likely be directly incorporated into that system."
   ]
  },
  {
   "cell_type": "markdown",
   "metadata": {},
   "source": [
    "## Set-up"
   ]
  },
  {
   "cell_type": "markdown",
   "metadata": {},
   "source": [
    "See [colors_overview.ipynb](colors_overview.ipynb) for set-up in instructions and other background details."
   ]
  },
  {
   "cell_type": "code",
   "execution_count": 2,
   "metadata": {},
   "outputs": [],
   "source": [
    "from colors import ColorsCorpusReader\n",
    "import os\n",
    "from sklearn.model_selection import train_test_split\n",
    "from torch_listener_with_attention import (\n",
    "    AttentionalColorizedNeuralListener, create_example_dataset)\n",
    "import utils\n",
    "from utils import START_SYMBOL, END_SYMBOL, UNK_SYMBOL\n",
    "import numpy as np"
   ]
  },
  {
   "cell_type": "code",
   "execution_count": 3,
   "metadata": {},
   "outputs": [],
   "source": [
    "utils.fix_random_seeds()"
   ]
  },
  {
   "cell_type": "code",
   "execution_count": 4,
   "metadata": {},
   "outputs": [],
   "source": [
    "COLORS_SRC_FILENAME = os.path.join(\n",
    "    \"data\", \"colors\", \"filteredCorpus.csv\")"
   ]
  },
  {
   "cell_type": "markdown",
   "metadata": {},
   "source": [
    "## Dev datasets"
   ]
  },
  {
   "cell_type": "code",
   "execution_count": 5,
   "metadata": {},
   "outputs": [],
   "source": [
    "# This variable will toggle whether we're training the listener or the listener-hallucinating speaker\n",
    "agent = 'speaker'"
   ]
  },
  {
   "cell_type": "code",
   "execution_count": 6,
   "metadata": {},
   "outputs": [],
   "source": [
    "def load_from_pickle():\n",
    "    import pickle \n",
    "    with open('dev_vocab_'+agent+'.pickle', 'rb') as handle:\n",
    "        dev_vocab = pickle.load(handle)\n",
    "    with open('dev_seqs_test.pickle', 'rb') as handle:\n",
    "        dev_seqs_test = pickle.load(handle)\n",
    "    with open('dev_seqs_train_'+agent+'.pickle', 'rb') as handle:\n",
    "        dev_seqs_train = pickle.load(handle)\n",
    "    with open('dev_cols_test.pickle', 'rb') as handle:\n",
    "        dev_cols_test = pickle.load(handle)\n",
    "    with open('dev_cols_train_'+agent+'.pickle', 'rb') as handle:\n",
    "        dev_cols_train = pickle.load(handle)\n",
    "    with open('embedding.pickle', 'rb') as handle:\n",
    "        embedding = pickle.load(handle)\n",
    "    return dev_vocab, dev_seqs_test, dev_seqs_train, dev_cols_test, dev_cols_train, embedding\n",
    "\n",
    "dev_vocab, dev_seqs_test, dev_seqs_train, dev_cols_test, dev_cols_train, embedding = load_from_pickle()"
   ]
  },
  {
   "cell_type": "markdown",
   "metadata": {},
   "source": [
    "## Question 4: Color context [3 points]"
   ]
  },
  {
   "cell_type": "code",
   "execution_count": 7,
   "metadata": {},
   "outputs": [],
   "source": [
    "toy_color_seqs, toy_word_seqs, toy_vocab = create_example_dataset(\n",
    "    group_size=50, vec_dim=2)"
   ]
  },
  {
   "cell_type": "code",
   "execution_count": 8,
   "metadata": {},
   "outputs": [],
   "source": [
    "toy_color_seqs_train, toy_color_seqs_test, toy_word_seqs_train, toy_word_seqs_test = \\\n",
    "    train_test_split(toy_color_seqs, toy_word_seqs)"
   ]
  },
  {
   "cell_type": "code",
   "execution_count": 9,
   "metadata": {},
   "outputs": [
    {
     "name": "stdout",
     "output_type": "stream",
     "text": [
      "Using cuda\n"
     ]
    }
   ],
   "source": [
    "toy_mod = AttentionalColorizedNeuralListener(\n",
    "    toy_vocab, \n",
    "    embed_dim=100, \n",
    "    embedding=embedding,\n",
    "    hidden_dim=100, \n",
    "    max_iter=100, \n",
    "    batch_size=128)"
   ]
  },
  {
   "cell_type": "code",
   "execution_count": 10,
   "metadata": {},
   "outputs": [
    {
     "name": "stdout",
     "output_type": "stream",
     "text": [
      "AttentionalColorizedListenerEncoder cpu\n",
      "AttentionalColorizedListenerEncoderDecoder cpu\n",
      "Train: Epoch 1; err = 1.0995502471923828; time = 2.011448621749878\n",
      "Train: Epoch 2; err = 1.0893242359161377; time = 0.02800607681274414\n",
      "Train: Epoch 3; err = 1.0737110376358032; time = 0.028006792068481445\n",
      "Train: Epoch 4; err = 1.0362563133239746; time = 0.028005599975585938\n",
      "Train: Epoch 5; err = 0.996231198310852; time = 0.03000664710998535\n",
      "Train: Epoch 6; err = 1.0165879726409912; time = 0.028006553649902344\n",
      "Train: Epoch 7; err = 0.9940729141235352; time = 0.02800464630126953\n",
      "Train: Epoch 8; err = 0.9703787565231323; time = 0.027005672454833984\n",
      "Train: Epoch 9; err = 0.9713678359985352; time = 0.028005599975585938\n",
      "Train: Epoch 10; err = 0.9723686575889587; time = 0.0290069580078125\n",
      "Train: Epoch 11; err = 0.9564589858055115; time = 0.02700519561767578\n",
      "Train: Epoch 12; err = 0.9368780851364136; time = 0.029005765914916992\n",
      "Train: Epoch 13; err = 0.9309271574020386; time = 0.02600574493408203\n",
      "Train: Epoch 14; err = 0.9279438853263855; time = 0.023005008697509766\n",
      "0.01\n",
      "tensor([0.2547, 0.1908, 0.5545], grad_fn=<MeanBackward1>) 0.9191936254501343\n",
      "Train: Epoch 15; err = 0.9191936254501343; time = 0.03500819206237793\n",
      "Train: Epoch 16; err = 0.9076060056686401; time = 0.028006315231323242\n",
      "Train: Epoch 17; err = 0.8985219597816467; time = 0.02600550651550293\n",
      "Train: Epoch 18; err = 0.8936258554458618; time = 0.027006149291992188\n",
      "Train: Epoch 19; err = 0.8946983218193054; time = 0.030007123947143555\n",
      "Train: Epoch 20; err = 0.8872758746147156; time = 0.030007123947143555\n",
      "Train: Epoch 21; err = 0.8837603330612183; time = 0.03000664710998535\n",
      "Train: Epoch 22; err = 0.8818022012710571; time = 0.02800607681274414\n",
      "Train: Epoch 23; err = 0.8803428411483765; time = 0.02500629425048828\n",
      "Train: Epoch 24; err = 0.8794068098068237; time = 0.025005817413330078\n",
      "Train: Epoch 25; err = 0.8789430856704712; time = 0.026005268096923828\n",
      "Train: Epoch 26; err = 0.8786367177963257; time = 0.02400493621826172\n",
      "Train: Epoch 27; err = 0.8780065774917603; time = 0.02400684356689453\n",
      "Train: Epoch 28; err = 0.8767017722129822; time = 0.026005268096923828\n",
      "Train: Epoch 29; err = 0.8746787905693054; time = 0.02700638771057129\n",
      "0.01\n",
      "tensor([0.0824, 0.3071, 0.6105], grad_fn=<MeanBackward1>) 0.8721461892127991\n",
      "Train: Epoch 30; err = 0.8721461892127991; time = 0.03400778770446777\n",
      "Train: Epoch 31; err = 0.8694062829017639; time = 0.02600550651550293\n",
      "Train: Epoch 32; err = 0.8667086362838745; time = 0.026005983352661133\n",
      "Train: Epoch 33; err = 0.889386773109436; time = 0.02400517463684082\n",
      "Train: Epoch 34; err = 0.8666729927062988; time = 0.02700638771057129\n",
      "Train: Epoch 35; err = 0.8641834259033203; time = 0.028006315231323242\n",
      "Train: Epoch 36; err = 0.8793267011642456; time = 0.02800607681274414\n",
      "Train: Epoch 37; err = 0.9769953489303589; time = 0.02500605583190918\n",
      "Train: Epoch 38; err = 0.953433632850647; time = 0.025005102157592773\n",
      "Train: Epoch 39; err = 0.8497176766395569; time = 0.025005340576171875\n",
      "Train: Epoch 40; err = 0.8539296984672546; time = 0.027005672454833984\n",
      "Train: Epoch 41; err = 0.8606200218200684; time = 0.02400517463684082\n",
      "Train: Epoch 42; err = 0.862673282623291; time = 0.023005247116088867\n",
      "Train: Epoch 43; err = 0.8628644347190857; time = 0.028006792068481445\n",
      "Train: Epoch 44; err = 0.8623293042182922; time = 0.025005102157592773\n",
      "0.01\n",
      "tensor([0.0537, 0.3182, 0.6281], grad_fn=<MeanBackward1>) 0.8615583777427673\n",
      "Train: Epoch 45; err = 0.8615583777427673; time = 0.028006553649902344\n",
      "Train: Epoch 46; err = 0.8612834811210632; time = 0.026006460189819336\n",
      "Train: Epoch 47; err = 0.8636177182197571; time = 0.026004314422607422\n",
      "Train: Epoch 48; err = 0.8669607043266296; time = 0.031006813049316406\n",
      "Train: Epoch 49; err = 0.8631865382194519; time = 0.023005008697509766\n",
      "Train: Epoch 50; err = 0.8581727743148804; time = 0.026006221771240234\n",
      "Train: Epoch 51; err = 0.8553851842880249; time = 0.032007694244384766\n",
      "Train: Epoch 52; err = 0.8536027073860168; time = 0.024004697799682617\n",
      "Train: Epoch 53; err = 0.85205078125; time = 0.024005413055419922\n",
      "Train: Epoch 54; err = 0.8505009412765503; time = 0.023004531860351562\n",
      "Train: Epoch 55; err = 0.8488955497741699; time = 0.025005340576171875\n",
      "Train: Epoch 56; err = 0.8472169637680054; time = 0.02400517463684082\n",
      "Train: Epoch 57; err = 0.845456063747406; time = 0.02700638771057129\n",
      "Train: Epoch 58; err = 0.843604564666748; time = 0.025005578994750977\n",
      "Train: Epoch 59; err = 0.8416520953178406; time = 0.028006792068481445\n",
      "0.01\n",
      "tensor([0.0509, 0.2979, 0.6512], grad_fn=<MeanBackward1>) 0.8395859003067017\n",
      "Train: Epoch 60; err = 0.8395859003067017; time = 0.03000640869140625\n",
      "Train: Epoch 61; err = 0.8373896479606628; time = 0.025004863739013672\n",
      "Train: Epoch 62; err = 0.8350442051887512; time = 0.026005029678344727\n",
      "Train: Epoch 63; err = 0.8325257301330566; time = 0.024005413055419922\n",
      "Train: Epoch 64; err = 0.8298059701919556; time = 0.02700662612915039\n",
      "Train: Epoch 65; err = 0.8268517255783081; time = 0.027006149291992188\n",
      "Train: Epoch 66; err = 0.8236238360404968; time = 0.025005340576171875\n",
      "Train: Epoch 67; err = 0.820079505443573; time = 0.025007247924804688\n",
      "Train: Epoch 68; err = 0.8161839842796326; time = 0.025004863739013672\n",
      "Train: Epoch 69; err = 0.812040388584137; time = 0.025005578994750977\n",
      "Train: Epoch 70; err = 0.8090927004814148; time = 0.024004459381103516\n",
      "Train: Epoch 71; err = 0.8024433255195618; time = 0.028006315231323242\n",
      "Train: Epoch 72; err = 0.7969815135002136; time = 0.02400517463684082\n",
      "Train: Epoch 73; err = 0.790797770023346; time = 0.03000664710998535\n",
      "Train: Epoch 74; err = 0.7838543057441711; time = 0.025004863739013672\n",
      "0.01\n",
      "tensor([0.0852, 0.1961, 0.7187], grad_fn=<MeanBackward1>) 0.7762673497200012\n",
      "Train: Epoch 75; err = 0.7762673497200012; time = 0.03300762176513672\n",
      "Train: Epoch 76; err = 0.768278181552887; time = 0.02800583839416504\n",
      "Train: Epoch 77; err = 0.7602298855781555; time = 0.024004697799682617\n",
      "Train: Epoch 78; err = 0.7527217268943787; time = 0.02500605583190918\n",
      "Train: Epoch 79; err = 0.7470952868461609; time = 0.02600574493408203\n",
      "Train: Epoch 80; err = 0.7434948682785034; time = 0.026006221771240234\n",
      "Train: Epoch 81; err = 0.742309033870697; time = 0.026005983352661133\n",
      "Train: Epoch 82; err = 0.7449755072593689; time = 0.02800750732421875\n",
      "Train: Epoch 83; err = 0.7800425887107849; time = 0.028006315231323242\n",
      "Train: Epoch 84; err = 0.8182041049003601; time = 0.027005672454833984\n",
      "Train: Epoch 85; err = 0.7514731287956238; time = 0.02800583839416504\n",
      "Train: Epoch 86; err = 0.8284150958061218; time = 0.026005029678344727\n",
      "Train: Epoch 87; err = 0.8294269442558289; time = 0.027005910873413086\n",
      "Train: Epoch 88; err = 0.7880153656005859; time = 0.02700662612915039\n",
      "Train: Epoch 89; err = 0.7419708371162415; time = 0.02600574493408203\n",
      "0.01\n",
      "tensor([0.0684, 0.1995, 0.7321], grad_fn=<MeanBackward1>) 0.7735805511474609\n",
      "Train: Epoch 90; err = 0.7735805511474609; time = 0.037006378173828125\n",
      "Train: Epoch 91; err = 0.7669225335121155; time = 0.027006149291992188\n",
      "Train: Epoch 92; err = 0.7589741945266724; time = 0.025005102157592773\n",
      "Train: Epoch 93; err = 0.7469262480735779; time = 0.028006315231323242\n",
      "Train: Epoch 94; err = 0.7453319430351257; time = 0.040008544921875\n",
      "Train: Epoch 95; err = 0.7517568469047546; time = 0.03000640869140625\n",
      "Train: Epoch 96; err = 0.7576271891593933; time = 0.02800607681274414\n",
      "Train: Epoch 97; err = 0.7586298584938049; time = 0.028006315231323242\n",
      "Train: Epoch 98; err = 0.7553844451904297; time = 0.030005693435668945\n",
      "Train: Epoch 99; err = 0.7513856887817383; time = 0.02500462532043457\n",
      "Train: Epoch 100; err = 0.7496882081031799; time = 0.027005672454833984\n"
     ]
    }
   ],
   "source": [
    "_ = toy_mod.fit(toy_color_seqs_train, toy_word_seqs_train)"
   ]
  },
  {
   "cell_type": "code",
   "execution_count": 11,
   "metadata": {},
   "outputs": [
    {
     "name": "stdout",
     "output_type": "stream",
     "text": [
      "27 / 38 0.7105263157894737\n"
     ]
    }
   ],
   "source": [
    "preds = toy_mod.predict(toy_color_seqs_test, toy_word_seqs_test)\n",
    "correct = sum([1 if x == 2 else 0 for x in preds])\n",
    "print(correct, \"/\", len(preds), correct/len(preds))"
   ]
  },
  {
   "cell_type": "markdown",
   "metadata": {},
   "source": [
    "If that worked, then you can now try this model on SCC problems!"
   ]
  },
  {
   "cell_type": "code",
   "execution_count": 12,
   "metadata": {},
   "outputs": [
    {
     "name": "stdout",
     "output_type": "stream",
     "text": [
      "Using cuda\n"
     ]
    }
   ],
   "source": [
    "dev_color_mod = AttentionalColorizedNeuralListener(\n",
    "    dev_vocab, \n",
    "    #embedding=dev_glove_embedding, \n",
    "    embed_dim=100,\n",
    "    embedding=embedding,\n",
    "    hidden_dim=100, \n",
    "    max_iter=10,\n",
    "    batch_size=16,\n",
    "    dropout_prob=0.7,\n",
    "    eta=0.001,\n",
    "    lr_rate=0.96,\n",
    "    warm_start=True,\n",
    "    device='cuda')\n",
    "# Uncomment line if you want to continue training the previous model\n",
    "# literal_listener.load_model(\"literal_listener_with_attention_\"+agent+\"_split.pt.pt\")\n"
   ]
  },
  {
   "cell_type": "code",
   "execution_count": 18,
   "metadata": {},
   "outputs": [
    {
     "name": "stdout",
     "output_type": "stream",
     "text": [
      "Train: Epoch 181; err = 726.3978577852249; time = 30.76386284828186\n",
      "Train: Epoch 182; err = 725.076132774353; time = 29.941669702529907\n",
      "Train: Epoch 183; err = 725.7876468300819; time = 34.857786417007446\n",
      "Train: Epoch 184; err = 724.8396295309067; time = 33.4764678478241\n",
      "Train: Epoch 185; err = 726.7567889094353; time = 33.89456129074097\n",
      "Train: Epoch 186; err = 724.227826654911; time = 32.63728094100952\n",
      "Train: Epoch 187; err = 723.0948595404625; time = 33.99557304382324\n",
      "Train: Epoch 188; err = 724.514818072319; time = 33.306429862976074\n",
      "Train: Epoch 189; err = 725.5529453754425; time = 29.523586750030518\n",
      "Train: Epoch 190; err = 722.4781914353371; time = 29.864662647247314\n",
      "test 9089 / 11749 0.7735977530002554\n",
      "train 15748 / 17623 0.8936049480792146\n",
      "Train: Epoch 191; err = 730.5085909962654; time = 32.71729803085327\n",
      "Train: Epoch 192; err = 723.0350778698921; time = 34.309653997421265\n",
      "Train: Epoch 193; err = 723.6086834669113; time = 34.914788246154785\n",
      "Train: Epoch 194; err = 720.8767966032028; time = 35.05783152580261\n",
      "0.0005882013670365763\n",
      "tensor([9.9877e-05, 4.6738e-03, 9.9523e-01], device='cuda:0',\n",
      "       grad_fn=<MeanBackward1>) 0.5545047521591187\n",
      "Train: Epoch 195; err = 725.2369388341904; time = 33.346439599990845\n",
      "Train: Epoch 196; err = 725.3352441191673; time = 33.555485248565674\n",
      "Train: Epoch 197; err = 720.9606850743294; time = 34.35365343093872\n",
      "Train: Epoch 198; err = 721.6595678925514; time = 34.92679047584534\n",
      "Train: Epoch 199; err = 721.0601058602333; time = 31.589046716690063\n",
      "Train: Epoch 200; err = 725.8059389591217; time = 32.463242053985596\n",
      "test 9124 / 11749 0.7765767299344625\n",
      "train 15871 / 17623 0.9005844634852181\n",
      "Train: Epoch 201; err = 721.9112114906311; time = 32.967365026474\n",
      "Train: Epoch 202; err = 721.2445664405823; time = 31.529032945632935\n",
      "Train: Epoch 203; err = 719.7977696061134; time = 31.927122354507446\n",
      "Train: Epoch 204; err = 723.1933106184006; time = 33.190404415130615\n",
      "Train: Epoch 205; err = 721.817086815834; time = 32.244202852249146\n",
      "Train: Epoch 206; err = 721.0425436496735; time = 28.847434997558594\n",
      "Train: Epoch 207; err = 719.3776306509972; time = 27.883220195770264\n",
      "Train: Epoch 208; err = 718.5646770000458; time = 29.742624282836914\n",
      "Train: Epoch 209; err = 722.2200480699539; time = 29.127497673034668\n",
      "0.0005646733123551131\n",
      "tensor([3.7412e-03, 1.0058e-07, 9.9626e-01], device='cuda:0',\n",
      "       grad_fn=<MeanBackward1>) 0.5538507699966431\n",
      "Train: Epoch 210; err = 719.5799164175987; time = 29.909672260284424\n",
      "test 9129 / 11749 0.7770022980679206\n",
      "train 15988 / 17623 0.9072235147250752\n",
      "Train: Epoch 211; err = 721.5659726262093; time = 28.80043601989746\n",
      "Train: Epoch 212; err = 720.1932294368744; time = 26.761969804763794\n",
      "Train: Epoch 213; err = 718.59369546175; time = 24.48709487915039\n",
      "Train: Epoch 214; err = 719.5914572477341; time = 24.437461614608765\n",
      "Train: Epoch 215; err = 717.5454674959183; time = 24.319435358047485\n",
      "Train: Epoch 216; err = 722.3234102725983; time = 24.177393913269043\n",
      "Train: Epoch 217; err = 715.2657595872879; time = 27.133062601089478\n",
      "Train: Epoch 218; err = 715.3731895685196; time = 28.18729829788208\n",
      "Train: Epoch 219; err = 722.8514031171799; time = 28.26530432701111\n",
      "Train: Epoch 220; err = 719.5247156620026; time = 27.566149473190308\n",
      "test 9138 / 11749 0.7777683207081454\n",
      "train 15996 / 17623 0.9076774669466039\n",
      "Train: Epoch 221; err = 717.5514442324638; time = 27.663171768188477\n",
      "Train: Epoch 222; err = 717.6380145549774; time = 25.878783226013184\n",
      "Train: Epoch 223; err = 717.3881040215492; time = 24.00994563102722\n",
      "Train: Epoch 224; err = 717.7307291030884; time = 23.994353532791138\n",
      "0.0005420863798609086\n",
      "tensor([0.0742, 0.0086, 0.9172], device='cuda:0', grad_fn=<MeanBackward1>) 0.6170843243598938\n",
      "Train: Epoch 225; err = 718.4287020564079; time = 26.047811269760132\n",
      "Train: Epoch 226; err = 715.0419818162918; time = 29.174518823623657\n",
      "Train: Epoch 227; err = 719.8101642727852; time = 27.254090309143066\n",
      "Train: Epoch 228; err = 716.7317019701004; time = 24.51746940612793\n",
      "Train: Epoch 229; err = 714.7380610704422; time = 24.037372827529907\n",
      "Train: Epoch 230; err = 713.5588954687119; time = 23.96934676170349\n",
      "test 9142 / 11749 0.778108775214912\n",
      "train 16015 / 17623 0.9087556034727345\n",
      "Train: Epoch 231; err = 715.3514289259911; time = 24.10737943649292\n",
      "Train: Epoch 232; err = 715.5594992637634; time = 26.509923696517944\n",
      "Train: Epoch 233; err = 713.2190342545509; time = 27.888221740722656\n",
      "Train: Epoch 234; err = 714.6405330300331; time = 30.94490385055542\n",
      "Train: Epoch 235; err = 715.7409527897835; time = 32.450238943099976\n",
      "Train: Epoch 236; err = 712.7325583696365; time = 29.972686290740967\n",
      "Train: Epoch 237; err = 715.3436576128006; time = 31.46803116798401\n",
      "Train: Epoch 238; err = 712.8192168474197; time = 29.56159472465515\n",
      "Train: Epoch 239; err = 714.6349012851715; time = 30.876887798309326\n",
      "0.0005204029246664722\n",
      "tensor([2.2475e-04, 1.4275e-01, 8.5703e-01], device='cuda:0',\n",
      "       grad_fn=<MeanBackward1>) 0.6942946314811707\n",
      "Train: Epoch 240; err = 713.2189037203789; time = 27.95923662185669\n",
      "test 9109 / 11749 0.775300025534088\n",
      "train 16042 / 17623 0.9102876922203939\n",
      "Train: Epoch 241; err = 715.8419682979584; time = 31.954128980636597\n",
      "Train: Epoch 242; err = 712.4298198223114; time = 32.67028784751892\n",
      "Train: Epoch 243; err = 712.4920726418495; time = 31.216960430145264\n",
      "Train: Epoch 244; err = 715.6982616782188; time = 34.59171676635742\n",
      "Train: Epoch 245; err = 717.9589619040489; time = 31.043925285339355\n",
      "Train: Epoch 246; err = 713.7351508140564; time = 26.382885456085205\n",
      "Train: Epoch 247; err = 711.4919701218605; time = 26.26887011528015\n",
      "Train: Epoch 248; err = 716.6537895798683; time = 26.778974294662476\n",
      "Train: Epoch 249; err = 712.1476290822029; time = 26.349879264831543\n",
      "Train: Epoch 250; err = 710.5382186174393; time = 25.96979308128357\n",
      "test 9124 / 11749 0.7765767299344625\n",
      "train 16050 / 17623 0.9107416444419225\n",
      "Train: Epoch 251; err = 711.563558101654; time = 26.48591899871826\n",
      "Train: Epoch 252; err = 712.3398928642273; time = 26.326873064041138\n",
      "Train: Epoch 253; err = 715.2899103760719; time = 26.456901788711548\n",
      "Train: Epoch 254; err = 712.3330913186073; time = 26.309880256652832\n",
      "0.0004995868076798133\n",
      "tensor([7.7668e-04, 4.8677e-04, 9.9874e-01], device='cuda:0',\n",
      "       grad_fn=<MeanBackward1>) 0.5522491335868835\n",
      "Train: Epoch 255; err = 710.4312389492989; time = 26.079817295074463\n",
      "Train: Epoch 256; err = 710.8232939243317; time = 26.261858224868774\n",
      "Train: Epoch 257; err = 710.2508568763733; time = 24.859556436538696\n",
      "Train: Epoch 258; err = 709.9039633274078; time = 24.10838794708252\n",
      "Train: Epoch 259; err = 711.1740453839302; time = 24.00636577606201\n",
      "Train: Epoch 260; err = 711.127318918705; time = 24.104414463043213\n",
      "test 9173 / 11749 0.7807472976423525\n",
      "train 16155 / 17623 0.9166997673494864\n",
      "Train: Epoch 261; err = 708.2190269231796; time = 23.93635082244873\n",
      "Train: Epoch 262; err = 711.0380342006683; time = 23.681293725967407\n",
      "Train: Epoch 263; err = 712.4481737613678; time = 24.143396377563477\n",
      "Train: Epoch 264; err = 709.3365554213524; time = 23.86133360862732\n",
      "Train: Epoch 265; err = 712.0353270769119; time = 23.99835443496704\n",
      "Train: Epoch 266; err = 709.2284542322159; time = 26.431896448135376\n",
      "Train: Epoch 267; err = 708.7893381118774; time = 27.700178861618042\n",
      "Train: Epoch 268; err = 709.6506889462471; time = 27.395120859146118\n",
      "Train: Epoch 269; err = 709.3356957435608; time = 23.785316705703735\n",
      "0.0004796033353726208\n",
      "tensor([0.0072, 0.0012, 0.9916], device='cuda:0', grad_fn=<MeanBackward1>) 0.5569583773612976\n",
      "Train: Epoch 270; err = 707.3371764421463; time = 23.84832000732422\n",
      "test 9181 / 11749 0.7814282066558856\n",
      "train 16170 / 17623 0.9175509277648527\n"
     ]
    }
   ],
   "source": [
    "#_ = dev_color_mod.fit(dev_cols_train, dev_seqs_train)\n",
    "\n",
    "for i in range(9):\n",
    "    dev_color_mod.fit(dev_cols_train, dev_seqs_train)\n",
    "    \n",
    "    test_preds = dev_color_mod.predict(dev_cols_test, dev_seqs_test)\n",
    "    train_preds = dev_color_mod.predict(dev_cols_train, dev_seqs_train)\n",
    "    correct = sum([1 if x == 2 else 0 for x in test_preds])\n",
    "    print(\"test\", correct, \"/\", len(test_preds), correct/len(test_preds))\n",
    "    correct = sum([1 if x == 2 else 0 for x in train_preds])\n",
    "    print(\"train\", correct, \"/\", len(train_preds), correct/len(train_preds))"
   ]
  },
  {
   "cell_type": "code",
   "execution_count": 14,
   "metadata": {},
   "outputs": [],
   "source": [
    "#import torch\n",
    "#torch.cuda.empty_cache()\n",
    "test_preds = dev_color_mod.predict(dev_cols_test, dev_seqs_test)\n",
    "#dev_color_mod.predict(dev_cols_test, dev_seqs_test, probabilities=True)\n",
    "train_preds = dev_color_mod.predict(dev_cols_train, dev_seqs_train)\n",
    "#dev_color_mod.predict(dev_cols_test, dev_seqs_test, probabilities=True)"
   ]
  },
  {
   "cell_type": "code",
   "execution_count": 15,
   "metadata": {},
   "outputs": [
    {
     "name": "stdout",
     "output_type": "stream",
     "text": [
      "test 8985 / 11749 0.7647459358243255\n",
      "train 14925 / 17623 0.8469046132894513\n"
     ]
    }
   ],
   "source": [
    "correct = sum([1 if x == 2 else 0 for x in test_preds])\n",
    "print(\"test\", correct, \"/\", len(test_preds), correct/len(test_preds))\n",
    "correct = sum([1 if x == 2 else 0 for x in train_preds])\n",
    "print(\"train\", correct, \"/\", len(train_preds), correct/len(train_preds))"
   ]
  },
  {
   "cell_type": "code",
   "execution_count": 16,
   "metadata": {},
   "outputs": [],
   "source": [
    "dev_color_mod.save_model(\"literal_listener_with_attention_\"+agent+\"_split.pt\")"
   ]
  },
  {
   "cell_type": "code",
   "execution_count": null,
   "metadata": {},
   "outputs": [],
   "source": []
  }
 ],
 "metadata": {
  "kernelspec": {
   "display_name": "Python 3",
   "language": "python",
   "name": "python3"
  },
  "language_info": {
   "codemirror_mode": {
    "name": "ipython",
    "version": 3
   },
   "file_extension": ".py",
   "mimetype": "text/x-python",
   "name": "python",
   "nbconvert_exporter": "python",
   "pygments_lexer": "ipython3",
   "version": "3.7.4"
  }
 },
 "nbformat": 4,
 "nbformat_minor": 2
}
