{
 "cells": [
  {
   "cell_type": "markdown",
   "metadata": {},
   "source": [
    "# Homework and bake-off: pragmatic color descriptions"
   ]
  },
  {
   "cell_type": "code",
   "execution_count": 1,
   "metadata": {},
   "outputs": [],
   "source": [
    "__author__ = \"Christopher Potts\"\n",
    "__version__ = \"CS224u, Stanford, Spring 2020\""
   ]
  },
  {
   "cell_type": "markdown",
   "metadata": {},
   "source": [
    "## Contents\n",
    "\n",
    "1. [Overview](#Overview)\n",
    "1. [Set-up](#Set-up)\n",
    "1. [All two-word examples as a dev corpus](#All-two-word-examples-as-a-dev-corpus)\n",
    "1. [Dev dataset](#Dev-dataset)\n",
    "1. [Random train–test split for development](#Random-train–test-split-for-development)\n",
    "1. [Question 1: Improve the tokenizer [1 point]](#Question-1:-Improve-the-tokenizer-[1-point])\n",
    "1. [Use the tokenizer](#Use-the-tokenizer)\n",
    "1. [Question 2: Improve the color representations [1 point]](#Question-2:-Improve-the-color-representations-[1-point])\n",
    "1. [Use the color representer](#Use-the-color-representer)\n",
    "1. [Initial model](#Initial-model)\n",
    "1. [Question 3: GloVe embeddings [1 points]](#Question-3:-GloVe-embeddings-[1-points])\n",
    "1. [Try the GloVe representations](#Try-the-GloVe-representations)\n",
    "1. [Question 4: Color context [3 points]](#Question-4:-Color-context-[3-points])\n",
    "1. [Your original system [3 points]](#Your-original-system-[3-points])\n",
    "1. [Bakeoff [1 point]](#Bakeoff-[1-point])"
   ]
  },
  {
   "cell_type": "markdown",
   "metadata": {},
   "source": [
    "## Overview\n",
    "\n",
    "This homework and associated bake-off are oriented toward building an effective system for generating color descriptions that are pragmatic in the sense that they would help a reader/listener figure out which color was being referred to in a shared context consisting of a target color (whose identity is known only to the describer/speaker) and a set of distractors.\n",
    "\n",
    "The notebook [colors_overview.ipynb](colors_overview.ipynb) should be studied before work on this homework begins. That notebook provides backgroud on the task, the dataset, and the modeling code that you will be using and adapting.\n",
    "\n",
    "The homework questions are more open-ended than previous ones have been. Rather than asking you to implement pre-defined functionality, they ask you to try to improve baseline components of the full system in ways that you find to be effective. As usual, this culiminates in a prompt asking you to develop a novel system for entry into the bake-off. In this case, though, the work you do for the homework will likely be directly incorporated into that system."
   ]
  },
  {
   "cell_type": "markdown",
   "metadata": {},
   "source": [
    "## Set-up"
   ]
  },
  {
   "cell_type": "markdown",
   "metadata": {},
   "source": [
    "See [colors_overview.ipynb](colors_overview.ipynb) for set-up in instructions and other background details."
   ]
  },
  {
   "cell_type": "code",
   "execution_count": 2,
   "metadata": {},
   "outputs": [],
   "source": [
    "from colors import ColorsCorpusReader\n",
    "import os\n",
    "from sklearn.model_selection import train_test_split\n",
    "from torch_listener_with_attention import (\n",
    "    AttentionalColorizedNeuralListener, create_example_dataset)\n",
    "import utils\n",
    "from utils import START_SYMBOL, END_SYMBOL, UNK_SYMBOL\n",
    "import numpy as np"
   ]
  },
  {
   "cell_type": "code",
   "execution_count": 3,
   "metadata": {},
   "outputs": [],
   "source": [
    "utils.fix_random_seeds()"
   ]
  },
  {
   "cell_type": "code",
   "execution_count": 4,
   "metadata": {},
   "outputs": [],
   "source": [
    "COLORS_SRC_FILENAME = os.path.join(\n",
    "    \"data\", \"colors\", \"filteredCorpus.csv\")"
   ]
  },
  {
   "cell_type": "markdown",
   "metadata": {},
   "source": [
    "## Dev datasets"
   ]
  },
  {
   "cell_type": "code",
   "execution_count": 5,
   "metadata": {},
   "outputs": [],
   "source": [
    "def load_from_pickle():\n",
    "    import pickle \n",
    "    with open('dev_vocab.pickle', 'rb') as handle:\n",
    "        dev_vocab = pickle.load(handle)\n",
    "    with open('dev_seqs_test.pickle', 'rb') as handle:\n",
    "        dev_seqs_test = pickle.load(handle)\n",
    "    with open('dev_seqs_train.pickle', 'rb') as handle:\n",
    "        dev_seqs_train = pickle.load(handle)\n",
    "    with open('dev_cols_test.pickle', 'rb') as handle:\n",
    "        dev_cols_test = pickle.load(handle)\n",
    "    with open('dev_cols_train.pickle', 'rb') as handle:\n",
    "        dev_cols_train = pickle.load(handle)\n",
    "    with open('embedding.pickle', 'rb') as handle:\n",
    "        embedding = pickle.load(handle)\n",
    "    return dev_vocab, dev_seqs_test, dev_seqs_train, dev_cols_test, dev_cols_train, embedding\n",
    "dev_vocab, dev_seqs_test, dev_seqs_train, dev_cols_test, dev_cols_train, embedding = load_from_pickle()"
   ]
  },
  {
   "cell_type": "markdown",
   "metadata": {},
   "source": [
    "## Question 4: Color context [3 points]"
   ]
  },
  {
   "cell_type": "code",
   "execution_count": 6,
   "metadata": {},
   "outputs": [],
   "source": [
    "toy_color_seqs, toy_word_seqs, toy_vocab = create_example_dataset(\n",
    "    group_size=50, vec_dim=2)"
   ]
  },
  {
   "cell_type": "code",
   "execution_count": 7,
   "metadata": {},
   "outputs": [],
   "source": [
    "toy_color_seqs_train, toy_color_seqs_test, toy_word_seqs_train, toy_word_seqs_test = \\\n",
    "    train_test_split(toy_color_seqs, toy_word_seqs)"
   ]
  },
  {
   "cell_type": "code",
   "execution_count": 8,
   "metadata": {},
   "outputs": [
    {
     "name": "stdout",
     "output_type": "stream",
     "text": [
      "Using cuda\n"
     ]
    }
   ],
   "source": [
    "toy_mod = AttentionalColorizedNeuralListener(\n",
    "    toy_vocab, \n",
    "    embed_dim=100, \n",
    "    embedding=embedding,\n",
    "    hidden_dim=100, \n",
    "    max_iter=100, \n",
    "    batch_size=128)"
   ]
  },
  {
   "cell_type": "code",
   "execution_count": 9,
   "metadata": {},
   "outputs": [
    {
     "name": "stdout",
     "output_type": "stream",
     "text": [
      "AttentionalColorizedListenerEncoder cpu\n",
      "AttentionalColorizedListenerEncoderDecoder cpu\n",
      "Train: Epoch 1; err = 1.0995502471923828; time = 2.5735819339752197\n",
      "Train: Epoch 2; err = 1.0893242359161377; time = 0.03000664710998535\n",
      "Train: Epoch 3; err = 1.0737110376358032; time = 0.02800607681274414\n",
      "Train: Epoch 4; err = 1.0362563133239746; time = 0.029006481170654297\n",
      "Train: Epoch 5; err = 0.996231198310852; time = 0.029006481170654297\n",
      "Train: Epoch 6; err = 1.0165879726409912; time = 0.027005672454833984\n",
      "Train: Epoch 7; err = 0.9940729141235352; time = 0.029006481170654297\n",
      "Train: Epoch 8; err = 0.9703787565231323; time = 0.029006242752075195\n",
      "Train: Epoch 9; err = 0.9713678359985352; time = 0.025005578994750977\n",
      "Train: Epoch 10; err = 0.9723686575889587; time = 0.02600574493408203\n",
      "Train: Epoch 11; err = 0.9564589858055115; time = 0.029006242752075195\n",
      "Train: Epoch 12; err = 0.9368780851364136; time = 0.0290069580078125\n",
      "Train: Epoch 13; err = 0.9309271574020386; time = 0.025005817413330078\n",
      "Train: Epoch 14; err = 0.9279438853263855; time = 0.02600574493408203\n",
      "0.01\n",
      "tensor([0.2547, 0.1908, 0.5545], grad_fn=<MeanBackward1>) 0.9191936254501343\n",
      "Train: Epoch 15; err = 0.9191936254501343; time = 0.03500771522521973\n",
      "Train: Epoch 16; err = 0.9076060056686401; time = 0.028006315231323242\n",
      "Train: Epoch 17; err = 0.8985219597816467; time = 0.025005817413330078\n",
      "Train: Epoch 18; err = 0.8936258554458618; time = 0.024005413055419922\n",
      "Train: Epoch 19; err = 0.8946983218193054; time = 0.02500629425048828\n",
      "Train: Epoch 20; err = 0.8872758746147156; time = 0.025005578994750977\n",
      "Train: Epoch 21; err = 0.8837603330612183; time = 0.024005413055419922\n",
      "Train: Epoch 22; err = 0.8818022012710571; time = 0.030007123947143555\n",
      "Train: Epoch 23; err = 0.8803428411483765; time = 0.024005413055419922\n",
      "Train: Epoch 24; err = 0.8794068098068237; time = 0.023005247116088867\n",
      "Train: Epoch 25; err = 0.8789430856704712; time = 0.02700638771057129\n",
      "Train: Epoch 26; err = 0.8786367177963257; time = 0.026006221771240234\n",
      "Train: Epoch 27; err = 0.8780065774917603; time = 0.02500605583190918\n",
      "Train: Epoch 28; err = 0.8767017722129822; time = 0.02400517463684082\n",
      "Train: Epoch 29; err = 0.8746787905693054; time = 0.025005578994750977\n",
      "0.01\n",
      "tensor([0.0824, 0.3071, 0.6105], grad_fn=<MeanBackward1>) 0.8721461892127991\n",
      "Train: Epoch 30; err = 0.8721461892127991; time = 0.031007766723632812\n",
      "Train: Epoch 31; err = 0.8694062829017639; time = 0.02800607681274414\n",
      "Train: Epoch 32; err = 0.8667086362838745; time = 0.02600574493408203\n",
      "Train: Epoch 33; err = 0.889386773109436; time = 0.025005340576171875\n",
      "Train: Epoch 34; err = 0.8666729927062988; time = 0.02600574493408203\n",
      "Train: Epoch 35; err = 0.8641834259033203; time = 0.025005340576171875\n",
      "Train: Epoch 36; err = 0.8793267011642456; time = 0.02700638771057129\n",
      "Train: Epoch 37; err = 0.9769953489303589; time = 0.025005817413330078\n",
      "Train: Epoch 38; err = 0.953433632850647; time = 0.028006553649902344\n",
      "Train: Epoch 39; err = 0.8497176766395569; time = 0.025007247924804688\n",
      "Train: Epoch 40; err = 0.8539296984672546; time = 0.023005247116088867\n",
      "Train: Epoch 41; err = 0.8606200218200684; time = 0.024006128311157227\n",
      "Train: Epoch 42; err = 0.862673282623291; time = 0.02600574493408203\n",
      "Train: Epoch 43; err = 0.8628644347190857; time = 0.02600574493408203\n",
      "Train: Epoch 44; err = 0.8623293042182922; time = 0.02800583839416504\n",
      "0.01\n",
      "tensor([0.0537, 0.3182, 0.6281], grad_fn=<MeanBackward1>) 0.8615583777427673\n",
      "Train: Epoch 45; err = 0.8615583777427673; time = 0.027005910873413086\n",
      "Train: Epoch 46; err = 0.8612834811210632; time = 0.02700638771057129\n",
      "Train: Epoch 47; err = 0.8636177182197571; time = 0.026006221771240234\n",
      "Train: Epoch 48; err = 0.8669607043266296; time = 0.02600693702697754\n",
      "Train: Epoch 49; err = 0.8631865382194519; time = 0.025005578994750977\n",
      "Train: Epoch 50; err = 0.8581727743148804; time = 0.029006481170654297\n",
      "Train: Epoch 51; err = 0.8553851842880249; time = 0.024005413055419922\n",
      "Train: Epoch 52; err = 0.8536027073860168; time = 0.025005578994750977\n",
      "Train: Epoch 53; err = 0.85205078125; time = 0.02700638771057129\n",
      "Train: Epoch 54; err = 0.8505009412765503; time = 0.027006149291992188\n",
      "Train: Epoch 55; err = 0.8488955497741699; time = 0.028007030487060547\n",
      "Train: Epoch 56; err = 0.8472169637680054; time = 0.025004863739013672\n",
      "Train: Epoch 57; err = 0.845456063747406; time = 0.0290067195892334\n",
      "Train: Epoch 58; err = 0.843604564666748; time = 0.03000640869140625\n",
      "Train: Epoch 59; err = 0.8416520953178406; time = 0.028006792068481445\n",
      "0.01\n",
      "tensor([0.0509, 0.2979, 0.6512], grad_fn=<MeanBackward1>) 0.8395859003067017\n",
      "Train: Epoch 60; err = 0.8395859003067017; time = 0.031006574630737305\n",
      "Train: Epoch 61; err = 0.8373896479606628; time = 0.025005817413330078\n",
      "Train: Epoch 62; err = 0.8350442051887512; time = 0.026006221771240234\n",
      "Train: Epoch 63; err = 0.8325257301330566; time = 0.027006149291992188\n",
      "Train: Epoch 64; err = 0.8298059701919556; time = 0.02700638771057129\n",
      "Train: Epoch 65; err = 0.8268517255783081; time = 0.024005651473999023\n",
      "Train: Epoch 66; err = 0.8236238360404968; time = 0.029006481170654297\n",
      "Train: Epoch 67; err = 0.820079505443573; time = 0.02700638771057129\n",
      "Train: Epoch 68; err = 0.8161839842796326; time = 0.027005672454833984\n",
      "Train: Epoch 69; err = 0.812040388584137; time = 0.028006553649902344\n",
      "Train: Epoch 70; err = 0.8090927004814148; time = 0.028006315231323242\n",
      "Train: Epoch 71; err = 0.8024433255195618; time = 0.026005983352661133\n",
      "Train: Epoch 72; err = 0.7969815135002136; time = 0.025005817413330078\n",
      "Train: Epoch 73; err = 0.790797770023346; time = 0.027005910873413086\n",
      "Train: Epoch 74; err = 0.7838543057441711; time = 0.024005413055419922\n",
      "0.01\n",
      "tensor([0.0852, 0.1961, 0.7187], grad_fn=<MeanBackward1>) 0.7762673497200012\n",
      "Train: Epoch 75; err = 0.7762673497200012; time = 0.030007362365722656\n",
      "Train: Epoch 76; err = 0.768278181552887; time = 0.027006149291992188\n",
      "Train: Epoch 77; err = 0.7602298855781555; time = 0.026005983352661133\n",
      "Train: Epoch 78; err = 0.7527217268943787; time = 0.02700638771057129\n",
      "Train: Epoch 79; err = 0.7470952868461609; time = 0.02700638771057129\n",
      "Train: Epoch 80; err = 0.7434948682785034; time = 0.026005983352661133\n",
      "Train: Epoch 81; err = 0.742309033870697; time = 0.0290067195892334\n",
      "Train: Epoch 82; err = 0.7449755072593689; time = 0.026005983352661133\n",
      "Train: Epoch 83; err = 0.7800425887107849; time = 0.024005413055419922\n",
      "Train: Epoch 84; err = 0.8182041049003601; time = 0.024005413055419922\n",
      "Train: Epoch 85; err = 0.7514731287956238; time = 0.025005578994750977\n",
      "Train: Epoch 86; err = 0.8284150958061218; time = 0.02800607681274414\n",
      "Train: Epoch 87; err = 0.8294269442558289; time = 0.029006481170654297\n",
      "Train: Epoch 88; err = 0.7880153656005859; time = 0.026005983352661133\n",
      "Train: Epoch 89; err = 0.7419708371162415; time = 0.02600574493408203\n",
      "0.01\n",
      "tensor([0.0684, 0.1995, 0.7321], grad_fn=<MeanBackward1>) 0.7735805511474609\n",
      "Train: Epoch 90; err = 0.7735805511474609; time = 0.029006481170654297\n",
      "Train: Epoch 91; err = 0.7669225335121155; time = 0.025005817413330078\n",
      "Train: Epoch 92; err = 0.7589741945266724; time = 0.02700638771057129\n",
      "Train: Epoch 93; err = 0.7469262480735779; time = 0.02700662612915039\n",
      "Train: Epoch 94; err = 0.7453319430351257; time = 0.027006864547729492\n",
      "Train: Epoch 95; err = 0.7517568469047546; time = 0.02600574493408203\n",
      "Train: Epoch 96; err = 0.7576271891593933; time = 0.028006792068481445\n",
      "Train: Epoch 97; err = 0.7586298584938049; time = 0.028007030487060547\n",
      "Train: Epoch 98; err = 0.7553844451904297; time = 0.02700638771057129\n",
      "Train: Epoch 99; err = 0.7513856887817383; time = 0.02800607681274414\n",
      "Train: Epoch 100; err = 0.7496882081031799; time = 0.026005983352661133\n"
     ]
    }
   ],
   "source": [
    "_ = toy_mod.fit(toy_color_seqs_train, toy_word_seqs_train)"
   ]
  },
  {
   "cell_type": "code",
   "execution_count": 10,
   "metadata": {},
   "outputs": [
    {
     "name": "stdout",
     "output_type": "stream",
     "text": [
      "27 / 38 0.7105263157894737\n"
     ]
    }
   ],
   "source": [
    "preds = toy_mod.predict(toy_color_seqs_test, toy_word_seqs_test)\n",
    "correct = sum([1 if x == 2 else 0 for x in preds])\n",
    "print(correct, \"/\", len(preds), correct/len(preds))"
   ]
  },
  {
   "cell_type": "markdown",
   "metadata": {},
   "source": [
    "If that worked, then you can now try this model on SCC problems!"
   ]
  },
  {
   "cell_type": "code",
   "execution_count": 11,
   "metadata": {},
   "outputs": [
    {
     "name": "stdout",
     "output_type": "stream",
     "text": [
      "Using cuda\n"
     ]
    }
   ],
   "source": [
    "dev_color_mod = AttentionalColorizedNeuralListener(\n",
    "    dev_vocab, \n",
    "    #embedding=dev_glove_embedding, \n",
    "    embed_dim=100,\n",
    "    embedding=embedding,\n",
    "    hidden_dim=100, \n",
    "    max_iter=500,\n",
    "    batch_size=32,\n",
    "    dropout_prob=0.7,\n",
    "    eta=0.001,\n",
    "    lr_rate=0.96,\n",
    "    warm_start=True,\n",
    "    device='cuda')\n",
    "# Uncomment line if you want to continue training the previous model\n",
    "# literal_listener.load_model(\"literal_listener.pt\")\n"
   ]
  },
  {
   "cell_type": "code",
   "execution_count": null,
   "metadata": {},
   "outputs": [
    {
     "name": "stdout",
     "output_type": "stream",
     "text": [
      "Train: Epoch 464; err = 697.3633873462677; time = 27.110013008117676\n",
      "0.0002821033375014772\n",
      "tensor([0.0264, 0.0795, 0.8941], device='cuda:0', grad_fn=<MeanBackward1>) 0.6501845717430115\n",
      "Train: Epoch 465; err = 697.6089966893196; time = 27.228989362716675\n",
      "Train: Epoch 466; err = 696.6519541740417; time = 27.16316533088684\n",
      "Train: Epoch 467; err = 697.1027517318726; time = 27.149153470993042\n",
      "Train: Epoch 468; err = 696.5312654972076; time = 27.068135023117065\n",
      "Train: Epoch 469; err = 696.9392926692963; time = 26.99011754989624\n",
      "Train: Epoch 470; err = 696.673243522644; time = 27.08813977241516\n",
      "Train: Epoch 471; err = 696.9639156460762; time = 27.028084754943848\n",
      "Train: Epoch 472; err = 695.9203844666481; time = 27.209177017211914\n",
      "Train: Epoch 473; err = 696.4069340229034; time = 27.04012942314148\n",
      "Train: Epoch 474; err = 697.8989734649658; time = 27.032428979873657\n",
      "Train: Epoch 475; err = 695.7367730140686; time = 27.13715100288391\n",
      "Train: Epoch 476; err = 696.8365647792816; time = 27.025105476379395\n",
      "Train: Epoch 477; err = 695.7386263012886; time = 27.081138372421265\n",
      "Train: Epoch 478; err = 696.6073663830757; time = 26.993118286132812\n",
      "Train: Epoch 479; err = 696.750068128109; time = 27.054131984710693\n",
      "0.0002708192040014181\n",
      "tensor([7.6549e-02, 3.2110e-07, 9.2345e-01], device='cuda:0',\n",
      "       grad_fn=<MeanBackward1>) 0.6278309226036072\n",
      "Train: Epoch 480; err = 695.8128535747528; time = 27.039112091064453\n",
      "Train: Epoch 481; err = 696.7050474882126; time = 27.015132188796997\n",
      "Train: Epoch 482; err = 696.2688483595848; time = 26.979114770889282\n",
      "Train: Epoch 483; err = 695.4863682389259; time = 27.055131912231445\n",
      "Train: Epoch 484; err = 696.3141590356827; time = 27.12014651298523\n",
      "Train: Epoch 485; err = 696.0894378423691; time = 27.156165599822998\n",
      "Train: Epoch 486; err = 695.788454413414; time = 27.064134120941162\n",
      "Train: Epoch 487; err = 696.0265775322914; time = 27.00212049484253\n",
      "Train: Epoch 488; err = 695.92425096035; time = 27.012122631072998\n",
      "Train: Epoch 489; err = 696.056223154068; time = 27.03912878036499\n",
      "Train: Epoch 490; err = 697.2859048843384; time = 27.019124269485474\n",
      "Train: Epoch 491; err = 695.2876498699188; time = 27.056132793426514\n",
      "Train: Epoch 492; err = 696.0708901882172; time = 27.045129776000977\n",
      "Train: Epoch 493; err = 695.7236185669899; time = 27.020127534866333\n",
      "Train: Epoch 494; err = 696.3578834533691; time = 27.136150121688843\n",
      "0.00025998643584136135\n",
      "tensor([2.3953e-01, 1.9746e-04, 7.6027e-01], device='cuda:0',\n",
      "       grad_fn=<MeanBackward1>) 0.7807163596153259\n",
      "Train: Epoch 495; err = 695.8455700874329; time = 26.98610758781433\n",
      "Train: Epoch 496; err = 695.5675908327103; time = 27.009130477905273\n",
      "Train: Epoch 497; err = 695.8966307640076; time = 27.094087839126587\n",
      "Train: Epoch 498; err = 695.2057377099991; time = 27.188162088394165\n",
      "Train: Epoch 499; err = 694.9936978816986; time = 27.102143049240112\n",
      "Train: Epoch 500; err = 694.8770315647125; time = 27.005120992660522\n",
      "Train: Epoch 501; err = 694.6551641225815; time = 27.03394913673401\n",
      "Train: Epoch 502; err = 696.5443679690361; time = 26.99911904335022\n",
      "Train: Epoch 503; err = 694.982190489769; time = 27.09914207458496\n",
      "Train: Epoch 504; err = 695.5624228715897; time = 27.153154134750366\n",
      "Train: Epoch 505; err = 695.2059614062309; time = 27.0011203289032\n",
      "Train: Epoch 506; err = 696.1442470550537; time = 27.031126499176025\n",
      "Train: Epoch 507; err = 694.0556958913803; time = 27.12014675140381\n",
      "Train: Epoch 508; err = 695.071481525898; time = 27.051130294799805\n",
      "Train: Epoch 509; err = 694.3774676322937; time = 27.04612970352173\n",
      "0.0002495869784077069\n",
      "tensor([2.1046e-03, 1.0343e-05, 9.9789e-01], device='cuda:0',\n",
      "       grad_fn=<MeanBackward1>) 0.5528067946434021\n",
      "Train: Epoch 510; err = 695.2947608828545; time = 27.12413763999939\n",
      "Train: Epoch 511; err = 694.9780570268631; time = 27.01613187789917\n",
      "Train: Epoch 512; err = 693.9253710508347; time = 27.01412296295166\n",
      "Train: Epoch 513; err = 693.6568477749825; time = 27.068135261535645\n",
      "Train: Epoch 514; err = 694.0369383692741; time = 27.008121252059937\n",
      "Train: Epoch 515; err = 694.5761020183563; time = 27.009122133255005\n",
      "Train: Epoch 516; err = 694.8198275566101; time = 27.092140436172485\n",
      "Train: Epoch 517; err = 694.4831774830818; time = 27.02518653869629\n",
      "Train: Epoch 518; err = 695.0544118881226; time = 27.04813027381897\n",
      "Train: Epoch 519; err = 694.1220583319664; time = 27.262892961502075\n",
      "Train: Epoch 520; err = 694.5176458358765; time = 27.013123273849487\n",
      "Train: Epoch 521; err = 695.002191722393; time = 27.064300775527954\n",
      "Train: Epoch 522; err = 695.0432846546173; time = 26.97711420059204\n",
      "Train: Epoch 523; err = 694.3571621179581; time = 26.96611213684082\n",
      "Train: Epoch 524; err = 693.5697573423386; time = 26.961110830307007\n",
      "0.0002396034992713986\n",
      "tensor([1.5394e-02, 1.0314e-06, 9.8461e-01], device='cuda:0',\n",
      "       grad_fn=<MeanBackward1>) 0.5620923042297363\n",
      "Train: Epoch 525; err = 694.4425604939461; time = 26.96310257911682\n",
      "Train: Epoch 526; err = 694.487585246563; time = 26.99999237060547\n",
      "Train: Epoch 527; err = 694.0903638005257; time = 27.69127607345581\n",
      "Train: Epoch 528; err = 694.3466138839722; time = 26.99011778831482\n",
      "Train: Epoch 529; err = 694.2121749520302; time = 27.149163722991943\n",
      "Train: Epoch 530; err = 694.3782924413681; time = 27.042121648788452\n",
      "Train: Epoch 531; err = 693.8240576982498; time = 27.061126470565796\n",
      "Train: Epoch 532; err = 693.5035992860794; time = 26.951108694076538\n",
      "Train: Epoch 533; err = 694.2612200975418; time = 26.933104515075684\n",
      "Train: Epoch 534; err = 694.2531853914261; time = 27.065134048461914\n",
      "Train: Epoch 535; err = 693.8407561182976; time = 26.96411895751953\n",
      "Train: Epoch 536; err = 694.3761258125305; time = 26.963111877441406\n",
      "Train: Epoch 537; err = 694.2048646807671; time = 27.089150190353394\n",
      "Train: Epoch 538; err = 692.8587596416473; time = 27.14915370941162\n",
      "Train: Epoch 539; err = 694.4063771367073; time = 26.972113609313965\n",
      "0.00023001935930054264\n",
      "tensor([6.5427e-06, 1.1473e-01, 8.8527e-01], device='cuda:0',\n",
      "       grad_fn=<MeanBackward1>) 0.6579450964927673\n",
      "Train: Epoch 540; err = 693.7347093820572; time = 26.9591007232666\n",
      "Train: Epoch 541; err = 693.3496208190918; time = 27.64927625656128\n",
      "Train: Epoch 542; err = 693.4591720700264; time = 27.191163539886475\n",
      "Train: Epoch 543; err = 693.5934720635414; time = 28.72050952911377\n",
      "Train: Epoch 544; err = 692.9875633716583; time = 28.818413972854614\n",
      "Train: Epoch 545; err = 693.2345796227455; time = 27.237173318862915\n",
      "Train: Epoch 546; err = 693.2303459644318; time = 27.193660259246826\n",
      "Train: Epoch 547; err = 692.9652038216591; time = 27.04338312149048\n",
      "Train: Epoch 548; err = 693.5569597482681; time = 27.053131580352783\n",
      "Train: Epoch 549; err = 693.637856900692; time = 27.176159143447876\n",
      "Train: Epoch 550; err = 693.3022664785385; time = 27.03812837600708\n",
      "Train: Epoch 551; err = 692.9758549928665; time = 27.034127473831177\n",
      "Train: Epoch 552; err = 693.1309480071068; time = 27.11014437675476\n",
      "Train: Epoch 553; err = 692.6823725104332; time = 26.992117881774902\n",
      "Train: Epoch 554; err = 694.111253619194; time = 27.044129848480225\n",
      "0.00022081858492852091\n",
      "tensor([1.9728e-02, 1.8083e-04, 9.8009e-01], device='cuda:0',\n",
      "       grad_fn=<MeanBackward1>) 0.5648467540740967\n",
      "Train: Epoch 555; err = 692.4175972938538; time = 27.120136499404907\n",
      "Train: Epoch 556; err = 692.6565245985985; time = 27.0231351852417\n",
      "Train: Epoch 557; err = 693.1639549732208; time = 27.01412320137024\n",
      "Train: Epoch 558; err = 692.842331469059; time = 27.13314914703369\n",
      "Train: Epoch 559; err = 693.8442563414574; time = 27.149152755737305\n",
      "Train: Epoch 560; err = 692.8484128713608; time = 27.112144947052002\n",
      "Train: Epoch 561; err = 692.7043319940567; time = 27.259178400039673\n",
      "Train: Epoch 562; err = 692.1975522637367; time = 26.97911500930786\n",
      "Train: Epoch 563; err = 692.3109240531921; time = 27.003119707107544\n",
      "Train: Epoch 564; err = 692.13203728199; time = 27.053131818771362\n",
      "Train: Epoch 565; err = 692.3291744589806; time = 27.109144687652588\n",
      "Train: Epoch 566; err = 692.1657143235207; time = 26.998119115829468\n",
      "Train: Epoch 567; err = 692.5198078155518; time = 27.174158096313477\n",
      "Train: Epoch 568; err = 692.5001242160797; time = 27.036653518676758\n",
      "Train: Epoch 569; err = 692.3350060582161; time = 27.114145517349243\n"
     ]
    },
    {
     "name": "stdout",
     "output_type": "stream",
     "text": [
      "0.00021198584153138007\n",
      "tensor([1.4491e-04, 1.2839e-05, 9.9984e-01], device='cuda:0',\n",
      "       grad_fn=<MeanBackward1>) 0.5515450239181519\n",
      "Train: Epoch 570; err = 692.0776328444481; time = 27.08012890815735\n",
      "Train: Epoch 571; err = 691.9771090745926; time = 26.993127822875977\n",
      "Train: Epoch 572; err = 692.0697584748268; time = 27.06413459777832\n",
      "Train: Epoch 573; err = 693.3424463868141; time = 27.137150287628174\n",
      "Train: Epoch 574; err = 691.9604591727257; time = 27.010121822357178\n",
      "Train: Epoch 575; err = 692.3866448998451; time = 27.038127660751343\n",
      "Train: Epoch 576; err = 692.2289009094238; time = 27.175158977508545\n",
      "Train: Epoch 577; err = 692.8636382818222; time = 26.91910171508789\n",
      "Train: Epoch 578; err = 691.6376814842224; time = 27.11291265487671\n",
      "Train: Epoch 579; err = 692.8581780791283; time = 27.093148708343506\n",
      "Train: Epoch 580; err = 691.8309137225151; time = 27.083146333694458\n",
      "Train: Epoch 581; err = 691.4247442483902; time = 27.00898289680481\n",
      "Train: Epoch 582; err = 691.9700686335564; time = 27.040128707885742\n",
      "Train: Epoch 583; err = 692.7266070246696; time = 26.97711420059204\n",
      "Train: Epoch 584; err = 691.7201408147812; time = 26.993128061294556\n",
      "0.00020350640787012485\n",
      "tensor([0.0169, 0.0144, 0.9687], device='cuda:0', grad_fn=<MeanBackward1>) 0.5735877752304077\n",
      "Train: Epoch 585; err = 692.3452550768852; time = 27.006112098693848\n",
      "Train: Epoch 586; err = 691.4497969150543; time = 27.025134086608887\n",
      "Train: Epoch 587; err = 691.7702195048332; time = 27.0271258354187\n",
      "Train: Epoch 588; err = 691.4925272464752; time = 26.996119022369385\n",
      "Train: Epoch 589; err = 691.9668695926666; time = 26.998119354248047\n",
      "Train: Epoch 590; err = 691.6934775710106; time = 26.91810131072998\n",
      "Train: Epoch 591; err = 691.9422860741615; time = 27.008121967315674\n",
      "Train: Epoch 592; err = 691.9208602309227; time = 27.04813051223755\n",
      "Train: Epoch 593; err = 691.654546558857; time = 26.981115341186523\n",
      "Train: Epoch 594; err = 691.8006474375725; time = 26.95210862159729\n",
      "Train: Epoch 595; err = 691.276681303978; time = 27.11014437675476\n",
      "Train: Epoch 596; err = 691.5619278550148; time = 27.108144521713257\n",
      "Train: Epoch 597; err = 691.8348655104637; time = 27.08715009689331\n",
      "Train: Epoch 598; err = 690.5602585673332; time = 27.037127256393433\n",
      "Train: Epoch 599; err = 691.2408550977707; time = 27.165156602859497\n",
      "0.00019536615155531985\n",
      "tensor([7.6950e-05, 4.3444e-02, 9.5648e-01], device='cuda:0',\n",
      "       grad_fn=<MeanBackward1>) 0.5878587961196899\n",
      "Train: Epoch 600; err = 690.7197341918945; time = 27.146144151687622\n",
      "Train: Epoch 601; err = 691.284359395504; time = 26.99212670326233\n",
      "Train: Epoch 602; err = 691.8439474701881; time = 27.004120349884033\n",
      "Train: Epoch 603; err = 691.9862701296806; time = 27.124147653579712\n",
      "Train: Epoch 604; err = 690.5878388285637; time = 27.013129949569702\n",
      "Train: Epoch 605; err = 690.912604868412; time = 27.158154010772705\n",
      "Train: Epoch 606; err = 691.167093873024; time = 27.910318613052368\n",
      "Train: Epoch 607; err = 691.289139688015; time = 27.014122486114502\n",
      "Train: Epoch 608; err = 691.2365880608559; time = 27.115145683288574\n",
      "Train: Epoch 609; err = 690.8658298254013; time = 27.07913589477539\n",
      "Train: Epoch 610; err = 690.6130831241608; time = 27.06313419342041\n",
      "Train: Epoch 611; err = 691.4093673229218; time = 26.989116668701172\n",
      "Train: Epoch 612; err = 690.966636121273; time = 26.956109285354614\n",
      "Train: Epoch 613; err = 690.5080786943436; time = 27.023134469985962\n",
      "Train: Epoch 614; err = 690.6036503314972; time = 26.975103855133057\n",
      "0.00018755150549310706\n",
      "tensor([8.3464e-02, 4.5594e-06, 9.1653e-01], device='cuda:0',\n",
      "       grad_fn=<MeanBackward1>) 0.6326055526733398\n",
      "Train: Epoch 615; err = 690.9581986665726; time = 27.02011466026306\n",
      "Train: Epoch 616; err = 690.7329912781715; time = 26.95911931991577\n",
      "Train: Epoch 617; err = 690.4797117114067; time = 26.98911738395691\n",
      "Train: Epoch 618; err = 690.631473839283; time = 27.009121656417847\n",
      "Train: Epoch 619; err = 691.1728140711784; time = 26.935097694396973\n",
      "Train: Epoch 620; err = 690.3518342971802; time = 27.14615297317505\n",
      "Train: Epoch 621; err = 691.0095371007919; time = 27.011122465133667\n",
      "Train: Epoch 622; err = 691.5495188236237; time = 26.963111400604248\n",
      "Train: Epoch 623; err = 690.8952981829643; time = 27.05913281440735\n",
      "Train: Epoch 624; err = 690.3797250986099; time = 26.958110332489014\n",
      "Train: Epoch 625; err = 691.4178976416588; time = 26.96411156654358\n",
      "Train: Epoch 626; err = 690.4912847280502; time = 27.119139671325684\n",
      "Train: Epoch 627; err = 690.181827545166; time = 27.059133291244507\n",
      "Train: Epoch 628; err = 690.4645067453384; time = 26.952118396759033\n",
      "Train: Epoch 629; err = 689.9288553595543; time = 26.9991192817688\n",
      "0.00018004944527338278\n",
      "tensor([0.1117, 0.0782, 0.8101], device='cuda:0', grad_fn=<MeanBackward1>) 0.7326602935791016\n",
      "Train: Epoch 630; err = 690.1853469610214; time = 27.039119005203247\n",
      "Train: Epoch 631; err = 690.3605383634567; time = 26.998128652572632\n",
      "Train: Epoch 632; err = 690.0447225570679; time = 27.010928630828857\n",
      "Train: Epoch 633; err = 690.430198609829; time = 27.04012131690979\n",
      "Train: Epoch 634; err = 689.8907288312912; time = 27.010617971420288\n",
      "Train: Epoch 635; err = 690.018680691719; time = 26.957117319107056\n",
      "Train: Epoch 636; err = 690.2149741053581; time = 27.02512526512146\n",
      "Train: Epoch 637; err = 690.6424812674522; time = 27.030126571655273\n",
      "Train: Epoch 638; err = 690.2138304710388; time = 27.054132223129272\n",
      "Train: Epoch 639; err = 689.6250033974648; time = 26.99011754989624\n",
      "Train: Epoch 640; err = 690.1217216849327; time = 26.998667240142822\n",
      "Train: Epoch 641; err = 689.6597636342049; time = 26.9993257522583\n",
      "Train: Epoch 642; err = 689.9348703026772; time = 27.12298011779785\n",
      "Train: Epoch 643; err = 689.4260509610176; time = 26.9421067237854\n"
     ]
    }
   ],
   "source": [
    "_ = dev_color_mod.fit(dev_cols_train, dev_seqs_train)"
   ]
  },
  {
   "cell_type": "code",
   "execution_count": 23,
   "metadata": {},
   "outputs": [],
   "source": [
    "#import torch\n",
    "#torch.cuda.empty_cache()\n",
    "test_preds = dev_color_mod.predict(dev_cols_test, dev_seqs_test)\n",
    "#dev_color_mod.predict(dev_cols_test, dev_seqs_test, probabilities=True)\n",
    "train_preds = dev_color_mod.predict(dev_cols_train, dev_seqs_train)\n",
    "#dev_color_mod.predict(dev_cols_test, dev_seqs_test, probabilities=True)"
   ]
  },
  {
   "cell_type": "code",
   "execution_count": 24,
   "metadata": {},
   "outputs": [
    {
     "name": "stdout",
     "output_type": "stream",
     "text": [
      "test 9425 / 11749 0.8021959315686441\n",
      "train 32484 / 35245 0.9216626471839977\n"
     ]
    }
   ],
   "source": [
    "correct = sum([1 if x == 2 else 0 for x in test_preds])\n",
    "print(\"test\", correct, \"/\", len(test_preds), correct/len(test_preds))\n",
    "correct = sum([1 if x == 2 else 0 for x in train_preds])\n",
    "print(\"train\", correct, \"/\", len(train_preds), correct/len(train_preds))"
   ]
  },
  {
   "cell_type": "code",
   "execution_count": 21,
   "metadata": {},
   "outputs": [],
   "source": [
    "dev_color_mod.save_model(\"literal_listener_with_attention.pt\")"
   ]
  },
  {
   "cell_type": "code",
   "execution_count": null,
   "metadata": {},
   "outputs": [],
   "source": [
    "def save_to_pickle():\n",
    "    import pickle \n",
    "\n",
    "    with open('dev_vocab.pickle', 'wb') as handle:\n",
    "        pickle.dump(dev_vocab, handle, protocol=pickle.HIGHEST_PROTOCOL)\n",
    "    with open('dev_seqs_test.pickle', 'wb') as handle:\n",
    "        pickle.dump(dev_seqs_test, handle, protocol=pickle.HIGHEST_PROTOCOL)\n",
    "    with open('dev_seqs_train.pickle', 'wb') as handle:\n",
    "        pickle.dump(dev_seqs_train, handle, protocol=pickle.HIGHEST_PROTOCOL)\n",
    "    with open('dev_cols_test.pickle', 'wb') as handle:\n",
    "        pickle.dump(dev_cols_test, handle, protocol=pickle.HIGHEST_PROTOCOL)\n",
    "    with open('dev_cols_train.pickle', 'wb') as handle:\n",
    "        pickle.dump(dev_cols_train, handle, protocol=pickle.HIGHEST_PROTOCOL)\n",
    "    with open('embedding.pickle', 'wb') as handle:\n",
    "        pickle.dump(embedding, handle, protocol=pickle.HIGHEST_PROTOCOL)\n",
    "#save_to_pickle()"
   ]
  },
  {
   "cell_type": "code",
   "execution_count": null,
   "metadata": {},
   "outputs": [],
   "source": []
  }
 ],
 "metadata": {
  "kernelspec": {
   "display_name": "Python 3",
   "language": "python",
   "name": "python3"
  },
  "language_info": {
   "codemirror_mode": {
    "name": "ipython",
    "version": 3
   },
   "file_extension": ".py",
   "mimetype": "text/x-python",
   "name": "python",
   "nbconvert_exporter": "python",
   "pygments_lexer": "ipython3",
   "version": "3.7.4"
  }
 },
 "nbformat": 4,
 "nbformat_minor": 2
}
