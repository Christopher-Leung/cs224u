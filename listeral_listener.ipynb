{
 "cells": [
  {
   "cell_type": "markdown",
   "metadata": {},
   "source": [
    "# Literal Listener"
   ]
  },
  {
   "cell_type": "markdown",
   "metadata": {},
   "source": [
    "## Set-up"
   ]
  },
  {
   "cell_type": "markdown",
   "metadata": {},
   "source": [
    "See [colors_overview.ipynb](colors_overview.ipynb) for set-up in instructions and other background details."
   ]
  },
  {
   "cell_type": "code",
   "execution_count": 1,
   "metadata": {},
   "outputs": [],
   "source": [
    "from colors import ColorsCorpusReader\n",
    "import os\n",
    "from sklearn.model_selection import train_test_split\n",
    "from torch_color_selector import (\n",
    "    ColorizedNeuralListener, create_example_dataset)\n",
    "import utils\n",
    "from utils import START_SYMBOL, END_SYMBOL, UNK_SYMBOL\n",
    "import numpy as np"
   ]
  },
  {
   "cell_type": "code",
   "execution_count": 2,
   "metadata": {},
   "outputs": [],
   "source": [
    "utils.fix_random_seeds()"
   ]
  },
  {
   "cell_type": "code",
   "execution_count": 3,
   "metadata": {},
   "outputs": [],
   "source": [
    "COLORS_SRC_FILENAME = os.path.join(\n",
    "    \"data\", \"colors\", \"filteredCorpus.csv\")"
   ]
  },
  {
   "cell_type": "markdown",
   "metadata": {},
   "source": [
    "## Dataset"
   ]
  },
  {
   "cell_type": "code",
   "execution_count": 4,
   "metadata": {},
   "outputs": [],
   "source": [
    "# This variable will toggle whether we're training the listener or the listener-hallucinating speaker\n",
    "agent = 'speaker'"
   ]
  },
  {
   "cell_type": "code",
   "execution_count": 5,
   "metadata": {},
   "outputs": [],
   "source": [
    "def load_from_pickle():\n",
    "    import pickle \n",
    "    with open('dev_vocab_'+agent+'.pickle', 'rb') as handle:\n",
    "        dev_vocab = pickle.load(handle)\n",
    "    with open('dev_seqs_test.pickle', 'rb') as handle:\n",
    "        dev_seqs_test = pickle.load(handle)\n",
    "    with open('dev_seqs_train_'+agent+'.pickle', 'rb') as handle:\n",
    "        dev_seqs_train = pickle.load(handle)\n",
    "    with open('dev_cols_test.pickle', 'rb') as handle:\n",
    "        dev_cols_test = pickle.load(handle)\n",
    "    with open('dev_cols_train_'+agent+'.pickle', 'rb') as handle:\n",
    "        dev_cols_train = pickle.load(handle)\n",
    "    with open('embedding.pickle', 'rb') as handle:\n",
    "        embedding = pickle.load(handle)\n",
    "    return dev_vocab, dev_seqs_test, dev_seqs_train, dev_cols_test, dev_cols_train, embedding\n",
    "\n",
    "dev_vocab, dev_seqs_test, dev_seqs_train, dev_cols_test, dev_cols_train, embedding = load_from_pickle()"
   ]
  },
  {
   "cell_type": "markdown",
   "metadata": {},
   "source": [
    "## Initial model\n",
    "\n",
    "The first model is configured right now to be a small model run for just a few iterations. It should be enough to get traction, but it's unlikely to be a great model. You are free to modify this configuration if you wish; it is here just for demonstration and testing:"
   ]
  },
  {
   "cell_type": "code",
   "execution_count": 6,
   "metadata": {},
   "outputs": [
    {
     "name": "stdout",
     "output_type": "stream",
     "text": [
      "Using cuda\n"
     ]
    }
   ],
   "source": [
    "dev_mod = ColorizedNeuralListener(\n",
    "    dev_vocab, \n",
    "    embed_dim=10, \n",
    "    hidden_dim=10, \n",
    "    max_iter=5, \n",
    "    batch_size=128)"
   ]
  },
  {
   "cell_type": "code",
   "execution_count": 7,
   "metadata": {},
   "outputs": [],
   "source": [
    "#_ = dev_mod.fit(dev_cols_train, dev_seqs_train)"
   ]
  },
  {
   "cell_type": "markdown",
   "metadata": {},
   "source": [
    "We can also see the model's predicted sequences given color context inputs:"
   ]
  },
  {
   "cell_type": "code",
   "execution_count": 8,
   "metadata": {},
   "outputs": [],
   "source": [
    "#dev_mod.predict(dev_cols_test[:1], dev_seqs_train[:1])"
   ]
  },
  {
   "cell_type": "markdown",
   "metadata": {},
   "source": [
    "As discussed in [colors_overview.ipynb](colors_overview.ipynb), our primary metric is `listener_accuracy`:"
   ]
  },
  {
   "cell_type": "code",
   "execution_count": 9,
   "metadata": {},
   "outputs": [],
   "source": [
    "#dev_mod.listener_accuracy(dev_cols_test, dev_seqs_test)"
   ]
  },
  {
   "cell_type": "code",
   "execution_count": 10,
   "metadata": {},
   "outputs": [],
   "source": [
    "#dev_seqs_train[:1]"
   ]
  },
  {
   "cell_type": "markdown",
   "metadata": {},
   "source": [
    "## Generate Embeddings"
   ]
  },
  {
   "cell_type": "code",
   "execution_count": 11,
   "metadata": {},
   "outputs": [],
   "source": [
    "embedding = np.random.normal(\n",
    "            loc=0, scale=0.01, size=(len(dev_vocab), 100))"
   ]
  },
  {
   "cell_type": "markdown",
   "metadata": {},
   "source": [
    "## Literal Listener"
   ]
  },
  {
   "cell_type": "markdown",
   "metadata": {},
   "source": [
    "Let's start with the toy dataset."
   ]
  },
  {
   "cell_type": "code",
   "execution_count": 12,
   "metadata": {},
   "outputs": [],
   "source": [
    "toy_color_seqs, toy_word_seqs, toy_vocab = create_example_dataset(\n",
    "    group_size=50, vec_dim=2)"
   ]
  },
  {
   "cell_type": "code",
   "execution_count": 13,
   "metadata": {},
   "outputs": [],
   "source": [
    "toy_color_seqs_train, toy_color_seqs_test, toy_word_seqs_train, toy_word_seqs_test = \\\n",
    "    train_test_split(toy_color_seqs, toy_word_seqs)"
   ]
  },
  {
   "cell_type": "code",
   "execution_count": 14,
   "metadata": {},
   "outputs": [
    {
     "name": "stdout",
     "output_type": "stream",
     "text": [
      "Using cuda\n"
     ]
    }
   ],
   "source": [
    "toy_mod = ColorizedNeuralListener(\n",
    "    toy_vocab, \n",
    "    embed_dim=100, \n",
    "    embedding=embedding,\n",
    "    hidden_dim=100, \n",
    "    max_iter=100, \n",
    "    batch_size=128)"
   ]
  },
  {
   "cell_type": "code",
   "execution_count": 15,
   "metadata": {},
   "outputs": [
    {
     "name": "stdout",
     "output_type": "stream",
     "text": [
      "ColorizedNeuralListenerEncoder cpu\n",
      "ColorizedNeuralListenerEncoderDecoder cpu\n",
      "Train: Epoch 1; err = 1.0985796451568604; time = 2.127473831176758\n",
      "Train: Epoch 2; err = 1.0909310579299927; time = 0.02800583839416504\n",
      "Train: Epoch 3; err = 1.0653038024902344; time = 0.027005910873413086\n",
      "Train: Epoch 4; err = 1.0412218570709229; time = 0.02700638771057129\n",
      "Train: Epoch 5; err = 1.0006825923919678; time = 0.027006149291992188\n",
      "Train: Epoch 6; err = 0.9714384078979492; time = 0.027005672454833984\n",
      "Train: Epoch 7; err = 0.9277397990226746; time = 0.02700638771057129\n",
      "Train: Epoch 8; err = 0.8961005210876465; time = 0.02800607681274414\n",
      "Train: Epoch 9; err = 0.8725563883781433; time = 0.025005817413330078\n",
      "Train: Epoch 10; err = 0.8725194334983826; time = 0.02800583839416504\n",
      "Train: Epoch 11; err = 0.8169789910316467; time = 0.02300572395324707\n",
      "Train: Epoch 12; err = 0.9166122078895569; time = 0.025005578994750977\n",
      "Train: Epoch 13; err = 0.8028489947319031; time = 0.02400493621826172\n",
      "Train: Epoch 14; err = 0.8334940075874329; time = 0.02500605583190918\n",
      "0.01\n",
      "tensor([0.0095, 0.2805, 0.7100], grad_fn=<MeanBackward1>) 0.8154234886169434\n",
      "Train: Epoch 15; err = 0.8154234886169434; time = 0.029006242752075195\n",
      "Train: Epoch 16; err = 0.7422590851783752; time = 0.024004459381103516\n",
      "Train: Epoch 17; err = 0.8748974204063416; time = 0.024005413055419922\n",
      "Train: Epoch 18; err = 0.8886842131614685; time = 0.023005008697509766\n",
      "Train: Epoch 19; err = 0.8890599012374878; time = 0.023005247116088867\n",
      "Train: Epoch 20; err = 0.8867107033729553; time = 0.022005081176757812\n",
      "Train: Epoch 21; err = 0.8823946118354797; time = 0.02600574493408203\n",
      "Train: Epoch 22; err = 0.8695598840713501; time = 0.0290071964263916\n",
      "Train: Epoch 23; err = 0.7603340148925781; time = 0.03000640869140625\n",
      "Train: Epoch 24; err = 0.8841742277145386; time = 0.025005578994750977\n",
      "Train: Epoch 25; err = 1.1369664669036865; time = 0.025005817413330078\n",
      "Train: Epoch 26; err = 0.8979364633560181; time = 0.024005413055419922\n",
      "Train: Epoch 27; err = 0.8819624781608582; time = 0.024005651473999023\n",
      "Train: Epoch 28; err = 0.8819225430488586; time = 0.02300572395324707\n",
      "Train: Epoch 29; err = 0.8819094300270081; time = 0.023005247116088867\n",
      "0.01\n",
      "tensor([8.2033e-08, 3.3066e-01, 6.6934e-01], grad_fn=<MeanBackward1>) 0.8819039463996887\n",
      "Train: Epoch 30; err = 0.8819039463996887; time = 0.027006149291992188\n",
      "Train: Epoch 31; err = 0.8819052577018738; time = 0.025005102157592773\n",
      "Train: Epoch 32; err = 0.8819111585617065; time = 0.02200460433959961\n",
      "Train: Epoch 33; err = 0.8819184899330139; time = 0.023005247116088867\n",
      "Train: Epoch 34; err = 0.881925106048584; time = 0.02300572395324707\n",
      "Train: Epoch 35; err = 0.8819303512573242; time = 0.02300548553466797\n",
      "Train: Epoch 36; err = 0.8819336891174316; time = 0.022004365921020508\n",
      "Train: Epoch 37; err = 0.8819356560707092; time = 0.024005889892578125\n",
      "Train: Epoch 38; err = 0.8819358944892883; time = 0.024005651473999023\n",
      "Train: Epoch 39; err = 0.8819348216056824; time = 0.023005247116088867\n",
      "Train: Epoch 40; err = 0.8819328546524048; time = 0.02300548553466797\n",
      "Train: Epoch 41; err = 0.8819299936294556; time = 0.02300548553466797\n",
      "Train: Epoch 42; err = 0.881926417350769; time = 0.025005102157592773\n",
      "Train: Epoch 43; err = 0.8819228410720825; time = 0.023004531860351562\n",
      "Train: Epoch 44; err = 0.8819184303283691; time = 0.025005340576171875\n",
      "0.01\n",
      "tensor([3.4524e-08, 3.3061e-01, 6.6940e-01], grad_fn=<MeanBackward1>) 0.881913959980011\n",
      "Train: Epoch 45; err = 0.881913959980011; time = 0.027006149291992188\n",
      "Train: Epoch 46; err = 0.8819097876548767; time = 0.023005247116088867\n",
      "Train: Epoch 47; err = 0.8819051384925842; time = 0.025005817413330078\n",
      "Train: Epoch 48; err = 0.8819003701210022; time = 0.024005889892578125\n",
      "Train: Epoch 49; err = 0.8818960785865784; time = 0.02600574493408203\n",
      "Train: Epoch 50; err = 0.8818913102149963; time = 0.02600574493408203\n",
      "Train: Epoch 51; err = 0.8818866610527039; time = 0.025005817413330078\n",
      "Train: Epoch 52; err = 0.8818820714950562; time = 0.025005817413330078\n",
      "Train: Epoch 53; err = 0.8818777203559875; time = 0.023005962371826172\n",
      "Train: Epoch 54; err = 0.8818734884262085; time = 0.02400517463684082\n",
      "Train: Epoch 55; err = 0.881868839263916; time = 0.023005247116088867\n",
      "Train: Epoch 56; err = 0.881864607334137; time = 0.02700638771057129\n",
      "Train: Epoch 57; err = 0.8818604350090027; time = 0.02300572395324707\n",
      "Train: Epoch 58; err = 0.8818560242652893; time = 0.02400517463684082\n",
      "Train: Epoch 59; err = 0.8818514943122864; time = 0.024004220962524414\n",
      "0.01\n",
      "tensor([1.2846e-08, 3.3049e-01, 6.6951e-01], grad_fn=<MeanBackward1>) 0.8818464875221252\n",
      "Train: Epoch 60; err = 0.8818464875221252; time = 0.030006885528564453\n",
      "Train: Epoch 61; err = 0.8818420767784119; time = 0.02400493621826172\n",
      "Train: Epoch 62; err = 0.881837010383606; time = 0.024005413055419922\n",
      "Train: Epoch 63; err = 0.8818315863609314; time = 0.023005008697509766\n",
      "Train: Epoch 64; err = 0.8818260431289673; time = 0.02300429344177246\n",
      "Train: Epoch 65; err = 0.881820023059845; time = 0.023005247116088867\n",
      "Train: Epoch 66; err = 0.8818134069442749; time = 0.024005651473999023\n",
      "Train: Epoch 67; err = 0.881805956363678; time = 0.02700662612915039\n",
      "Train: Epoch 68; err = 0.8817974925041199; time = 0.025005817413330078\n",
      "Train: Epoch 69; err = 0.8817877769470215; time = 0.027006149291992188\n",
      "Train: Epoch 70; err = 0.881776750087738; time = 0.02800607681274414\n",
      "Train: Epoch 71; err = 0.8817629814147949; time = 0.024005889892578125\n",
      "Train: Epoch 72; err = 0.8817463517189026; time = 0.025005578994750977\n",
      "Train: Epoch 73; err = 0.8817251920700073; time = 0.02700662612915039\n",
      "Train: Epoch 74; err = 0.881697952747345; time = 0.025005340576171875\n",
      "0.01\n",
      "tensor([2.7847e-08, 3.3035e-01, 6.6965e-01], grad_fn=<MeanBackward1>) 0.8816614747047424\n",
      "Train: Epoch 75; err = 0.8816614747047424; time = 0.032007455825805664\n",
      "Train: Epoch 76; err = 0.8816106915473938; time = 0.029005765914916992\n",
      "Train: Epoch 77; err = 0.8815353512763977; time = 0.029006242752075195\n",
      "Train: Epoch 78; err = 0.8814164400100708; time = 0.02700662612915039\n",
      "Train: Epoch 79; err = 0.8812108635902405; time = 0.02700662612915039\n",
      "Train: Epoch 80; err = 0.8808009028434753; time = 0.02800607681274414\n",
      "Train: Epoch 81; err = 0.8797748684883118; time = 0.023004770278930664\n",
      "Train: Epoch 82; err = 0.8757700324058533; time = 0.024004697799682617\n",
      "Train: Epoch 83; err = 0.8270698189735413; time = 0.024006128311157227\n",
      "Train: Epoch 84; err = 0.8834822773933411; time = 0.024005413055419922\n",
      "Train: Epoch 85; err = 0.9017194509506226; time = 0.024005413055419922\n",
      "Train: Epoch 86; err = 1.0521782636642456; time = 0.027006864547729492\n",
      "Train: Epoch 87; err = 0.940197765827179; time = 0.023005247116088867\n",
      "Train: Epoch 88; err = 0.8883469700813293; time = 0.022005319595336914\n",
      "Train: Epoch 89; err = 0.8828867673873901; time = 0.023005247116088867\n",
      "0.01\n",
      "tensor([3.2975e-01, 4.2675e-04, 6.6983e-01], grad_fn=<MeanBackward1>) 0.8812413811683655\n",
      "Train: Epoch 90; err = 0.8812413811683655; time = 0.030005931854248047\n",
      "Train: Epoch 91; err = 0.8302544355392456; time = 0.02400517463684082\n",
      "Train: Epoch 92; err = 0.8811059594154358; time = 0.02300548553466797\n",
      "Train: Epoch 93; err = 0.8818210959434509; time = 0.024005413055419922\n",
      "Train: Epoch 94; err = 0.8836768269538879; time = 0.02300548553466797\n",
      "Train: Epoch 95; err = 1.2027816772460938; time = 0.02300572395324707\n",
      "Train: Epoch 96; err = 1.203275442123413; time = 0.022005558013916016\n",
      "Train: Epoch 97; err = 1.2032970190048218; time = 0.02300548553466797\n",
      "Train: Epoch 98; err = 1.2033308744430542; time = 0.022005319595336914\n",
      "Train: Epoch 99; err = 1.2033804655075073; time = 0.023004531860351562\n",
      "Train: Epoch 100; err = 1.2034486532211304; time = 0.023005008697509766\n"
     ]
    }
   ],
   "source": [
    "_ = toy_mod.fit(toy_color_seqs_train, toy_word_seqs_train)"
   ]
  },
  {
   "cell_type": "code",
   "execution_count": 16,
   "metadata": {},
   "outputs": [
    {
     "name": "stdout",
     "output_type": "stream",
     "text": [
      "11 / 38 0.2894736842105263\n"
     ]
    }
   ],
   "source": [
    "preds = toy_mod.predict(toy_color_seqs_test, toy_word_seqs_test)\n",
    "correct = sum([1 if x == 2 else 0 for x in preds])\n",
    "print(correct, \"/\", len(preds), correct/len(preds))"
   ]
  },
  {
   "cell_type": "markdown",
   "metadata": {},
   "source": [
    "If that worked, then you can now try this model on SCC problems!"
   ]
  },
  {
   "cell_type": "code",
   "execution_count": 17,
   "metadata": {},
   "outputs": [
    {
     "name": "stdout",
     "output_type": "stream",
     "text": [
      "Using cuda\n"
     ]
    }
   ],
   "source": [
    "dev_color_mod = ColorizedNeuralListener(\n",
    "    dev_vocab,\n",
    "    embed_dim=100,\n",
    "    embedding=embedding,\n",
    "    hidden_dim=100, \n",
    "    max_iter=100,\n",
    "    batch_size=32,\n",
    "    dropout_prob=0.,\n",
    "    eta=0.001,\n",
    "    lr_rate=0.96,\n",
    "    warm_start=True,\n",
    "    device='cuda')\n",
    "# Uncomment line if you want to continue training the previous model\n",
    "# literal_listener.load_model(\"literal_listener.pt\")\n"
   ]
  },
  {
   "cell_type": "code",
   "execution_count": 18,
   "metadata": {},
   "outputs": [
    {
     "name": "stdout",
     "output_type": "stream",
     "text": [
      "ColorizedNeuralListenerEncoder cuda\n",
      "ColorizedNeuralListenerEncoderDecoder cuda\n"
     ]
    },
    {
     "name": "stderr",
     "output_type": "stream",
     "text": [
      "C:\\Users\\Chris\\Github\\cs224u\\torch_color_selector.py:77: ComplexWarning: Casting complex values to real discards the imaginary part\n",
      "  color_seqs = torch.FloatTensor(color_seqs)\n"
     ]
    },
    {
     "name": "stdout",
     "output_type": "stream",
     "text": [
      "Train: Epoch 1; err = 581.3406069278717; time = 15.014360427856445\n",
      "Train: Epoch 2; err = 533.6950891017914; time = 14.874318361282349\n",
      "Train: Epoch 3; err = 517.7756766676903; time = 15.107369661331177\n",
      "Train: Epoch 4; err = 507.24547374248505; time = 14.967339277267456\n",
      "Train: Epoch 5; err = 499.4843147993088; time = 14.547255277633667\n",
      "Train: Epoch 6; err = 496.27277106046677; time = 14.581241846084595\n",
      "Train: Epoch 7; err = 490.329795897007; time = 14.60525894165039\n",
      "Train: Epoch 8; err = 497.0830498933792; time = 14.471238613128662\n",
      "Train: Epoch 9; err = 484.0396258831024; time = 15.058359146118164\n",
      "Train: Epoch 10; err = 482.9984503388405; time = 14.741277933120728\n",
      "Train: Epoch 11; err = 477.67922580242157; time = 14.498224020004272\n",
      "Train: Epoch 12; err = 475.7627447247505; time = 14.43122911453247\n",
      "Train: Epoch 13; err = 483.3060376048088; time = 14.620261669158936\n",
      "Train: Epoch 14; err = 473.72228223085403; time = 14.64025616645813\n",
      "0.00096\n",
      "tensor([0.1595, 0.1872, 0.6532], device='cuda:0', grad_fn=<MeanBackward1>) 0.8532174825668335\n",
      "Train: Epoch 15; err = 470.8236101269722; time = 15.26240348815918\n",
      "Train: Epoch 16; err = 468.71981769800186; time = 17.463895559310913\n",
      "Train: Epoch 17; err = 466.6483898162842; time = 17.44290041923523\n",
      "Train: Epoch 18; err = 470.66598373651505; time = 17.783952713012695\n",
      "Train: Epoch 19; err = 464.2488425374031; time = 17.828975915908813\n",
      "Train: Epoch 20; err = 464.2742655277252; time = 15.697501420974731\n",
      "Train: Epoch 21; err = 462.4110772013664; time = 21.318756818771362\n",
      "Train: Epoch 22; err = 460.75010001659393; time = 18.51512861251831\n",
      "Train: Epoch 23; err = 459.88560223579407; time = 20.045471668243408\n",
      "Train: Epoch 24; err = 462.3607236146927; time = 19.62837862968445\n",
      "Train: Epoch 25; err = 457.2225825190544; time = 19.021254301071167\n",
      "Train: Epoch 26; err = 456.54439717531204; time = 15.985576152801514\n",
      "Train: Epoch 27; err = 456.5037686228752; time = 15.59048867225647\n",
      "Train: Epoch 28; err = 454.00100523233414; time = 15.249401092529297\n",
      "Train: Epoch 29; err = 453.6763869524002; time = 17.73396611213684\n",
      "0.0009216\n",
      "tensor([0.2411, 0.0977, 0.6613], device='cuda:0', grad_fn=<MeanBackward1>) 0.8450981378555298\n",
      "Train: Epoch 30; err = 453.2268823981285; time = 17.57192039489746\n",
      "Train: Epoch 31; err = 451.65949791669846; time = 18.703182697296143\n",
      "Train: Epoch 32; err = 450.23584908246994; time = 18.444114446640015\n",
      "Train: Epoch 33; err = 452.27761924266815; time = 17.672953128814697\n",
      "Train: Epoch 34; err = 448.6212695837021; time = 15.806525945663452\n",
      "Train: Epoch 35; err = 448.4203996658325; time = 16.318639278411865\n",
      "Train: Epoch 36; err = 446.49179220199585; time = 18.25207209587097\n",
      "Train: Epoch 37; err = 446.3263121843338; time = 18.57113289833069\n",
      "Train: Epoch 38; err = 446.0669345855713; time = 18.3410906791687\n",
      "Train: Epoch 39; err = 447.13380044698715; time = 17.14182424545288\n",
      "Train: Epoch 40; err = 444.8644443154335; time = 18.187057495117188\n",
      "Train: Epoch 41; err = 442.9867453575134; time = 17.50290298461914\n",
      "Train: Epoch 42; err = 446.30429297685623; time = 17.16482973098755\n",
      "Train: Epoch 43; err = 442.53455114364624; time = 17.631932497024536\n",
      "Train: Epoch 44; err = 442.2715240120888; time = 17.112817525863647\n",
      "0.0008847359999999999\n",
      "tensor([0.2283, 0.1226, 0.6491], device='cuda:0', grad_fn=<MeanBackward1>) 0.8725727796554565\n",
      "Train: Epoch 45; err = 444.48083287477493; time = 17.41588592529297\n",
      "Train: Epoch 46; err = 439.4573929309845; time = 17.9440016746521\n",
      "Train: Epoch 47; err = 438.1805664896965; time = 15.453447341918945\n",
      "Train: Epoch 48; err = 437.77361911535263; time = 15.170384407043457\n",
      "Train: Epoch 49; err = 438.33882188796997; time = 15.112381935119629\n",
      "Train: Epoch 50; err = 437.1687170267105; time = 15.593467950820923\n",
      "Train: Epoch 51; err = 436.54385590553284; time = 15.474452495574951\n",
      "Train: Epoch 52; err = 437.7855783700943; time = 15.761516571044922\n",
      "Train: Epoch 53; err = 434.8806896209717; time = 15.89954686164856\n",
      "Train: Epoch 54; err = 433.6387462615967; time = 15.361427068710327\n",
      "Train: Epoch 55; err = 433.40611869096756; time = 15.492446184158325\n",
      "Train: Epoch 56; err = 433.403201341629; time = 15.083364963531494\n",
      "Train: Epoch 57; err = 434.1386687755585; time = 15.534455060958862\n",
      "Train: Epoch 58; err = 432.4322273135185; time = 14.919317245483398\n",
      "Train: Epoch 59; err = 430.10432052612305; time = 15.119382619857788\n",
      "0.0008493465599999999\n",
      "tensor([0.1150, 0.0868, 0.7982], device='cuda:0', grad_fn=<MeanBackward1>) 0.7174973487854004\n",
      "Train: Epoch 60; err = 430.3499144911766; time = 15.7575044631958\n",
      "Train: Epoch 61; err = 428.71825844049454; time = 15.744511842727661\n",
      "Train: Epoch 62; err = 428.7768542766571; time = 15.532464027404785\n",
      "Train: Epoch 63; err = 426.73686784505844; time = 16.798748254776\n",
      "Train: Epoch 64; err = 429.1894906759262; time = 17.145814418792725\n",
      "Train: Epoch 65; err = 426.11249345541; time = 16.397667407989502\n",
      "Train: Epoch 66; err = 426.2784631848335; time = 14.211170196533203\n",
      "Train: Epoch 67; err = 421.84862357378006; time = 14.319194316864014\n",
      "Train: Epoch 68; err = 419.83712762594223; time = 14.213170528411865\n",
      "Train: Epoch 69; err = 422.80027347803116; time = 14.290177583694458\n",
      "Train: Epoch 70; err = 420.1520689725876; time = 15.6485013961792\n",
      "Train: Epoch 71; err = 424.56931948661804; time = 15.44544529914856\n",
      "Train: Epoch 72; err = 417.9635254740715; time = 15.086365461349487\n",
      "Train: Epoch 73; err = 418.0704444050789; time = 15.482463598251343\n",
      "Train: Epoch 74; err = 417.3670570254326; time = 15.069361686706543\n",
      "0.0008153726975999999\n",
      "tensor([0.0752, 0.1067, 0.8180], device='cuda:0', grad_fn=<MeanBackward1>) 0.7206599116325378\n",
      "Train: Epoch 75; err = 416.7748731970787; time = 15.941555738449097\n",
      "Train: Epoch 76; err = 415.96968173980713; time = 15.82854151725769\n",
      "Train: Epoch 77; err = 416.2337481379509; time = 17.001792669296265\n",
      "Train: Epoch 78; err = 415.5714014172554; time = 15.513460874557495\n",
      "Train: Epoch 79; err = 415.31157755851746; time = 16.49967074394226\n",
      "Train: Epoch 80; err = 414.01053339242935; time = 14.090143203735352\n",
      "Train: Epoch 81; err = 414.4871162176132; time = 14.104146003723145\n",
      "Train: Epoch 82; err = 412.9233349561691; time = 14.06214690208435\n",
      "Train: Epoch 83; err = 411.1516540646553; time = 14.129152059555054\n",
      "Train: Epoch 84; err = 411.3974502682686; time = 14.127140522003174\n",
      "Train: Epoch 85; err = 411.52352553606033; time = 14.373207092285156\n",
      "Train: Epoch 86; err = 413.46884405612946; time = 14.206178665161133\n",
      "Train: Epoch 87; err = 409.464259326458; time = 14.134142637252808\n",
      "Train: Epoch 88; err = 408.6569290161133; time = 14.06213641166687\n",
      "Train: Epoch 89; err = 409.3194217681885; time = 14.374206781387329\n",
      "0.0007827577896959998\n",
      "tensor([0.1104, 0.1383, 0.7514], device='cuda:0', grad_fn=<MeanBackward1>) 0.7822500467300415\n",
      "Train: Epoch 90; err = 407.3097678422928; time = 14.024127960205078\n",
      "Train: Epoch 91; err = 406.9993096590042; time = 14.220190525054932\n",
      "Train: Epoch 92; err = 406.2545774579048; time = 14.181163311004639\n",
      "Train: Epoch 93; err = 406.56943196058273; time = 14.194176197052002\n",
      "Train: Epoch 94; err = 405.2333030104637; time = 14.439216375350952\n",
      "Train: Epoch 95; err = 407.5319103002548; time = 14.72827434539795\n",
      "Train: Epoch 96; err = 404.36789107322693; time = 14.61526083946228\n",
      "Train: Epoch 97; err = 405.61062347888947; time = 14.67326283454895\n",
      "Train: Epoch 98; err = 410.6512657403946; time = 14.642277240753174\n",
      "Train: Epoch 99; err = 406.43866670131683; time = 14.321194887161255\n",
      "Train: Epoch 100; err = 404.0190746188164; time = 14.202168226242065\n"
     ]
    }
   ],
   "source": [
    "_ = dev_color_mod.fit(dev_cols_train, dev_seqs_train)"
   ]
  },
  {
   "cell_type": "code",
   "execution_count": 19,
   "metadata": {},
   "outputs": [],
   "source": [
    "test_preds = dev_color_mod.predict(dev_cols_test, dev_seqs_test)\n",
    "#dev_color_mod.predict(dev_cols_test, dev_seqs_test, probabilities=True)\n",
    "train_preds = dev_color_mod.predict(dev_cols_train, dev_seqs_train)\n",
    "#dev_color_mod.predict(dev_cols_test, dev_seqs_test, probabilities=True)"
   ]
  },
  {
   "cell_type": "code",
   "execution_count": 20,
   "metadata": {},
   "outputs": [
    {
     "name": "stdout",
     "output_type": "stream",
     "text": [
      "test 8710 / 11749 0.7413396884841263\n",
      "train 14482 / 17623 0.8217670090223004\n"
     ]
    }
   ],
   "source": [
    "correct = sum([1 if x == 2 else 0 for x in test_preds])\n",
    "print(\"test\", correct, \"/\", len(test_preds), correct/len(test_preds))\n",
    "correct = sum([1 if x == 2 else 0 for x in train_preds])\n",
    "print(\"train\", correct, \"/\", len(train_preds), correct/len(train_preds))"
   ]
  },
  {
   "cell_type": "code",
   "execution_count": 21,
   "metadata": {},
   "outputs": [],
   "source": [
    "dev_color_mod.save_model(\"literal_listener_\"+agent+\"_split.pt\")"
   ]
  },
  {
   "cell_type": "code",
   "execution_count": null,
   "metadata": {},
   "outputs": [],
   "source": []
  }
 ],
 "metadata": {
  "kernelspec": {
   "display_name": "Python 3",
   "language": "python",
   "name": "python3"
  },
  "language_info": {
   "codemirror_mode": {
    "name": "ipython",
    "version": 3
   },
   "file_extension": ".py",
   "mimetype": "text/x-python",
   "name": "python",
   "nbconvert_exporter": "python",
   "pygments_lexer": "ipython3",
   "version": "3.7.4"
  }
 },
 "nbformat": 4,
 "nbformat_minor": 2
}
