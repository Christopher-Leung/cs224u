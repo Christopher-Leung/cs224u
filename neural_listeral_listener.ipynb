{
 "cells": [
  {
   "cell_type": "markdown",
   "metadata": {},
   "source": [
    "# Homework and bake-off: pragmatic color descriptions"
   ]
  },
  {
   "cell_type": "code",
   "execution_count": 1,
   "metadata": {},
   "outputs": [],
   "source": [
    "__author__ = \"Christopher Potts\"\n",
    "__version__ = \"CS224u, Stanford, Spring 2020\""
   ]
  },
  {
   "cell_type": "markdown",
   "metadata": {},
   "source": [
    "## Contents\n",
    "\n",
    "1. [Overview](#Overview)\n",
    "1. [Set-up](#Set-up)\n",
    "1. [All two-word examples as a dev corpus](#All-two-word-examples-as-a-dev-corpus)\n",
    "1. [Dev dataset](#Dev-dataset)\n",
    "1. [Random train–test split for development](#Random-train–test-split-for-development)\n",
    "1. [Question 1: Improve the tokenizer [1 point]](#Question-1:-Improve-the-tokenizer-[1-point])\n",
    "1. [Use the tokenizer](#Use-the-tokenizer)\n",
    "1. [Question 2: Improve the color representations [1 point]](#Question-2:-Improve-the-color-representations-[1-point])\n",
    "1. [Use the color representer](#Use-the-color-representer)\n",
    "1. [Initial model](#Initial-model)\n",
    "1. [Question 3: GloVe embeddings [1 points]](#Question-3:-GloVe-embeddings-[1-points])\n",
    "1. [Try the GloVe representations](#Try-the-GloVe-representations)\n",
    "1. [Question 4: Color context [3 points]](#Question-4:-Color-context-[3-points])\n",
    "1. [Your original system [3 points]](#Your-original-system-[3-points])\n",
    "1. [Bakeoff [1 point]](#Bakeoff-[1-point])"
   ]
  },
  {
   "cell_type": "markdown",
   "metadata": {},
   "source": [
    "## Overview\n",
    "\n",
    "This homework and associated bake-off are oriented toward building an effective system for generating color descriptions that are pragmatic in the sense that they would help a reader/listener figure out which color was being referred to in a shared context consisting of a target color (whose identity is known only to the describer/speaker) and a set of distractors.\n",
    "\n",
    "The notebook [colors_overview.ipynb](colors_overview.ipynb) should be studied before work on this homework begins. That notebook provides backgroud on the task, the dataset, and the modeling code that you will be using and adapting.\n",
    "\n",
    "The homework questions are more open-ended than previous ones have been. Rather than asking you to implement pre-defined functionality, they ask you to try to improve baseline components of the full system in ways that you find to be effective. As usual, this culiminates in a prompt asking you to develop a novel system for entry into the bake-off. In this case, though, the work you do for the homework will likely be directly incorporated into that system."
   ]
  },
  {
   "cell_type": "markdown",
   "metadata": {},
   "source": [
    "## Set-up"
   ]
  },
  {
   "cell_type": "markdown",
   "metadata": {},
   "source": [
    "See [colors_overview.ipynb](colors_overview.ipynb) for set-up in instructions and other background details."
   ]
  },
  {
   "cell_type": "code",
   "execution_count": 2,
   "metadata": {},
   "outputs": [],
   "source": [
    "from colors import ColorsCorpusReader\n",
    "import os\n",
    "from sklearn.model_selection import train_test_split\n",
    "from torch_color_selector import (\n",
    "    ColorizedNeuralListener, create_example_dataset)\n",
    "import utils\n",
    "from utils import START_SYMBOL, END_SYMBOL, UNK_SYMBOL\n",
    "import numpy as np"
   ]
  },
  {
   "cell_type": "code",
   "execution_count": 3,
   "metadata": {},
   "outputs": [],
   "source": [
    "utils.fix_random_seeds()"
   ]
  },
  {
   "cell_type": "code",
   "execution_count": 4,
   "metadata": {},
   "outputs": [],
   "source": [
    "COLORS_SRC_FILENAME = os.path.join(\n",
    "    \"data\", \"colors\", \"filteredCorpus.csv\")"
   ]
  },
  {
   "cell_type": "markdown",
   "metadata": {},
   "source": [
    "## All two-word examples as a dev corpus\n",
    "\n",
    "So that you don't have to sit through excessively long training runs during development, I suggest working with the two-word-only subset of the corpus until you enter into the late stages of system testing."
   ]
  },
  {
   "cell_type": "code",
   "execution_count": 5,
   "metadata": {},
   "outputs": [],
   "source": [
    "dev_corpus = ColorsCorpusReader(\n",
    "    COLORS_SRC_FILENAME, \n",
    "    word_count=None, \n",
    "    normalize_colors=True)"
   ]
  },
  {
   "cell_type": "code",
   "execution_count": 6,
   "metadata": {},
   "outputs": [],
   "source": [
    "dev_examples = list(dev_corpus.read())"
   ]
  },
  {
   "cell_type": "markdown",
   "metadata": {},
   "source": [
    "This subset has about one-third the examples of the full corpus:"
   ]
  },
  {
   "cell_type": "code",
   "execution_count": 7,
   "metadata": {},
   "outputs": [
    {
     "data": {
      "text/plain": [
       "46994"
      ]
     },
     "execution_count": 7,
     "metadata": {},
     "output_type": "execute_result"
    }
   ],
   "source": [
    "len(dev_examples)"
   ]
  },
  {
   "cell_type": "markdown",
   "metadata": {},
   "source": [
    "We __should__ worry that it's not a fully representative sample. Most of the descriptions in the full corpus are shorter, and a large proportion are longer. So this dataset is mainly for debugging, development, and general hill-climbing. All findings should be validated on the full dataset at some point."
   ]
  },
  {
   "cell_type": "markdown",
   "metadata": {},
   "source": [
    "## Dev dataset\n",
    "\n",
    "The first step is to extract the raw color and raw texts from the corpus:"
   ]
  },
  {
   "cell_type": "code",
   "execution_count": 8,
   "metadata": {},
   "outputs": [],
   "source": [
    "dev_rawcols, dev_texts = zip(*[[ex.colors, ex.contents] for ex in dev_examples])"
   ]
  },
  {
   "cell_type": "markdown",
   "metadata": {},
   "source": [
    "The raw color representations are suitable inputs to a model, but the texts are just strings, so they can't really be processed as-is. Question 1 asks you to do some tokenizing!"
   ]
  },
  {
   "cell_type": "markdown",
   "metadata": {},
   "source": [
    "## Random train–test split for development\n",
    "\n",
    "For the sake of development runs, we create a random train–test split:"
   ]
  },
  {
   "cell_type": "code",
   "execution_count": 9,
   "metadata": {},
   "outputs": [],
   "source": [
    "dev_rawcols_train, dev_rawcols_test, dev_texts_train, dev_texts_test = \\\n",
    "    train_test_split(dev_rawcols, dev_texts)"
   ]
  },
  {
   "cell_type": "markdown",
   "metadata": {},
   "source": [
    "## Question 1: Improve the tokenizer [1 point]\n",
    "\n",
    "This is the first required question – the first required modification to the default pipeline.\n",
    "\n",
    "The function `tokenize_example` simply splits its string on whitespace and adds the required start and end symbols:"
   ]
  },
  {
   "cell_type": "code",
   "execution_count": 10,
   "metadata": {},
   "outputs": [],
   "source": [
    "from colors_utils import heuristic_ending_tokenizer\n",
    "\n",
    "def tokenize_example(s):\n",
    "    \n",
    "    # Improve me!\n",
    "    \n",
    "    return [START_SYMBOL] + heuristic_ending_tokenizer(s) + [END_SYMBOL]\n",
    "\n",
    "def clean_test_and_training(dev_seqs_train, dev_seqs_test):    \n",
    "    vocab = {}\n",
    "    for toks in dev_seqs_train+dev_seqs_test:\n",
    "        for w in toks:\n",
    "            if w not in vocab:\n",
    "                vocab[w]=0\n",
    "            vocab[w]+=1\n",
    "    removal_candidates = {k:v for k, v in vocab.items() if v == 1 }\n",
    "    \n",
    "    dev_seqs_train = [[w if w not in removal_candidates else UNK_SYMBOL for w in toks] for toks in dev_seqs_train]\n",
    "\n",
    "    dev_seqs_test = [[w if w not in removal_candidates else UNK_SYMBOL for w in toks] for toks in dev_seqs_test]\n",
    "    return dev_seqs_train, dev_seqs_test"
   ]
  },
  {
   "cell_type": "code",
   "execution_count": 11,
   "metadata": {},
   "outputs": [
    {
     "data": {
      "text/plain": [
       "['<s>', 'aqua', '</s>']"
      ]
     },
     "execution_count": 11,
     "metadata": {},
     "output_type": "execute_result"
    }
   ],
   "source": [
    "tokenize_example(dev_texts_train[376])"
   ]
  },
  {
   "cell_type": "markdown",
   "metadata": {},
   "source": [
    "__Your task__: Modify `tokenize_example` so that it does something more sophisticated with the input text. \n",
    "\n",
    "__Notes__:\n",
    "\n",
    "* There are useful ideas for this in [Monroe et al. 2017](https://transacl.org/ojs/index.php/tacl/article/view/1142)\n",
    "* There is no requirement that you do word-level tokenization. Sub-word and multi-word are options.\n",
    "* This question can interact with the size of your vocabulary (see just below), and in turn with decisions about how to use `UNK_SYMBOL`.\n",
    "\n",
    "__Important__: don't forget to add the start and end symbols, else the resulting models will definitely be terrible!"
   ]
  },
  {
   "cell_type": "markdown",
   "metadata": {},
   "source": [
    "## Use the tokenizer"
   ]
  },
  {
   "cell_type": "markdown",
   "metadata": {},
   "source": [
    "Once the tokenizer is working, run the following cell to tokenize your inputs:"
   ]
  },
  {
   "cell_type": "code",
   "execution_count": 12,
   "metadata": {},
   "outputs": [],
   "source": [
    "dev_seqs_train = [tokenize_example(s) for s in dev_texts_train]\n",
    "\n",
    "dev_seqs_test = [tokenize_example(s) for s in dev_texts_test]\n",
    "\n",
    "dev_seqs_train, dev_seqs_test = clean_test_and_training(dev_seqs_train, dev_seqs_test)"
   ]
  },
  {
   "cell_type": "markdown",
   "metadata": {},
   "source": [
    "We use only the train set to derive a vocabulary for the model:"
   ]
  },
  {
   "cell_type": "code",
   "execution_count": 13,
   "metadata": {},
   "outputs": [],
   "source": [
    "dev_vocab = sorted({w for toks in dev_seqs_train for w in toks}) + [UNK_SYMBOL]"
   ]
  },
  {
   "cell_type": "markdown",
   "metadata": {},
   "source": [
    "It's important that the `UNK_SYMBOL` is included somewhere in this list. Test examples with word not seen in training will be mapped to `UNK_SYMBOL`. If you model's vocab is the same as your train vocab, then `UNK_SYMBOL` will never be encountered during training, so it will be a random vector at test time."
   ]
  },
  {
   "cell_type": "code",
   "execution_count": 14,
   "metadata": {},
   "outputs": [
    {
     "data": {
      "text/plain": [
       "1551"
      ]
     },
     "execution_count": 14,
     "metadata": {},
     "output_type": "execute_result"
    }
   ],
   "source": [
    "len(dev_vocab)"
   ]
  },
  {
   "cell_type": "markdown",
   "metadata": {},
   "source": [
    "## Question 2: Improve the color representations [1 point]\n",
    "\n",
    "This is the second required pipeline improvement for the assignment. \n",
    "\n",
    "The following functions do nothing at all to the raw input colors we get from the corpus. "
   ]
  },
  {
   "cell_type": "code",
   "execution_count": 15,
   "metadata": {},
   "outputs": [],
   "source": [
    "import colorsys\n",
    "\n",
    "def represent_color_context(colors):\n",
    "    \n",
    "    # Improve me!\n",
    "    \n",
    "    return [represent_color(color) for color in colors]\n",
    "\n",
    "\n",
    "def represent_color(color):\n",
    "    import numpy.fft as fft\n",
    "    # Improve me!\n",
    "    #return color\n",
    "    #return colorsys.rgb_to_hsv(*color)\n",
    "    return fft.fft(color)"
   ]
  },
  {
   "cell_type": "code",
   "execution_count": 16,
   "metadata": {},
   "outputs": [
    {
     "data": {
      "text/plain": [
       "[array([2.07833333+0.j        , 0.24833333+0.19052559j,\n",
       "        0.24833333-0.19052559j]),\n",
       " array([ 0.88 +0.j        , -0.215-0.23382686j, -0.215+0.23382686j]),\n",
       " array([1.145+0.j        , 0.29 -0.37239092j, 0.29 +0.37239092j])]"
      ]
     },
     "execution_count": 16,
     "metadata": {},
     "output_type": "execute_result"
    }
   ],
   "source": [
    "represent_color_context(dev_rawcols_train[0])"
   ]
  },
  {
   "cell_type": "markdown",
   "metadata": {},
   "source": [
    "__Your task__: Modify `represent_color_context` and/or `represent_color` to represent colors in a new way.\n",
    "    \n",
    "__Notes__:\n",
    "\n",
    "* The Fourier-transform method of [Monroe et al. 2017](https://transacl.org/ojs/index.php/tacl/article/view/1142) is a proven choice.\n",
    "* You are not required to keep `represent_color`. This might be unnatural if you want to perform an operation on each color trio all at once.\n",
    "* For that matter, if you want to process all of the color contexts in the entire data set all at once, that is fine too, as long as you can also perform the operation at test time with an unknown number of examples being tested."
   ]
  },
  {
   "cell_type": "markdown",
   "metadata": {},
   "source": [
    "## Use the color representer"
   ]
  },
  {
   "cell_type": "markdown",
   "metadata": {},
   "source": [
    "The following cell just runs your `represent_color_context` on the train and test sets:"
   ]
  },
  {
   "cell_type": "code",
   "execution_count": 17,
   "metadata": {},
   "outputs": [],
   "source": [
    "dev_cols_train = [represent_color_context(colors) for colors in dev_rawcols_train]\n",
    "\n",
    "dev_cols_test = [represent_color_context(colors) for colors in dev_rawcols_test]"
   ]
  },
  {
   "cell_type": "markdown",
   "metadata": {},
   "source": [
    "At this point, our preprocessing steps are complete, and we can fit a first model."
   ]
  },
  {
   "cell_type": "markdown",
   "metadata": {},
   "source": [
    "## Initial model\n",
    "\n",
    "The first model is configured right now to be a small model run for just a few iterations. It should be enough to get traction, but it's unlikely to be a great model. You are free to modify this configuration if you wish; it is here just for demonstration and testing:"
   ]
  },
  {
   "cell_type": "code",
   "execution_count": 18,
   "metadata": {},
   "outputs": [
    {
     "name": "stdout",
     "output_type": "stream",
     "text": [
      "Using cuda\n"
     ]
    }
   ],
   "source": [
    "dev_mod = ColorizedNeuralListener(\n",
    "    dev_vocab, \n",
    "    embed_dim=10, \n",
    "    hidden_dim=10, \n",
    "    max_iter=5, \n",
    "    batch_size=128)"
   ]
  },
  {
   "cell_type": "code",
   "execution_count": 19,
   "metadata": {},
   "outputs": [],
   "source": [
    "#_ = dev_mod.fit(dev_cols_train, dev_seqs_train)"
   ]
  },
  {
   "cell_type": "markdown",
   "metadata": {},
   "source": [
    "We can also see the model's predicted sequences given color context inputs:"
   ]
  },
  {
   "cell_type": "code",
   "execution_count": 20,
   "metadata": {},
   "outputs": [],
   "source": [
    "#dev_mod.predict(dev_cols_test[:1], dev_seqs_train[:1])"
   ]
  },
  {
   "cell_type": "markdown",
   "metadata": {},
   "source": [
    "As discussed in [colors_overview.ipynb](colors_overview.ipynb), our primary metric is `listener_accuracy`:"
   ]
  },
  {
   "cell_type": "code",
   "execution_count": 21,
   "metadata": {},
   "outputs": [],
   "source": [
    "#dev_mod.listener_accuracy(dev_cols_test, dev_seqs_test)"
   ]
  },
  {
   "cell_type": "code",
   "execution_count": 22,
   "metadata": {},
   "outputs": [],
   "source": [
    "#dev_seqs_train[:1]"
   ]
  },
  {
   "cell_type": "markdown",
   "metadata": {},
   "source": [
    "## Question 3: GloVe embeddings [1 points]\n",
    "\n",
    "The above model uses a random initial embedding, as configured by the decoder used by `ContextualColorDescriber`. This homework question asks you to consider using GloVe inputs. \n",
    "\n",
    "__Your task__: Complete `create_glove_embedding` so that it creates a GloVe embedding based on your model vocabulary. This isn't mean to be analytically challenging, but rather just to create a basis for you to try out other kinds of rich initialization."
   ]
  },
  {
   "cell_type": "code",
   "execution_count": 23,
   "metadata": {},
   "outputs": [],
   "source": [
    "GLOVE_HOME = os.path.join('data', 'glove.6B')"
   ]
  },
  {
   "cell_type": "code",
   "execution_count": 24,
   "metadata": {},
   "outputs": [],
   "source": [
    "def create_glove_embedding(vocab, glove_base_filename='glove.6B.100d.txt'):\n",
    "    \n",
    "    # Use `utils.glove2dict` to read in the GloVe file:    \n",
    "    ##### YOUR CODE HERE\n",
    "    glove_dict = utils.glove2dict(os.path.join(GLOVE_HOME, glove_base_filename))\n",
    "\n",
    "    \n",
    "    # Use `utils.create_pretrained_embedding` to create the embedding.\n",
    "    # This function will, by default, ensure that START_TOKEN, \n",
    "    # END_TOKEN, and UNK_TOKEN are included in the embedding.\n",
    "    ##### YOUR CODE HERE\n",
    "    embedding, new_vocab = utils.create_pretrained_embedding(glove_dict, vocab)\n",
    "\n",
    "    \n",
    "    # Be sure to return the embedding you create as well as the\n",
    "    # vocabulary returned by `utils.create_pretrained_embedding`,\n",
    "    # which is likely to have been modified from the input `vocab`.\n",
    "    \n",
    "    ##### YOUR CODE HERE\n",
    "    return embedding, new_vocab\n"
   ]
  },
  {
   "cell_type": "markdown",
   "metadata": {},
   "source": [
    "## Try the GloVe representations"
   ]
  },
  {
   "cell_type": "markdown",
   "metadata": {},
   "source": [
    "Let's see if GloVe helped for our development data:"
   ]
  },
  {
   "cell_type": "code",
   "execution_count": 25,
   "metadata": {},
   "outputs": [],
   "source": [
    "#dev_glove_embedding, dev_glove_vocab = create_glove_embedding(dev_vocab)"
   ]
  },
  {
   "cell_type": "code",
   "execution_count": 26,
   "metadata": {},
   "outputs": [],
   "source": [
    "embedding = np.random.normal(\n",
    "            loc=0, scale=0.01, size=(len(dev_vocab), 100))"
   ]
  },
  {
   "cell_type": "markdown",
   "metadata": {},
   "source": [
    "The above might dramatically change your vocabulary, depending on how many items from your vocab are in the Glove space:"
   ]
  },
  {
   "cell_type": "markdown",
   "metadata": {},
   "source": [
    "## Question 4: Color context [3 points]"
   ]
  },
  {
   "cell_type": "code",
   "execution_count": 27,
   "metadata": {},
   "outputs": [],
   "source": [
    "toy_color_seqs, toy_word_seqs, toy_vocab = create_example_dataset(\n",
    "    group_size=50, vec_dim=2)"
   ]
  },
  {
   "cell_type": "code",
   "execution_count": 28,
   "metadata": {},
   "outputs": [],
   "source": [
    "toy_color_seqs_train, toy_color_seqs_test, toy_word_seqs_train, toy_word_seqs_test = \\\n",
    "    train_test_split(toy_color_seqs, toy_word_seqs)"
   ]
  },
  {
   "cell_type": "code",
   "execution_count": 29,
   "metadata": {},
   "outputs": [
    {
     "name": "stdout",
     "output_type": "stream",
     "text": [
      "Using cuda\n"
     ]
    }
   ],
   "source": [
    "toy_mod = ColorizedNeuralListener(\n",
    "    toy_vocab, \n",
    "    embed_dim=100, \n",
    "    embedding=embedding,\n",
    "    hidden_dim=100, \n",
    "    max_iter=100, \n",
    "    batch_size=128)"
   ]
  },
  {
   "cell_type": "code",
   "execution_count": 30,
   "metadata": {},
   "outputs": [
    {
     "name": "stdout",
     "output_type": "stream",
     "text": [
      "ColorizedNeuralListenerEncoder cuda\n",
      "ColorizedNeuralListenerEncoderDecoder cuda\n",
      "Train: Epoch 1; err = 1.098453402519226; time = 0.33507585525512695\n",
      "Train: Epoch 2; err = 1.0898758172988892; time = 0.023005008697509766\n",
      "Train: Epoch 3; err = 1.062761902809143; time = 0.022005558013916016\n",
      "Train: Epoch 4; err = 1.0460288524627686; time = 0.022003889083862305\n",
      "Train: Epoch 5; err = 1.0055943727493286; time = 0.02200460433959961\n",
      "Train: Epoch 6; err = 0.981974720954895; time = 0.02200460433959961\n",
      "Train: Epoch 7; err = 0.9419034719467163; time = 0.023005247116088867\n",
      "Train: Epoch 8; err = 0.9108477830886841; time = 0.022005558013916016\n",
      "Train: Epoch 9; err = 0.8837128281593323; time = 0.023005008697509766\n",
      "Train: Epoch 10; err = 0.8716385960578918; time = 0.02300572395324707\n",
      "Train: Epoch 11; err = 0.8834822773933411; time = 0.02200484275817871\n",
      "Train: Epoch 12; err = 0.880670964717865; time = 0.022005081176757812\n",
      "Train: Epoch 13; err = 0.8400682210922241; time = 0.022005319595336914\n",
      "Train: Epoch 14; err = 0.9506779909133911; time = 0.023006200790405273\n",
      "0.01\n",
      "tensor([0.2850, 0.1071, 0.6079], device='cuda:0', grad_fn=<MeanBackward1>) 0.8921167254447937\n",
      "Train: Epoch 15; err = 0.8921167254447937; time = 0.028876304626464844\n",
      "Train: Epoch 16; err = 0.8441548943519592; time = 0.022005319595336914\n",
      "Train: Epoch 17; err = 0.8724898099899292; time = 0.023004770278930664\n",
      "Train: Epoch 18; err = 0.8752375245094299; time = 0.022005319595336914\n",
      "Train: Epoch 19; err = 0.8739655613899231; time = 0.022003889083862305\n",
      "Train: Epoch 20; err = 0.8934506773948669; time = 0.02200484275817871\n",
      "Train: Epoch 21; err = 0.8557754158973694; time = 0.023004531860351562\n",
      "Train: Epoch 22; err = 0.8329307436943054; time = 0.022004127502441406\n",
      "Train: Epoch 23; err = 0.7978997230529785; time = 0.022004365921020508\n",
      "Train: Epoch 24; err = 0.8125964403152466; time = 0.021994829177856445\n",
      "Train: Epoch 25; err = 0.8471184372901917; time = 0.02200794219970703\n",
      "Train: Epoch 26; err = 0.8141813278198242; time = 0.02300548553466797\n",
      "Train: Epoch 27; err = 0.7717927694320679; time = 0.021994352340698242\n",
      "Train: Epoch 28; err = 0.7764690518379211; time = 0.02300548553466797\n",
      "Train: Epoch 29; err = 0.790560781955719; time = 0.021995067596435547\n",
      "0.01\n",
      "tensor([0.0153, 0.2598, 0.7249], device='cuda:0', grad_fn=<MeanBackward1>) 0.7915099263191223\n",
      "Train: Epoch 30; err = 0.7915099263191223; time = 0.029033184051513672\n",
      "Train: Epoch 31; err = 0.7739650011062622; time = 0.023977279663085938\n",
      "Train: Epoch 32; err = 0.7478544116020203; time = 0.02199411392211914\n",
      "Train: Epoch 33; err = 0.7452419400215149; time = 0.022005081176757812\n",
      "Train: Epoch 34; err = 0.7600010633468628; time = 0.022004365921020508\n",
      "Train: Epoch 35; err = 0.7511895895004272; time = 0.023004770278930664\n",
      "Train: Epoch 36; err = 0.7235217094421387; time = 0.02200460433959961\n",
      "Train: Epoch 37; err = 0.7325007319450378; time = 0.02200484275817871\n",
      "Train: Epoch 38; err = 0.7408894896507263; time = 0.022005081176757812\n",
      "Train: Epoch 39; err = 0.7150105834007263; time = 0.0220029354095459\n",
      "Train: Epoch 40; err = 0.720609188079834; time = 0.02300429344177246\n",
      "Train: Epoch 41; err = 0.7282484173774719; time = 0.02200603485107422\n",
      "Train: Epoch 42; err = 0.7052028775215149; time = 0.022005319595336914\n",
      "Train: Epoch 43; err = 0.7099937796592712; time = 0.022006511688232422\n",
      "Train: Epoch 44; err = 0.7083112597465515; time = 0.022003889083862305\n",
      "0.01\n",
      "tensor([0.0939, 0.0830, 0.8231], device='cuda:0', grad_fn=<MeanBackward1>) 0.6901955008506775\n",
      "Train: Epoch 45; err = 0.6901955008506775; time = 0.027767419815063477\n",
      "Train: Epoch 46; err = 0.7021939158439636; time = 0.02400493621826172\n",
      "Train: Epoch 47; err = 0.6825210452079773; time = 0.022994279861450195\n",
      "Train: Epoch 48; err = 0.6877544522285461; time = 0.021994352340698242\n",
      "Train: Epoch 49; err = 0.6713878512382507; time = 0.021003246307373047\n",
      "Train: Epoch 50; err = 0.6782984733581543; time = 0.02200484275817871\n",
      "Train: Epoch 51; err = 0.6551242470741272; time = 0.02200484275817871\n",
      "Train: Epoch 52; err = 0.6732893586158752; time = 0.022004365921020508\n",
      "Train: Epoch 53; err = 0.6455540060997009; time = 0.022004365921020508\n",
      "Train: Epoch 54; err = 0.6401985883712769; time = 0.022005319595336914\n",
      "Train: Epoch 55; err = 0.6584838628768921; time = 0.022004365921020508\n",
      "Train: Epoch 56; err = 0.6344918012619019; time = 0.022005319595336914\n",
      "Train: Epoch 57; err = 0.6130915284156799; time = 0.022005558013916016\n",
      "Train: Epoch 58; err = 0.6301733255386353; time = 0.022004127502441406\n",
      "Train: Epoch 59; err = 0.6340790390968323; time = 0.022005319595336914\n",
      "0.01\n",
      "tensor([0.0188, 0.0521, 0.9291], device='cuda:0', grad_fn=<MeanBackward1>) 0.6013585329055786\n",
      "Train: Epoch 60; err = 0.6013585329055786; time = 0.028019189834594727\n",
      "Train: Epoch 61; err = 0.5995416045188904; time = 0.023004770278930664\n",
      "Train: Epoch 62; err = 0.613639235496521; time = 0.022003889083862305\n",
      "Train: Epoch 63; err = 0.5926656723022461; time = 0.023005962371826172\n",
      "Train: Epoch 64; err = 0.5849880576133728; time = 0.02199387550354004\n",
      "Train: Epoch 65; err = 0.5954136848449707; time = 0.023006439208984375\n",
      "Train: Epoch 66; err = 0.5789538025856018; time = 0.022004365921020508\n",
      "Train: Epoch 67; err = 0.5803660154342651; time = 0.022004127502441406\n",
      "Train: Epoch 68; err = 0.5817922353744507; time = 0.02100396156311035\n",
      "Train: Epoch 69; err = 0.5699544548988342; time = 0.02200484275817871\n",
      "Train: Epoch 70; err = 0.5769489407539368; time = 0.021770477294921875\n",
      "Train: Epoch 71; err = 0.56855708360672; time = 0.022004365921020508\n",
      "Train: Epoch 72; err = 0.5706490278244019; time = 0.022003889083862305\n",
      "Train: Epoch 73; err = 0.568247377872467; time = 0.02300572395324707\n",
      "Train: Epoch 74; err = 0.5655761361122131; time = 0.022004365921020508\n",
      "0.01\n",
      "tensor([0.0188, 0.0038, 0.9774], device='cuda:0', grad_fn=<MeanBackward1>) 0.5664365291595459\n",
      "Train: Epoch 75; err = 0.5664365291595459; time = 0.028005361557006836\n",
      "Train: Epoch 76; err = 0.5625032782554626; time = 0.023004770278930664\n",
      "Train: Epoch 77; err = 0.5641795992851257; time = 0.02200460433959961\n",
      "Train: Epoch 78; err = 0.5606579184532166; time = 0.022004365921020508\n",
      "Train: Epoch 79; err = 0.5621728301048279; time = 0.022004127502441406\n",
      "Train: Epoch 80; err = 0.5594013333320618; time = 0.02200460433959961\n",
      "Train: Epoch 81; err = 0.5605347752571106; time = 0.02200484275817871\n",
      "Train: Epoch 82; err = 0.5584550499916077; time = 0.022005319595336914\n",
      "Train: Epoch 83; err = 0.5591914653778076; time = 0.022005558013916016\n",
      "Train: Epoch 84; err = 0.5577276945114136; time = 0.022005796432495117\n",
      "Train: Epoch 85; err = 0.5580732226371765; time = 0.022005319595336914\n",
      "Train: Epoch 86; err = 0.557170033454895; time = 0.02200603485107422\n",
      "Train: Epoch 87; err = 0.5571432113647461; time = 0.021995067596435547\n",
      "Train: Epoch 88; err = 0.5567398071289062; time = 0.02300429344177246\n",
      "Train: Epoch 89; err = 0.5563879609107971; time = 0.022003889083862305\n",
      "0.01\n",
      "tensor([0.0023, 0.0054, 0.9924], device='cuda:0', grad_fn=<MeanBackward1>) 0.5563702583312988\n",
      "Train: Epoch 90; err = 0.5563702583312988; time = 0.029006242752075195\n",
      "Train: Epoch 91; err = 0.5558088421821594; time = 0.022983551025390625\n",
      "Train: Epoch 92; err = 0.5560020804405212; time = 0.023005247116088867\n",
      "Train: Epoch 93; err = 0.5553895831108093; time = 0.023004531860351562\n",
      "Train: Epoch 94; err = 0.5556011199951172; time = 0.025005102157592773\n",
      "Train: Epoch 95; err = 0.5551039576530457; time = 0.02200460433959961\n",
      "Train: Epoch 96; err = 0.5551864504814148; time = 0.023005247116088867\n",
      "Train: Epoch 97; err = 0.5549081563949585; time = 0.02199530601501465\n",
      "Train: Epoch 98; err = 0.5548062324523926; time = 0.022005081176757812\n",
      "Train: Epoch 99; err = 0.5547414422035217; time = 0.02199411392211914\n",
      "Train: Epoch 100; err = 0.5545060038566589; time = 0.021993637084960938\n"
     ]
    }
   ],
   "source": [
    "_ = toy_mod.fit(toy_color_seqs_train, toy_word_seqs_train)"
   ]
  },
  {
   "cell_type": "code",
   "execution_count": 31,
   "metadata": {},
   "outputs": [
    {
     "name": "stdout",
     "output_type": "stream",
     "text": [
      "38 / 38 1.0\n"
     ]
    }
   ],
   "source": [
    "preds = toy_mod.predict(toy_color_seqs_test, toy_word_seqs_test)\n",
    "correct = sum([1 if x == 2 else 0 for x in preds])\n",
    "print(correct, \"/\", len(preds), correct/len(preds))"
   ]
  },
  {
   "cell_type": "markdown",
   "metadata": {},
   "source": [
    "If that worked, then you can now try this model on SCC problems!"
   ]
  },
  {
   "cell_type": "code",
   "execution_count": 32,
   "metadata": {},
   "outputs": [
    {
     "name": "stdout",
     "output_type": "stream",
     "text": [
      "Using cuda\n"
     ]
    }
   ],
   "source": [
    "dev_color_mod = ColorizedNeuralListener(\n",
    "    dev_vocab, \n",
    "    #embedding=dev_glove_embedding, \n",
    "    embed_dim=100,\n",
    "    embedding=embedding,\n",
    "    hidden_dim=100, \n",
    "    max_iter=100,\n",
    "    batch_size=64,\n",
    "    dropout_prob=0.,\n",
    "    eta=0.001,\n",
    "    lr_rate=0.96,\n",
    "    warm_start=True,\n",
    "    force_cpu=False)\n",
    "# Uncomment line if you want to continue training the previous model\n",
    "# literal_listener.load_model(\"literal_listener.pt\")\n"
   ]
  },
  {
   "cell_type": "code",
   "execution_count": 33,
   "metadata": {},
   "outputs": [
    {
     "name": "stdout",
     "output_type": "stream",
     "text": [
      "ColorizedNeuralListenerEncoder cuda\n",
      "ColorizedNeuralListenerEncoderDecoder cuda\n"
     ]
    },
    {
     "name": "stderr",
     "output_type": "stream",
     "text": [
      "C:\\Users\\Chris\\Github\\cs224u\\torch_color_selector.py:77: ComplexWarning: Casting complex values to real discards the imaginary part\n",
      "  color_seqs = torch.FloatTensor(color_seqs)\n"
     ]
    },
    {
     "name": "stdout",
     "output_type": "stream",
     "text": [
      "Train: Epoch 1; err = 574.3356761336327; time = 15.784284591674805\n",
      "Train: Epoch 2; err = 530.3089804053307; time = 15.870597124099731\n",
      "Train: Epoch 3; err = 520.3168433904648; time = 15.845393419265747\n",
      "Train: Epoch 4; err = 507.72952675819397; time = 15.815583944320679\n",
      "Train: Epoch 5; err = 498.60830450057983; time = 15.79001498222351\n",
      "Train: Epoch 6; err = 493.34956181049347; time = 15.860663652420044\n",
      "Train: Epoch 7; err = 491.01311761140823; time = 15.88314700126648\n",
      "Train: Epoch 8; err = 484.1834804415703; time = 15.88641881942749\n",
      "Train: Epoch 9; err = 484.9392847418785; time = 15.911067485809326\n",
      "Train: Epoch 10; err = 478.6925780773163; time = 15.834589004516602\n",
      "Train: Epoch 11; err = 474.72894710302353; time = 15.860535144805908\n",
      "Train: Epoch 12; err = 471.5490748286247; time = 15.807572841644287\n",
      "Train: Epoch 13; err = 470.35122162103653; time = 15.799592018127441\n",
      "Train: Epoch 14; err = 467.4566590189934; time = 15.814584493637085\n",
      "0.00096\n",
      "tensor([0.1853, 0.1835, 0.6312], device='cuda:0', grad_fn=<MeanBackward1>) 0.8741095066070557\n",
      "Train: Epoch 15; err = 465.7873447537422; time = 15.806593418121338\n",
      "Train: Epoch 16; err = 462.7500081062317; time = 15.800581216812134\n",
      "Train: Epoch 17; err = 462.7319455742836; time = 15.826587200164795\n",
      "Train: Epoch 18; err = 458.8422785997391; time = 15.801581621170044\n",
      "Train: Epoch 19; err = 457.5153674483299; time = 15.876597881317139\n",
      "Train: Epoch 20; err = 456.76780104637146; time = 15.791588544845581\n",
      "Train: Epoch 21; err = 455.18085116147995; time = 15.880598783493042\n",
      "Train: Epoch 22; err = 455.5158578157425; time = 15.882396459579468\n",
      "Train: Epoch 23; err = 453.4301232099533; time = 15.758634328842163\n",
      "Train: Epoch 24; err = 449.8886584639549; time = 15.765573024749756\n",
      "Train: Epoch 25; err = 451.17691242694855; time = 15.861594438552856\n",
      "Train: Epoch 26; err = 455.7535329461098; time = 15.829597234725952\n",
      "Train: Epoch 27; err = 447.657463490963; time = 15.811481237411499\n",
      "Train: Epoch 28; err = 443.63807731866837; time = 15.794579267501831\n",
      "Train: Epoch 29; err = 442.65212082862854; time = 15.900603532791138\n",
      "0.0009216\n",
      "tensor([0.1328, 0.1237, 0.7435], device='cuda:0', grad_fn=<MeanBackward1>) 0.7843515276908875\n",
      "Train: Epoch 30; err = 443.3960486650467; time = 15.817407608032227\n",
      "Train: Epoch 31; err = 440.5996016263962; time = 15.778586387634277\n",
      "Train: Epoch 32; err = 438.36476999521255; time = 15.779576539993286\n",
      "Train: Epoch 33; err = 440.6561737060547; time = 15.904605865478516\n",
      "Train: Epoch 34; err = 436.68379932641983; time = 15.777586221694946\n",
      "Train: Epoch 35; err = 435.9383260011673; time = 15.853593587875366\n",
      "Train: Epoch 36; err = 435.64307260513306; time = 15.860594987869263\n",
      "Train: Epoch 37; err = 434.5650480389595; time = 15.825586795806885\n",
      "Train: Epoch 38; err = 431.2525342106819; time = 15.815583944320679\n",
      "Train: Epoch 39; err = 432.702918112278; time = 15.841590166091919\n",
      "Train: Epoch 40; err = 430.9161661863327; time = 15.79157829284668\n",
      "Train: Epoch 41; err = 428.66326785087585; time = 15.798309803009033\n",
      "Train: Epoch 42; err = 428.7137618660927; time = 15.813464879989624\n",
      "Train: Epoch 43; err = 427.5143073797226; time = 15.823503017425537\n",
      "Train: Epoch 44; err = 427.20485615730286; time = 15.833588361740112\n",
      "0.0008847359999999999\n",
      "tensor([0.1068, 0.0654, 0.8278], device='cuda:0', grad_fn=<MeanBackward1>) 0.6998815536499023\n",
      "Train: Epoch 45; err = 421.7327125072479; time = 15.763562679290771\n",
      "Train: Epoch 46; err = 421.50541466474533; time = 15.82959794998169\n",
      "Train: Epoch 47; err = 419.4672327041626; time = 15.836524486541748\n",
      "Train: Epoch 48; err = 420.7109042406082; time = 15.841590881347656\n",
      "Train: Epoch 49; err = 417.71148031949997; time = 15.825586080551147\n",
      "Train: Epoch 50; err = 417.96523201465607; time = 15.890671253204346\n",
      "Train: Epoch 51; err = 415.2245469093323; time = 15.833662509918213\n",
      "Train: Epoch 52; err = 417.37765634059906; time = 15.846591711044312\n",
      "Train: Epoch 53; err = 415.7544382214546; time = 15.84459137916565\n",
      "Train: Epoch 54; err = 414.65784019231796; time = 15.829571962356567\n",
      "Train: Epoch 55; err = 413.49943059682846; time = 15.808593511581421\n",
      "Train: Epoch 56; err = 415.7567877173424; time = 15.824007511138916\n",
      "Train: Epoch 57; err = 412.1500568985939; time = 15.856725454330444\n",
      "Train: Epoch 58; err = 410.7717346549034; time = 15.799581050872803\n",
      "Train: Epoch 59; err = 411.61421632766724; time = 15.86427640914917\n",
      "0.0008493465599999999\n",
      "tensor([0.1354, 0.0738, 0.7908], device='cuda:0', grad_fn=<MeanBackward1>) 0.7380672693252563\n",
      "Train: Epoch 60; err = 411.8639445900917; time = 15.797838926315308\n",
      "Train: Epoch 61; err = 409.18427217006683; time = 15.748496294021606\n",
      "Train: Epoch 62; err = 408.75443863868713; time = 15.821585416793823\n",
      "Train: Epoch 63; err = 408.59165918827057; time = 15.915607690811157\n",
      "Train: Epoch 64; err = 408.9808019399643; time = 15.853854894638062\n",
      "Train: Epoch 65; err = 407.7721808552742; time = 15.91260576248169\n",
      "Train: Epoch 66; err = 406.5795817375183; time = 15.882730960845947\n",
      "Train: Epoch 67; err = 405.36147183179855; time = 15.85675859451294\n",
      "Train: Epoch 68; err = 405.42730873823166; time = 15.84257984161377\n",
      "Train: Epoch 69; err = 404.329256772995; time = 15.83440375328064\n",
      "Train: Epoch 70; err = 404.34780353307724; time = 15.820585250854492\n",
      "Train: Epoch 71; err = 404.2469820380211; time = 15.82397198677063\n",
      "Train: Epoch 72; err = 403.1618813276291; time = 15.814636945724487\n",
      "Train: Epoch 73; err = 404.13327956199646; time = 15.839940309524536\n",
      "Train: Epoch 74; err = 401.9411385655403; time = 15.882508516311646\n",
      "0.0008153726975999999\n",
      "tensor([0.0522, 0.0862, 0.8615], device='cuda:0', grad_fn=<MeanBackward1>) 0.6775826215744019\n",
      "Train: Epoch 75; err = 402.59276980161667; time = 15.794580936431885\n",
      "Train: Epoch 76; err = 402.6165544986725; time = 15.818911075592041\n",
      "Train: Epoch 77; err = 400.5294478535652; time = 15.85659408569336\n",
      "Train: Epoch 78; err = 399.6014459133148; time = 15.788578748703003\n",
      "Train: Epoch 79; err = 400.5898907780647; time = 15.85157823562622\n",
      "Train: Epoch 80; err = 398.3863263130188; time = 15.818583726882935\n",
      "Train: Epoch 81; err = 399.70293337106705; time = 15.784215450286865\n",
      "Train: Epoch 82; err = 397.94412714242935; time = 15.794579267501831\n",
      "Train: Epoch 83; err = 397.92792451381683; time = 15.782921314239502\n",
      "Train: Epoch 84; err = 397.8807154893875; time = 15.841590404510498\n",
      "Train: Epoch 85; err = 396.6846235394478; time = 15.7715744972229\n",
      "Train: Epoch 86; err = 397.4913766384125; time = 15.84459114074707\n",
      "Train: Epoch 87; err = 396.2813194990158; time = 15.804581880569458\n",
      "Train: Epoch 88; err = 395.81320279836655; time = 15.77757453918457\n",
      "Train: Epoch 89; err = 394.27758264541626; time = 15.810582399368286\n",
      "0.0007827577896959998\n",
      "tensor([0.1107, 0.0940, 0.7953], device='cuda:0', grad_fn=<MeanBackward1>) 0.7279908061027527\n",
      "Train: Epoch 90; err = 394.3710057735443; time = 15.803581714630127\n",
      "Train: Epoch 91; err = 396.5320218205452; time = 15.74701476097107\n",
      "Train: Epoch 92; err = 392.84052842855453; time = 15.797580003738403\n",
      "Train: Epoch 93; err = 392.8605190515518; time = 15.86859679222107\n",
      "Train: Epoch 94; err = 392.54300928115845; time = 15.803581953048706\n",
      "Train: Epoch 95; err = 394.38344419002533; time = 15.727573871612549\n",
      "Train: Epoch 96; err = 395.533479988575; time = 15.97365427017212\n",
      "Train: Epoch 97; err = 390.74569100141525; time = 15.795255184173584\n",
      "Train: Epoch 98; err = 390.13142067193985; time = 15.782586574554443\n",
      "Train: Epoch 99; err = 392.2511388659477; time = 15.761572360992432\n",
      "Train: Epoch 100; err = 391.1277447938919; time = 15.72655725479126\n"
     ]
    }
   ],
   "source": [
    "_ = dev_color_mod.fit(dev_cols_train, dev_seqs_train)"
   ]
  },
  {
   "cell_type": "code",
   "execution_count": 40,
   "metadata": {},
   "outputs": [],
   "source": [
    "test_preds = dev_color_mod.predict(dev_cols_test, dev_seqs_test)\n",
    "#dev_color_mod.predict(dev_cols_test, dev_seqs_test, probabilities=True)\n",
    "train_preds = dev_color_mod.predict(dev_cols_train, dev_seqs_train)\n",
    "#dev_color_mod.predict(dev_cols_test, dev_seqs_test, probabilities=True)"
   ]
  },
  {
   "cell_type": "code",
   "execution_count": 41,
   "metadata": {},
   "outputs": [
    {
     "name": "stdout",
     "output_type": "stream",
     "text": [
      "test 9213 / 11749 0.7841518427100179\n",
      "train 29932 / 35245 0.8492552135054617\n"
     ]
    }
   ],
   "source": [
    "correct = sum([1 if x == 2 else 0 for x in test_preds])\n",
    "print(\"test\", correct, \"/\", len(test_preds), correct/len(test_preds))\n",
    "correct = sum([1 if x == 2 else 0 for x in train_preds])\n",
    "print(\"train\", correct, \"/\", len(train_preds), correct/len(train_preds))"
   ]
  },
  {
   "cell_type": "code",
   "execution_count": 36,
   "metadata": {},
   "outputs": [],
   "source": [
    "totals = {}\n",
    "for ex in dev_examples:\n",
    "    #ex.display(typ='speaker')\n",
    "    #print(ex.condition)\n",
    "    if ex.condition not in totals:\n",
    "        totals[ex.condition] = 0\n",
    "    totals[ex.condition]+=1\n",
    "    #print(dev_color_mod.predict([ex.speaker_context], [tokenize_example(ex.contents)], probabilities=True))\n",
    "    #print(dev_color_mod.predict([ex.speaker_context], [tokenize_example(ex.contents)])[0])\n",
    "    #print()\n",
    "    \n",
    "scores = {}\n",
    "preds = dev_color_mod.predict([represent_color_context(colors) for colors in dev_rawcols], \n",
    "                              [tokenize_example(text) for text in dev_texts])\n",
    "for i, ex in enumerate(dev_examples):\n",
    "    #ex.display(typ='speaker')\n",
    "    #print(ex.condition)\n",
    "    if ex.condition not in scores:\n",
    "        scores[ex.condition] = 0\n",
    "    if preds[i] == 2:\n",
    "        scores[ex.condition]+=1"
   ]
  },
  {
   "cell_type": "code",
   "execution_count": 37,
   "metadata": {},
   "outputs": [
    {
     "name": "stdout",
     "output_type": "stream",
     "text": [
      "close : 11595 / 15519 = 0.7471486564855983\n",
      "far : 14583 / 15782 = 0.9240273729565328\n",
      "split : 12880 / 15693 = 0.8207481042503026\n"
     ]
    }
   ],
   "source": [
    "for condition in scores:\n",
    "    print(condition, \":\", scores[condition], \"/\", totals[condition], \"=\", scores[condition]/totals[condition])"
   ]
  },
  {
   "cell_type": "code",
   "execution_count": 38,
   "metadata": {},
   "outputs": [],
   "source": [
    "#dev_perp = dev_color_mod.perplexities(dev_cols_test, dev_seqs_test)\n",
    "#dev_perp[0]"
   ]
  },
  {
   "cell_type": "code",
   "execution_count": 39,
   "metadata": {},
   "outputs": [],
   "source": [
    "dev_color_mod.save_model(\"literal_listener.pt\")"
   ]
  },
  {
   "cell_type": "code",
   "execution_count": null,
   "metadata": {},
   "outputs": [],
   "source": []
  }
 ],
 "metadata": {
  "kernelspec": {
   "display_name": "Python 3",
   "language": "python",
   "name": "python3"
  },
  "language_info": {
   "codemirror_mode": {
    "name": "ipython",
    "version": 3
   },
   "file_extension": ".py",
   "mimetype": "text/x-python",
   "name": "python",
   "nbconvert_exporter": "python",
   "pygments_lexer": "ipython3",
   "version": "3.7.4"
  }
 },
 "nbformat": 4,
 "nbformat_minor": 2
}
