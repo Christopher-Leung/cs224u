{
 "cells": [
  {
   "cell_type": "markdown",
   "metadata": {},
   "source": [
    "# Homework and bake-off: pragmatic color descriptions"
   ]
  },
  {
   "cell_type": "code",
   "execution_count": 1,
   "metadata": {},
   "outputs": [],
   "source": [
    "__author__ = \"Christopher Potts\"\n",
    "__version__ = \"CS224u, Stanford, Spring 2020\""
   ]
  },
  {
   "cell_type": "markdown",
   "metadata": {},
   "source": [
    "## Contents\n",
    "\n",
    "1. [Overview](#Overview)\n",
    "1. [Set-up](#Set-up)\n",
    "1. [All two-word examples as a dev corpus](#All-two-word-examples-as-a-dev-corpus)\n",
    "1. [Dev dataset](#Dev-dataset)\n",
    "1. [Random train–test split for development](#Random-train–test-split-for-development)\n",
    "1. [Question 1: Improve the tokenizer [1 point]](#Question-1:-Improve-the-tokenizer-[1-point])\n",
    "1. [Use the tokenizer](#Use-the-tokenizer)\n",
    "1. [Question 2: Improve the color representations [1 point]](#Question-2:-Improve-the-color-representations-[1-point])\n",
    "1. [Use the color representer](#Use-the-color-representer)\n",
    "1. [Initial model](#Initial-model)\n",
    "1. [Question 3: GloVe embeddings [1 points]](#Question-3:-GloVe-embeddings-[1-points])\n",
    "1. [Try the GloVe representations](#Try-the-GloVe-representations)\n",
    "1. [Question 4: Color context [3 points]](#Question-4:-Color-context-[3-points])\n",
    "1. [Your original system [3 points]](#Your-original-system-[3-points])\n",
    "1. [Bakeoff [1 point]](#Bakeoff-[1-point])"
   ]
  },
  {
   "cell_type": "markdown",
   "metadata": {},
   "source": [
    "## Overview\n",
    "\n",
    "This homework and associated bake-off are oriented toward building an effective system for generating color descriptions that are pragmatic in the sense that they would help a reader/listener figure out which color was being referred to in a shared context consisting of a target color (whose identity is known only to the describer/speaker) and a set of distractors.\n",
    "\n",
    "The notebook [colors_overview.ipynb](colors_overview.ipynb) should be studied before work on this homework begins. That notebook provides backgroud on the task, the dataset, and the modeling code that you will be using and adapting.\n",
    "\n",
    "The homework questions are more open-ended than previous ones have been. Rather than asking you to implement pre-defined functionality, they ask you to try to improve baseline components of the full system in ways that you find to be effective. As usual, this culiminates in a prompt asking you to develop a novel system for entry into the bake-off. In this case, though, the work you do for the homework will likely be directly incorporated into that system."
   ]
  },
  {
   "cell_type": "markdown",
   "metadata": {},
   "source": [
    "## Set-up"
   ]
  },
  {
   "cell_type": "markdown",
   "metadata": {},
   "source": [
    "See [colors_overview.ipynb](colors_overview.ipynb) for set-up in instructions and other background details."
   ]
  },
  {
   "cell_type": "code",
   "execution_count": 2,
   "metadata": {},
   "outputs": [],
   "source": [
    "from colors import ColorsCorpusReader\n",
    "import os\n",
    "from sklearn.model_selection import train_test_split\n",
    "from torch_color_selector import (\n",
    "    ColorizedNeuralListener, create_example_dataset)\n",
    "import utils\n",
    "from utils import START_SYMBOL, END_SYMBOL, UNK_SYMBOL\n",
    "import numpy as np"
   ]
  },
  {
   "cell_type": "code",
   "execution_count": 3,
   "metadata": {},
   "outputs": [],
   "source": [
    "utils.fix_random_seeds()"
   ]
  },
  {
   "cell_type": "code",
   "execution_count": 4,
   "metadata": {},
   "outputs": [],
   "source": [
    "COLORS_SRC_FILENAME = os.path.join(\n",
    "    \"data\", \"colors\", \"filteredCorpus.csv\")"
   ]
  },
  {
   "cell_type": "markdown",
   "metadata": {},
   "source": [
    "## All two-word examples as a dev corpus\n",
    "\n",
    "So that you don't have to sit through excessively long training runs during development, I suggest working with the two-word-only subset of the corpus until you enter into the late stages of system testing."
   ]
  },
  {
   "cell_type": "code",
   "execution_count": 5,
   "metadata": {},
   "outputs": [],
   "source": [
    "dev_corpus = ColorsCorpusReader(\n",
    "    COLORS_SRC_FILENAME, \n",
    "    word_count=2, \n",
    "    normalize_colors=True)"
   ]
  },
  {
   "cell_type": "code",
   "execution_count": 6,
   "metadata": {},
   "outputs": [],
   "source": [
    "dev_examples = list(dev_corpus.read())"
   ]
  },
  {
   "cell_type": "markdown",
   "metadata": {},
   "source": [
    "This subset has about one-third the examples of the full corpus:"
   ]
  },
  {
   "cell_type": "code",
   "execution_count": 7,
   "metadata": {},
   "outputs": [
    {
     "data": {
      "text/plain": [
       "13890"
      ]
     },
     "execution_count": 7,
     "metadata": {},
     "output_type": "execute_result"
    }
   ],
   "source": [
    "len(dev_examples)"
   ]
  },
  {
   "cell_type": "markdown",
   "metadata": {},
   "source": [
    "We __should__ worry that it's not a fully representative sample. Most of the descriptions in the full corpus are shorter, and a large proportion are longer. So this dataset is mainly for debugging, development, and general hill-climbing. All findings should be validated on the full dataset at some point."
   ]
  },
  {
   "cell_type": "markdown",
   "metadata": {},
   "source": [
    "## Dev dataset\n",
    "\n",
    "The first step is to extract the raw color and raw texts from the corpus:"
   ]
  },
  {
   "cell_type": "code",
   "execution_count": 8,
   "metadata": {},
   "outputs": [],
   "source": [
    "dev_rawcols, dev_texts = zip(*[[ex.colors, ex.contents] for ex in dev_examples])"
   ]
  },
  {
   "cell_type": "markdown",
   "metadata": {},
   "source": [
    "The raw color representations are suitable inputs to a model, but the texts are just strings, so they can't really be processed as-is. Question 1 asks you to do some tokenizing!"
   ]
  },
  {
   "cell_type": "markdown",
   "metadata": {},
   "source": [
    "## Random train–test split for development\n",
    "\n",
    "For the sake of development runs, we create a random train–test split:"
   ]
  },
  {
   "cell_type": "code",
   "execution_count": 9,
   "metadata": {},
   "outputs": [],
   "source": [
    "dev_rawcols_train, dev_rawcols_test, dev_texts_train, dev_texts_test = \\\n",
    "    train_test_split(dev_rawcols, dev_texts)"
   ]
  },
  {
   "cell_type": "markdown",
   "metadata": {},
   "source": [
    "## Question 1: Improve the tokenizer [1 point]\n",
    "\n",
    "This is the first required question – the first required modification to the default pipeline.\n",
    "\n",
    "The function `tokenize_example` simply splits its string on whitespace and adds the required start and end symbols:"
   ]
  },
  {
   "cell_type": "code",
   "execution_count": 10,
   "metadata": {},
   "outputs": [],
   "source": [
    "from colors_utils import heuristic_ending_tokenizer\n",
    "\n",
    "def tokenize_example(s):\n",
    "    \n",
    "    # Improve me!\n",
    "    \n",
    "    return [START_SYMBOL] + heuristic_ending_tokenizer(s) + [END_SYMBOL]\n",
    "\n",
    "def clean_test_and_training(dev_seqs_train, dev_seqs_test):    \n",
    "    vocab = {}\n",
    "    for toks in dev_seqs_train+dev_seqs_test:\n",
    "        for w in toks:\n",
    "            if w not in vocab:\n",
    "                vocab[w]=0\n",
    "            vocab[w]+=1\n",
    "    removal_candidates = {k:v for k, v in vocab.items() if v == 1 }\n",
    "    \n",
    "    dev_seqs_train = [[w if w not in removal_candidates else UNK_SYMBOL for w in toks] for toks in dev_seqs_train]\n",
    "\n",
    "    dev_seqs_test = [[w if w not in removal_candidates else UNK_SYMBOL for w in toks] for toks in dev_seqs_test]\n",
    "    return dev_seqs_train, dev_seqs_test"
   ]
  },
  {
   "cell_type": "code",
   "execution_count": 11,
   "metadata": {},
   "outputs": [
    {
     "data": {
      "text/plain": [
       "['<s>', 'aqua', ',', 'teal', '</s>']"
      ]
     },
     "execution_count": 11,
     "metadata": {},
     "output_type": "execute_result"
    }
   ],
   "source": [
    "tokenize_example(dev_texts_train[376])"
   ]
  },
  {
   "cell_type": "markdown",
   "metadata": {},
   "source": [
    "__Your task__: Modify `tokenize_example` so that it does something more sophisticated with the input text. \n",
    "\n",
    "__Notes__:\n",
    "\n",
    "* There are useful ideas for this in [Monroe et al. 2017](https://transacl.org/ojs/index.php/tacl/article/view/1142)\n",
    "* There is no requirement that you do word-level tokenization. Sub-word and multi-word are options.\n",
    "* This question can interact with the size of your vocabulary (see just below), and in turn with decisions about how to use `UNK_SYMBOL`.\n",
    "\n",
    "__Important__: don't forget to add the start and end symbols, else the resulting models will definitely be terrible!"
   ]
  },
  {
   "cell_type": "markdown",
   "metadata": {},
   "source": [
    "## Use the tokenizer"
   ]
  },
  {
   "cell_type": "markdown",
   "metadata": {},
   "source": [
    "Once the tokenizer is working, run the following cell to tokenize your inputs:"
   ]
  },
  {
   "cell_type": "code",
   "execution_count": 12,
   "metadata": {},
   "outputs": [],
   "source": [
    "dev_seqs_train = [tokenize_example(s) for s in dev_texts_train]\n",
    "\n",
    "dev_seqs_test = [tokenize_example(s) for s in dev_texts_test]\n",
    "\n",
    "dev_seqs_train, dev_seqs_test = clean_test_and_training(dev_seqs_train, dev_seqs_test)"
   ]
  },
  {
   "cell_type": "markdown",
   "metadata": {},
   "source": [
    "We use only the train set to derive a vocabulary for the model:"
   ]
  },
  {
   "cell_type": "code",
   "execution_count": 13,
   "metadata": {},
   "outputs": [],
   "source": [
    "dev_vocab = sorted({w for toks in dev_seqs_train for w in toks}) + [UNK_SYMBOL]"
   ]
  },
  {
   "cell_type": "markdown",
   "metadata": {},
   "source": [
    "It's important that the `UNK_SYMBOL` is included somewhere in this list. Test examples with word not seen in training will be mapped to `UNK_SYMBOL`. If you model's vocab is the same as your train vocab, then `UNK_SYMBOL` will never be encountered during training, so it will be a random vector at test time."
   ]
  },
  {
   "cell_type": "code",
   "execution_count": 14,
   "metadata": {},
   "outputs": [
    {
     "data": {
      "text/plain": [
       "524"
      ]
     },
     "execution_count": 14,
     "metadata": {},
     "output_type": "execute_result"
    }
   ],
   "source": [
    "len(dev_vocab)"
   ]
  },
  {
   "cell_type": "markdown",
   "metadata": {},
   "source": [
    "## Question 2: Improve the color representations [1 point]\n",
    "\n",
    "This is the second required pipeline improvement for the assignment. \n",
    "\n",
    "The following functions do nothing at all to the raw input colors we get from the corpus. "
   ]
  },
  {
   "cell_type": "code",
   "execution_count": 15,
   "metadata": {},
   "outputs": [],
   "source": [
    "import colorsys\n",
    "\n",
    "def represent_color_context(colors):\n",
    "    \n",
    "    # Improve me!\n",
    "    \n",
    "    return [represent_color(color) for color in colors]\n",
    "\n",
    "\n",
    "def represent_color(color):\n",
    "    import numpy.fft as fft\n",
    "    # Improve me!\n",
    "    #return color\n",
    "    #return colorsys.rgb_to_hsv(*color)\n",
    "    return fft.fft(color)"
   ]
  },
  {
   "cell_type": "code",
   "execution_count": 16,
   "metadata": {},
   "outputs": [
    {
     "data": {
      "text/plain": [
       "[array([ 0.80444444+0.j        , -0.11055556-0.33774991j,\n",
       "        -0.11055556+0.33774991j]),\n",
       " array([1.51722222+0.j        , 0.36222222-0.19918584j,\n",
       "        0.36222222+0.19918584j]),\n",
       " array([ 1.50222222+0.j        , -0.34277778+0.19918584j,\n",
       "        -0.34277778-0.19918584j])]"
      ]
     },
     "execution_count": 16,
     "metadata": {},
     "output_type": "execute_result"
    }
   ],
   "source": [
    "represent_color_context(dev_rawcols_train[0])"
   ]
  },
  {
   "cell_type": "markdown",
   "metadata": {},
   "source": [
    "__Your task__: Modify `represent_color_context` and/or `represent_color` to represent colors in a new way.\n",
    "    \n",
    "__Notes__:\n",
    "\n",
    "* The Fourier-transform method of [Monroe et al. 2017](https://transacl.org/ojs/index.php/tacl/article/view/1142) is a proven choice.\n",
    "* You are not required to keep `represent_color`. This might be unnatural if you want to perform an operation on each color trio all at once.\n",
    "* For that matter, if you want to process all of the color contexts in the entire data set all at once, that is fine too, as long as you can also perform the operation at test time with an unknown number of examples being tested."
   ]
  },
  {
   "cell_type": "markdown",
   "metadata": {},
   "source": [
    "## Use the color representer"
   ]
  },
  {
   "cell_type": "markdown",
   "metadata": {},
   "source": [
    "The following cell just runs your `represent_color_context` on the train and test sets:"
   ]
  },
  {
   "cell_type": "code",
   "execution_count": 17,
   "metadata": {},
   "outputs": [],
   "source": [
    "dev_cols_train = [represent_color_context(colors) for colors in dev_rawcols_train]\n",
    "\n",
    "dev_cols_test = [represent_color_context(colors) for colors in dev_rawcols_test]"
   ]
  },
  {
   "cell_type": "markdown",
   "metadata": {},
   "source": [
    "At this point, our preprocessing steps are complete, and we can fit a first model."
   ]
  },
  {
   "cell_type": "markdown",
   "metadata": {},
   "source": [
    "## Initial model\n",
    "\n",
    "The first model is configured right now to be a small model run for just a few iterations. It should be enough to get traction, but it's unlikely to be a great model. You are free to modify this configuration if you wish; it is here just for demonstration and testing:"
   ]
  },
  {
   "cell_type": "code",
   "execution_count": 18,
   "metadata": {},
   "outputs": [
    {
     "name": "stdout",
     "output_type": "stream",
     "text": [
      "Using cuda\n"
     ]
    }
   ],
   "source": [
    "dev_mod = ColorizedNeuralListener(\n",
    "    dev_vocab, \n",
    "    embed_dim=10, \n",
    "    hidden_dim=10, \n",
    "    max_iter=5, \n",
    "    batch_size=128)"
   ]
  },
  {
   "cell_type": "code",
   "execution_count": 19,
   "metadata": {},
   "outputs": [],
   "source": [
    "#_ = dev_mod.fit(dev_cols_train, dev_seqs_train)"
   ]
  },
  {
   "cell_type": "markdown",
   "metadata": {},
   "source": [
    "We can also see the model's predicted sequences given color context inputs:"
   ]
  },
  {
   "cell_type": "code",
   "execution_count": 20,
   "metadata": {},
   "outputs": [],
   "source": [
    "#dev_mod.predict(dev_cols_test[:1], dev_seqs_train[:1])"
   ]
  },
  {
   "cell_type": "markdown",
   "metadata": {},
   "source": [
    "As discussed in [colors_overview.ipynb](colors_overview.ipynb), our primary metric is `listener_accuracy`:"
   ]
  },
  {
   "cell_type": "code",
   "execution_count": 21,
   "metadata": {},
   "outputs": [],
   "source": [
    "#dev_mod.listener_accuracy(dev_cols_test, dev_seqs_test)"
   ]
  },
  {
   "cell_type": "code",
   "execution_count": 22,
   "metadata": {},
   "outputs": [],
   "source": [
    "#dev_seqs_train[:1]"
   ]
  },
  {
   "cell_type": "markdown",
   "metadata": {},
   "source": [
    "## Question 3: GloVe embeddings [1 points]\n",
    "\n",
    "The above model uses a random initial embedding, as configured by the decoder used by `ContextualColorDescriber`. This homework question asks you to consider using GloVe inputs. \n",
    "\n",
    "__Your task__: Complete `create_glove_embedding` so that it creates a GloVe embedding based on your model vocabulary. This isn't mean to be analytically challenging, but rather just to create a basis for you to try out other kinds of rich initialization."
   ]
  },
  {
   "cell_type": "code",
   "execution_count": 23,
   "metadata": {},
   "outputs": [],
   "source": [
    "GLOVE_HOME = os.path.join('data', 'glove.6B')"
   ]
  },
  {
   "cell_type": "code",
   "execution_count": 24,
   "metadata": {},
   "outputs": [],
   "source": [
    "def create_glove_embedding(vocab, glove_base_filename='glove.6B.100d.txt'):\n",
    "    \n",
    "    # Use `utils.glove2dict` to read in the GloVe file:    \n",
    "    ##### YOUR CODE HERE\n",
    "    glove_dict = utils.glove2dict(os.path.join(GLOVE_HOME, glove_base_filename))\n",
    "\n",
    "    \n",
    "    # Use `utils.create_pretrained_embedding` to create the embedding.\n",
    "    # This function will, by default, ensure that START_TOKEN, \n",
    "    # END_TOKEN, and UNK_TOKEN are included in the embedding.\n",
    "    ##### YOUR CODE HERE\n",
    "    embedding, new_vocab = utils.create_pretrained_embedding(glove_dict, vocab)\n",
    "\n",
    "    \n",
    "    # Be sure to return the embedding you create as well as the\n",
    "    # vocabulary returned by `utils.create_pretrained_embedding`,\n",
    "    # which is likely to have been modified from the input `vocab`.\n",
    "    \n",
    "    ##### YOUR CODE HERE\n",
    "    return embedding, new_vocab\n"
   ]
  },
  {
   "cell_type": "markdown",
   "metadata": {},
   "source": [
    "## Try the GloVe representations"
   ]
  },
  {
   "cell_type": "markdown",
   "metadata": {},
   "source": [
    "Let's see if GloVe helped for our development data:"
   ]
  },
  {
   "cell_type": "code",
   "execution_count": 25,
   "metadata": {},
   "outputs": [],
   "source": [
    "#dev_glove_embedding, dev_glove_vocab = create_glove_embedding(dev_vocab)"
   ]
  },
  {
   "cell_type": "code",
   "execution_count": 26,
   "metadata": {},
   "outputs": [],
   "source": [
    "embedding = np.random.normal(\n",
    "            loc=0, scale=0.01, size=(len(dev_vocab), 100))"
   ]
  },
  {
   "cell_type": "markdown",
   "metadata": {},
   "source": [
    "The above might dramatically change your vocabulary, depending on how many items from your vocab are in the Glove space:"
   ]
  },
  {
   "cell_type": "markdown",
   "metadata": {},
   "source": [
    "## Question 4: Color context [3 points]"
   ]
  },
  {
   "cell_type": "code",
   "execution_count": 27,
   "metadata": {},
   "outputs": [],
   "source": [
    "toy_color_seqs, toy_word_seqs, toy_vocab = create_example_dataset(\n",
    "    group_size=50, vec_dim=2)"
   ]
  },
  {
   "cell_type": "code",
   "execution_count": 28,
   "metadata": {},
   "outputs": [],
   "source": [
    "toy_color_seqs_train, toy_color_seqs_test, toy_word_seqs_train, toy_word_seqs_test = \\\n",
    "    train_test_split(toy_color_seqs, toy_word_seqs)"
   ]
  },
  {
   "cell_type": "code",
   "execution_count": 29,
   "metadata": {},
   "outputs": [
    {
     "name": "stdout",
     "output_type": "stream",
     "text": [
      "Using cuda\n"
     ]
    }
   ],
   "source": [
    "toy_mod = ColorizedNeuralListener(\n",
    "    toy_vocab, \n",
    "    embed_dim=100, \n",
    "    embedding=embedding,\n",
    "    hidden_dim=100, \n",
    "    max_iter=100, \n",
    "    batch_size=128)"
   ]
  },
  {
   "cell_type": "code",
   "execution_count": 30,
   "metadata": {},
   "outputs": [
    {
     "name": "stdout",
     "output_type": "stream",
     "text": [
      "ColorizedNeuralListenerEncoder cpu\n",
      "ColorizedNeuralListenerEncoderDecoder cpu\n",
      "Train: Epoch 1; err = 1.098220705986023; time = 1.9324381351470947\n",
      "Train: Epoch 2; err = 1.089280366897583; time = 0.027005434036254883\n",
      "Train: Epoch 3; err = 1.0608195066452026; time = 0.02700638771057129\n",
      "Train: Epoch 4; err = 1.0513335466384888; time = 0.02600574493408203\n",
      "Train: Epoch 5; err = 1.0008219480514526; time = 0.026006221771240234\n",
      "Train: Epoch 6; err = 0.986664891242981; time = 0.026004552841186523\n",
      "Train: Epoch 7; err = 0.936097264289856; time = 0.026005983352661133\n",
      "Train: Epoch 8; err = 0.9063353538513184; time = 0.024005889892578125\n",
      "Train: Epoch 9; err = 0.8770572543144226; time = 0.02400493621826172\n",
      "Train: Epoch 10; err = 0.8754205107688904; time = 0.023004770278930664\n",
      "Train: Epoch 11; err = 0.8409022688865662; time = 0.022004127502441406\n",
      "Train: Epoch 12; err = 0.9665831327438354; time = 0.02200460433959961\n",
      "Train: Epoch 13; err = 0.919971764087677; time = 0.02200460433959961\n",
      "Train: Epoch 14; err = 0.8627786040306091; time = 0.022005081176757812\n",
      "0.01\n",
      "tensor([0.0034, 0.3499, 0.6467], grad_fn=<MeanBackward1>) 0.8835020065307617\n",
      "Train: Epoch 15; err = 0.8835020065307617; time = 0.02500772476196289\n",
      "Train: Epoch 16; err = 0.8218598365783691; time = 0.02400493621826172\n",
      "Train: Epoch 17; err = 0.9158889055252075; time = 0.021004676818847656\n",
      "Train: Epoch 18; err = 0.9446014165878296; time = 0.021004676818847656\n",
      "Train: Epoch 19; err = 0.9561064839363098; time = 0.02200460433959961\n",
      "Train: Epoch 20; err = 0.9568825960159302; time = 0.022005081176757812\n",
      "Train: Epoch 21; err = 0.9433854222297668; time = 0.021004915237426758\n",
      "Train: Epoch 22; err = 0.9271335005760193; time = 0.021004438400268555\n",
      "Train: Epoch 23; err = 0.9167481064796448; time = 0.021004915237426758\n",
      "Train: Epoch 24; err = 0.9112199544906616; time = 0.023005008697509766\n",
      "Train: Epoch 25; err = 0.9058590531349182; time = 0.021004676818847656\n",
      "Train: Epoch 26; err = 0.8732191920280457; time = 0.021004676818847656\n",
      "Train: Epoch 27; err = 0.8738681077957153; time = 0.022005081176757812\n",
      "Train: Epoch 28; err = 0.9002196192741394; time = 0.02100515365600586\n",
      "Train: Epoch 29; err = 0.9028984904289246; time = 0.02200484275817871\n",
      "0.01\n",
      "tensor([1.4243e-05, 3.5111e-01, 6.4888e-01], grad_fn=<MeanBackward1>) 0.900375247001648\n",
      "Train: Epoch 30; err = 0.900375247001648; time = 0.024005889892578125\n",
      "Train: Epoch 31; err = 0.8805952072143555; time = 0.021004676818847656\n",
      "Train: Epoch 32; err = 0.7408013939857483; time = 0.02100539207458496\n",
      "Train: Epoch 33; err = 0.8210409879684448; time = 0.02100396156311035\n",
      "Train: Epoch 34; err = 0.787285327911377; time = 0.020004987716674805\n",
      "Train: Epoch 35; err = 0.7398616075515747; time = 0.025005578994750977\n",
      "Train: Epoch 36; err = 0.7567338347434998; time = 0.021004438400268555\n",
      "Train: Epoch 37; err = 0.7881148457527161; time = 0.021004915237426758\n",
      "Train: Epoch 38; err = 0.738440990447998; time = 0.02100539207458496\n",
      "Train: Epoch 39; err = 0.7866324782371521; time = 0.02100515365600586\n",
      "Train: Epoch 40; err = 0.7374945282936096; time = 0.02300548553466797\n",
      "Train: Epoch 41; err = 0.7698391675949097; time = 0.02100515365600586\n",
      "Train: Epoch 42; err = 0.7386781573295593; time = 0.02200460433959961\n",
      "Train: Epoch 43; err = 0.7529757618904114; time = 0.024005651473999023\n",
      "Train: Epoch 44; err = 0.7427898645401001; time = 0.021004676818847656\n",
      "0.01\n",
      "tensor([0.0736, 0.1441, 0.7823], grad_fn=<MeanBackward1>) 0.7405411005020142\n",
      "Train: Epoch 45; err = 0.7405411005020142; time = 0.025006771087646484\n",
      "Train: Epoch 46; err = 0.745033323764801; time = 0.02100539207458496\n",
      "Train: Epoch 47; err = 0.7339359521865845; time = 0.02100539207458496\n",
      "Train: Epoch 48; err = 0.7436004281044006; time = 0.021004438400268555\n",
      "Train: Epoch 49; err = 0.7303455471992493; time = 0.02100396156311035\n",
      "Train: Epoch 50; err = 0.7407897114753723; time = 0.021004915237426758\n",
      "Train: Epoch 51; err = 0.7273958921432495; time = 0.021006345748901367\n",
      "Train: Epoch 52; err = 0.7355507016181946; time = 0.021004915237426758\n",
      "Train: Epoch 53; err = 0.7247236371040344; time = 0.021004199981689453\n",
      "Train: Epoch 54; err = 0.7305647134780884; time = 0.021004199981689453\n",
      "Train: Epoch 55; err = 0.7223911285400391; time = 0.021004915237426758\n",
      "Train: Epoch 56; err = 0.7242569923400879; time = 0.02100539207458496\n",
      "Train: Epoch 57; err = 0.720088005065918; time = 0.021004438400268555\n",
      "Train: Epoch 58; err = 0.7179628014564514; time = 0.02100515365600586\n",
      "Train: Epoch 59; err = 0.7174543738365173; time = 0.021004676818847656\n",
      "0.01\n",
      "tensor([0.0911, 0.1021, 0.8068], grad_fn=<MeanBackward1>) 0.711652398109436\n",
      "Train: Epoch 60; err = 0.711652398109436; time = 0.025006532669067383\n",
      "Train: Epoch 61; err = 0.7134767174720764; time = 0.021004915237426758\n",
      "Train: Epoch 62; err = 0.7067055702209473; time = 0.020004749298095703\n",
      "Train: Epoch 63; err = 0.7057113647460938; time = 0.021004438400268555\n",
      "Train: Epoch 64; err = 0.7033917307853699; time = 0.022005319595336914\n",
      "Train: Epoch 65; err = 0.6971108317375183; time = 0.021004438400268555\n",
      "Train: Epoch 66; err = 0.6960763931274414; time = 0.021004199981689453\n",
      "Train: Epoch 67; err = 0.6926928758621216; time = 0.021004438400268555\n",
      "Train: Epoch 68; err = 0.6858032941818237; time = 0.023007631301879883\n",
      "Train: Epoch 69; err = 0.6820027232170105; time = 0.022002696990966797\n",
      "Train: Epoch 70; err = 0.68048095703125; time = 0.02200460433959961\n",
      "Train: Epoch 71; err = 0.6774555444717407; time = 0.02200484275817871\n",
      "Train: Epoch 72; err = 0.6733768582344055; time = 0.02600574493408203\n",
      "Train: Epoch 73; err = 0.6682078242301941; time = 0.025005340576171875\n",
      "Train: Epoch 74; err = 0.6645851731300354; time = 0.026005268096923828\n",
      "0.01\n",
      "tensor([0.0372, 0.1086, 0.8541], grad_fn=<MeanBackward1>) 0.6627641320228577\n",
      "Train: Epoch 75; err = 0.6627641320228577; time = 0.030007362365722656\n",
      "Train: Epoch 76; err = 0.6655557751655579; time = 0.02600550651550293\n",
      "Train: Epoch 77; err = 0.669148862361908; time = 0.026006221771240234\n",
      "Train: Epoch 78; err = 0.6632550954818726; time = 0.025005817413330078\n",
      "Train: Epoch 79; err = 0.6440882682800293; time = 0.025005340576171875\n",
      "Train: Epoch 80; err = 0.6298890113830566; time = 0.026005983352661133\n",
      "Train: Epoch 81; err = 0.6274892091751099; time = 0.025005578994750977\n",
      "Train: Epoch 82; err = 0.6330720782279968; time = 0.025005340576171875\n",
      "Train: Epoch 83; err = 0.638116717338562; time = 0.023005247116088867\n",
      "Train: Epoch 84; err = 0.6306706070899963; time = 0.02200484275817871\n",
      "Train: Epoch 85; err = 0.6148380637168884; time = 0.022005081176757812\n",
      "Train: Epoch 86; err = 0.6062301993370056; time = 0.022005081176757812\n",
      "Train: Epoch 87; err = 0.6100825071334839; time = 0.022005319595336914\n",
      "Train: Epoch 88; err = 0.6133505702018738; time = 0.023005008697509766\n",
      "Train: Epoch 89; err = 0.6056590676307678; time = 0.02200460433959961\n",
      "0.01\n",
      "tensor([0.0377, 0.0251, 0.9372], grad_fn=<MeanBackward1>) 0.5947360992431641\n",
      "Train: Epoch 90; err = 0.5947360992431641; time = 0.025005817413330078\n",
      "Train: Epoch 91; err = 0.5934273600578308; time = 0.025005817413330078\n",
      "Train: Epoch 92; err = 0.5968644022941589; time = 0.02200484275817871\n",
      "Train: Epoch 93; err = 0.5937670469284058; time = 0.021004676818847656\n",
      "Train: Epoch 94; err = 0.5854907631874084; time = 0.02200484275817871\n",
      "Train: Epoch 95; err = 0.5834559798240662; time = 0.022005081176757812\n",
      "Train: Epoch 96; err = 0.5859647393226624; time = 0.023005008697509766\n",
      "Train: Epoch 97; err = 0.5834172964096069; time = 0.022005081176757812\n",
      "Train: Epoch 98; err = 0.5777824521064758; time = 0.022005558013916016\n",
      "Train: Epoch 99; err = 0.5767249464988708; time = 0.02200770378112793\n",
      "Train: Epoch 100; err = 0.5781328082084656; time = 0.02200460433959961\n"
     ]
    }
   ],
   "source": [
    "_ = toy_mod.fit(toy_color_seqs_train, toy_word_seqs_train)"
   ]
  },
  {
   "cell_type": "code",
   "execution_count": 31,
   "metadata": {},
   "outputs": [
    {
     "name": "stdout",
     "output_type": "stream",
     "text": [
      "38 / 38 1.0\n"
     ]
    }
   ],
   "source": [
    "preds = toy_mod.predict(toy_color_seqs_test, toy_word_seqs_test)\n",
    "correct = sum([1 if x == 2 else 0 for x in preds])\n",
    "print(correct, \"/\", len(preds), correct/len(preds))"
   ]
  },
  {
   "cell_type": "markdown",
   "metadata": {},
   "source": [
    "If that worked, then you can now try this model on SCC problems!"
   ]
  },
  {
   "cell_type": "code",
   "execution_count": 32,
   "metadata": {},
   "outputs": [
    {
     "name": "stdout",
     "output_type": "stream",
     "text": [
      "Using cuda\n"
     ]
    }
   ],
   "source": [
    "dev_color_mod = ColorizedNeuralListener(\n",
    "    dev_vocab, \n",
    "    #embedding=dev_glove_embedding, \n",
    "    embed_dim=100,\n",
    "    embedding=embedding,\n",
    "    hidden_dim=100, \n",
    "    max_iter=100,\n",
    "    batch_size=256,\n",
    "    dropout_prob=0.,\n",
    "    eta=0.001,\n",
    "    lr_rate=0.96,\n",
    "    warm_start=True,\n",
    "    device='cuda')\n",
    "# Uncomment line if you want to continue training the previous model\n",
    "# literal_listener.load_model(\"literal_listener.pt\")\n"
   ]
  },
  {
   "cell_type": "code",
   "execution_count": 33,
   "metadata": {},
   "outputs": [
    {
     "name": "stdout",
     "output_type": "stream",
     "text": [
      "ColorizedNeuralListenerEncoder cuda\n",
      "ColorizedNeuralListenerEncoderDecoder cuda\n"
     ]
    },
    {
     "name": "stderr",
     "output_type": "stream",
     "text": [
      "C:\\Users\\Chris\\Github\\cs224u\\torch_color_selector.py:77: ComplexWarning: Casting complex values to real discards the imaginary part\n",
      "  color_seqs = torch.FloatTensor(color_seqs)\n"
     ]
    },
    {
     "name": "stdout",
     "output_type": "stream",
     "text": [
      "Train: Epoch 1; err = 45.0116913318634; time = 1.6016724109649658\n",
      "Train: Epoch 2; err = 44.76425087451935; time = 1.2712879180908203\n",
      "Train: Epoch 3; err = 42.315463840961456; time = 1.2742884159088135\n",
      "Train: Epoch 4; err = 40.02921777963638; time = 1.290292501449585\n",
      "Train: Epoch 5; err = 39.53593546152115; time = 1.2972843647003174\n",
      "Train: Epoch 6; err = 40.70192712545395; time = 1.3043062686920166\n",
      "Train: Epoch 7; err = 39.06339365243912; time = 1.3132970333099365\n",
      "Train: Epoch 8; err = 38.72709101438522; time = 1.2772881984710693\n",
      "Train: Epoch 9; err = 38.64778006076813; time = 1.2932929992675781\n",
      "Train: Epoch 10; err = 38.33688426017761; time = 1.2862915992736816\n",
      "Train: Epoch 11; err = 38.12612175941467; time = 1.2862915992736816\n",
      "Train: Epoch 12; err = 38.69426113367081; time = 1.2692978382110596\n",
      "Train: Epoch 13; err = 39.1980003118515; time = 1.267287254333496\n",
      "Train: Epoch 14; err = 38.282128274440765; time = 1.2862915992736816\n",
      "0.00096\n",
      "tensor([0.2528, 0.1996, 0.5476], device='cuda:0', grad_fn=<MeanBackward1>) 0.9531557559967041\n",
      "Train: Epoch 15; err = 37.85976904630661; time = 1.2532737255096436\n",
      "Train: Epoch 16; err = 37.84051811695099; time = 1.2682974338531494\n",
      "Train: Epoch 17; err = 37.79510456323624; time = 1.2722885608673096\n",
      "Train: Epoch 18; err = 37.610050082206726; time = 1.2582850456237793\n",
      "Train: Epoch 19; err = 38.142124354839325; time = 1.26629638671875\n",
      "Train: Epoch 20; err = 37.71475374698639; time = 1.286301612854004\n",
      "Train: Epoch 21; err = 46.660797238349915; time = 1.2827203273773193\n",
      "Train: Epoch 22; err = 40.13923001289368; time = 1.301478624343872\n",
      "Train: Epoch 23; err = 38.6088690161705; time = 1.3002948760986328\n",
      "Train: Epoch 24; err = 38.08389937877655; time = 1.2873015403747559\n",
      "Train: Epoch 25; err = 37.776209235191345; time = 1.2963037490844727\n",
      "Train: Epoch 26; err = 37.688110649585724; time = 1.2882914543151855\n",
      "Train: Epoch 27; err = 37.64679658412933; time = 1.3163080215454102\n",
      "Train: Epoch 28; err = 37.33921664953232; time = 1.325310468673706\n",
      "Train: Epoch 29; err = 37.38920474052429; time = 1.2751824855804443\n",
      "0.0009216\n",
      "tensor([0.2199, 0.2432, 0.5369], device='cuda:0', grad_fn=<MeanBackward1>) 0.9544163942337036\n",
      "Train: Epoch 30; err = 40.130003929138184; time = 1.3042857646942139\n",
      "Train: Epoch 31; err = 37.9430074095726; time = 1.2853004932403564\n",
      "Train: Epoch 32; err = 37.77878600358963; time = 1.280290126800537\n",
      "Train: Epoch 33; err = 38.759140729904175; time = 1.2702984809875488\n",
      "Train: Epoch 34; err = 38.92834675312042; time = 1.3203096389770508\n",
      "Train: Epoch 35; err = 37.77603876590729; time = 1.2752890586853027\n",
      "Train: Epoch 36; err = 37.45188170671463; time = 1.2511284351348877\n",
      "Train: Epoch 37; err = 37.31385678052902; time = 1.2572848796844482\n",
      "Train: Epoch 38; err = 37.197765946388245; time = 1.2632863521575928\n",
      "Train: Epoch 39; err = 37.23772132396698; time = 1.2562839984893799\n",
      "Train: Epoch 40; err = 37.11820662021637; time = 1.2552845478057861\n",
      "Train: Epoch 41; err = 36.904083490371704; time = 1.2502825260162354\n",
      "Train: Epoch 42; err = 37.510807394981384; time = 1.255284309387207\n",
      "Train: Epoch 43; err = 37.27236795425415; time = 1.248293161392212\n",
      "Train: Epoch 44; err = 36.91867917776108; time = 1.2492835521697998\n",
      "0.0008847359999999999\n",
      "tensor([0.1823, 0.1613, 0.6564], device='cuda:0', grad_fn=<MeanBackward1>) 0.8516687154769897\n",
      "Train: Epoch 45; err = 36.89367318153381; time = 1.2622756958007812\n",
      "Train: Epoch 46; err = 37.67958045005798; time = 1.2542946338653564\n",
      "Train: Epoch 47; err = 37.0700386762619; time = 1.2472825050354004\n",
      "Train: Epoch 48; err = 36.95213425159454; time = 1.2512831687927246\n",
      "Train: Epoch 49; err = 37.17077940702438; time = 1.2562839984893799\n",
      "Train: Epoch 50; err = 36.980642914772034; time = 1.2642767429351807\n",
      "Train: Epoch 51; err = 36.9114608168602; time = 1.2532942295074463\n",
      "Train: Epoch 52; err = 36.834904074668884; time = 1.2612857818603516\n",
      "Train: Epoch 53; err = 36.8040486574173; time = 1.255284070968628\n",
      "Train: Epoch 54; err = 36.78131425380707; time = 1.25728440284729\n",
      "Train: Epoch 55; err = 37.057401061058044; time = 1.2552838325500488\n",
      "Train: Epoch 56; err = 36.811255276203156; time = 1.2562835216522217\n",
      "Train: Epoch 57; err = 36.66593074798584; time = 1.2492828369140625\n",
      "Train: Epoch 58; err = 36.76642978191376; time = 1.2622859477996826\n",
      "Train: Epoch 59; err = 36.71846961975098; time = 1.2522838115692139\n",
      "0.0008493465599999999\n",
      "tensor([0.1805, 0.1430, 0.6765], device='cuda:0', grad_fn=<MeanBackward1>) 0.837761640548706\n",
      "Train: Epoch 60; err = 36.54436731338501; time = 1.2602763175964355\n",
      "Train: Epoch 61; err = 36.83360356092453; time = 1.2682976722717285\n",
      "Train: Epoch 62; err = 36.60636293888092; time = 1.2492823600769043\n",
      "Train: Epoch 63; err = 36.545181572437286; time = 1.2502832412719727\n",
      "Train: Epoch 64; err = 36.504991233348846; time = 1.244272232055664\n",
      "Train: Epoch 65; err = 36.71074503660202; time = 1.2562835216522217\n",
      "Train: Epoch 66; err = 36.350693225860596; time = 1.251283884048462\n",
      "Train: Epoch 67; err = 36.72280567884445; time = 1.2682874202728271\n",
      "Train: Epoch 68; err = 36.788920521736145; time = 1.2562839984893799\n",
      "Train: Epoch 69; err = 36.61280792951584; time = 1.2552947998046875\n",
      "Train: Epoch 70; err = 36.40295618772507; time = 1.2592854499816895\n",
      "Train: Epoch 71; err = 36.20673793554306; time = 1.252284049987793\n",
      "Train: Epoch 72; err = 36.81054109334946; time = 1.2461326122283936\n",
      "Train: Epoch 73; err = 36.47511428594589; time = 1.2492830753326416\n",
      "Train: Epoch 74; err = 36.29384869337082; time = 1.2552845478057861\n",
      "0.0008153726975999999\n",
      "tensor([0.1815, 0.1707, 0.6479], device='cuda:0', grad_fn=<MeanBackward1>) 0.8654254078865051\n",
      "Train: Epoch 75; err = 36.21810954809189; time = 1.2488019466400146\n",
      "Train: Epoch 76; err = 36.31508141756058; time = 1.257293701171875\n",
      "Train: Epoch 77; err = 36.83213174343109; time = 1.2582957744598389\n",
      "Train: Epoch 78; err = 36.35307902097702; time = 1.259303331375122\n",
      "Train: Epoch 79; err = 36.26436823606491; time = 1.2522943019866943\n",
      "Train: Epoch 80; err = 36.394499599933624; time = 1.264296531677246\n",
      "Train: Epoch 81; err = 36.29343342781067; time = 1.2452926635742188\n",
      "Train: Epoch 82; err = 36.206787407398224; time = 1.257295846939087\n",
      "Train: Epoch 83; err = 36.0447895526886; time = 1.2532947063446045\n",
      "Train: Epoch 84; err = 36.09006553888321; time = 1.2452921867370605\n",
      "Train: Epoch 85; err = 36.12447661161423; time = 1.2472929954528809\n",
      "Train: Epoch 86; err = 36.02656149864197; time = 1.2472813129425049\n",
      "Train: Epoch 87; err = 35.97170001268387; time = 1.2533013820648193\n",
      "Train: Epoch 88; err = 36.15797662734985; time = 1.2562952041625977\n",
      "Train: Epoch 89; err = 36.01592868566513; time = 1.2533016204833984\n",
      "0.0007827577896959998\n",
      "tensor([0.1920, 0.1727, 0.6353], device='cuda:0', grad_fn=<MeanBackward1>) 0.8861691951751709\n",
      "Train: Epoch 90; err = 35.90441191196442; time = 1.2632851600646973\n",
      "Train: Epoch 91; err = 35.83897137641907; time = 1.261296272277832\n",
      "Train: Epoch 92; err = 36.1127387881279; time = 1.2542943954467773\n",
      "Train: Epoch 93; err = 35.89026200771332; time = 1.2612855434417725\n",
      "Train: Epoch 94; err = 36.322935461997986; time = 1.2512941360473633\n",
      "Train: Epoch 95; err = 36.10507845878601; time = 1.248293399810791\n",
      "Train: Epoch 96; err = 35.990346789360046; time = 1.2569003105163574\n",
      "Train: Epoch 97; err = 36.01406478881836; time = 1.2562847137451172\n",
      "Train: Epoch 98; err = 35.85473608970642; time = 1.2502930164337158\n",
      "Train: Epoch 99; err = 35.9260773062706; time = 1.2512834072113037\n",
      "Train: Epoch 100; err = 36.13205271959305; time = 1.2472927570343018\n"
     ]
    }
   ],
   "source": [
    "_ = dev_color_mod.fit(dev_cols_train, dev_seqs_train)"
   ]
  },
  {
   "cell_type": "code",
   "execution_count": 34,
   "metadata": {},
   "outputs": [],
   "source": [
    "test_preds = dev_color_mod.predict(dev_cols_test, dev_seqs_test)\n",
    "#dev_color_mod.predict(dev_cols_test, dev_seqs_test, probabilities=True)\n",
    "train_preds = dev_color_mod.predict(dev_cols_train, dev_seqs_train)\n",
    "#dev_color_mod.predict(dev_cols_test, dev_seqs_test, probabilities=True)"
   ]
  },
  {
   "cell_type": "code",
   "execution_count": 35,
   "metadata": {},
   "outputs": [
    {
     "name": "stdout",
     "output_type": "stream",
     "text": [
      "test 2277 / 3473 0.6556291390728477\n",
      "train 6984 / 10417 0.6704425458385331\n"
     ]
    }
   ],
   "source": [
    "correct = sum([1 if x == 2 else 0 for x in test_preds])\n",
    "print(\"test\", correct, \"/\", len(test_preds), correct/len(test_preds))\n",
    "correct = sum([1 if x == 2 else 0 for x in train_preds])\n",
    "print(\"train\", correct, \"/\", len(train_preds), correct/len(train_preds))"
   ]
  },
  {
   "cell_type": "code",
   "execution_count": 36,
   "metadata": {},
   "outputs": [],
   "source": [
    "totals = {}\n",
    "for ex in dev_examples:\n",
    "    #ex.display(typ='speaker')\n",
    "    #print(ex.condition)\n",
    "    if ex.condition not in totals:\n",
    "        totals[ex.condition] = 0\n",
    "    totals[ex.condition]+=1\n",
    "    #print(dev_color_mod.predict([ex.speaker_context], [tokenize_example(ex.contents)], probabilities=True))\n",
    "    #print(dev_color_mod.predict([ex.speaker_context], [tokenize_example(ex.contents)])[0])\n",
    "    #print()\n",
    "    \n",
    "scores = {}\n",
    "preds = dev_color_mod.predict([represent_color_context(colors) for colors in dev_rawcols], \n",
    "                              [tokenize_example(text) for text in dev_texts])\n",
    "for i, ex in enumerate(dev_examples):\n",
    "    #ex.display(typ='speaker')\n",
    "    #print(ex.condition)\n",
    "    if ex.condition not in scores:\n",
    "        scores[ex.condition] = 0\n",
    "    if preds[i] == 2:\n",
    "        scores[ex.condition]+=1"
   ]
  },
  {
   "cell_type": "code",
   "execution_count": 37,
   "metadata": {},
   "outputs": [
    {
     "name": "stdout",
     "output_type": "stream",
     "text": [
      "close : 3597 / 5776 = 0.6227493074792244\n",
      "far : 1890 / 2657 = 0.7113285660519383\n",
      "split : 3759 / 5457 = 0.6888400219901044\n"
     ]
    }
   ],
   "source": [
    "for condition in scores:\n",
    "    print(condition, \":\", scores[condition], \"/\", totals[condition], \"=\", scores[condition]/totals[condition])"
   ]
  },
  {
   "cell_type": "code",
   "execution_count": 38,
   "metadata": {},
   "outputs": [],
   "source": [
    "#dev_perp = dev_color_mod.perplexities(dev_cols_test, dev_seqs_test)\n",
    "#dev_perp[0]"
   ]
  },
  {
   "cell_type": "code",
   "execution_count": 39,
   "metadata": {},
   "outputs": [],
   "source": [
    "dev_color_mod.save_model(\"literal_listener.pt\")"
   ]
  },
  {
   "cell_type": "code",
   "execution_count": 40,
   "metadata": {},
   "outputs": [],
   "source": [
    "def save_to_pickle():\n",
    "    import pickle \n",
    "\n",
    "    with open('dev_vocab.pickle', 'wb') as handle:\n",
    "        pickle.dump(dev_vocab, handle, protocol=pickle.HIGHEST_PROTOCOL)\n",
    "    with open('dev_seqs_test.pickle', 'wb') as handle:\n",
    "        pickle.dump(dev_seqs_test, handle, protocol=pickle.HIGHEST_PROTOCOL)\n",
    "    with open('dev_seqs_train.pickle', 'wb') as handle:\n",
    "        pickle.dump(dev_seqs_train, handle, protocol=pickle.HIGHEST_PROTOCOL)\n",
    "    with open('dev_cols_test.pickle', 'wb') as handle:\n",
    "        pickle.dump(dev_cols_test, handle, protocol=pickle.HIGHEST_PROTOCOL)\n",
    "    with open('dev_cols_train.pickle', 'wb') as handle:\n",
    "        pickle.dump(dev_cols_train, handle, protocol=pickle.HIGHEST_PROTOCOL)\n",
    "    with open('embedding.pickle', 'wb') as handle:\n",
    "        pickle.dump(embedding, handle, protocol=pickle.HIGHEST_PROTOCOL)\n",
    "save_to_pickle()"
   ]
  },
  {
   "cell_type": "code",
   "execution_count": null,
   "metadata": {},
   "outputs": [],
   "source": []
  }
 ],
 "metadata": {
  "kernelspec": {
   "display_name": "Python 3",
   "language": "python",
   "name": "python3"
  },
  "language_info": {
   "codemirror_mode": {
    "name": "ipython",
    "version": 3
   },
   "file_extension": ".py",
   "mimetype": "text/x-python",
   "name": "python",
   "nbconvert_exporter": "python",
   "pygments_lexer": "ipython3",
   "version": "3.7.4"
  }
 },
 "nbformat": 4,
 "nbformat_minor": 2
}
