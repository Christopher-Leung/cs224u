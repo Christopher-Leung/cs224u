{
 "cells": [
  {
   "cell_type": "markdown",
   "metadata": {},
   "source": [
    "# Homework and bake-off: pragmatic color descriptions"
   ]
  },
  {
   "cell_type": "code",
   "execution_count": 1,
   "metadata": {},
   "outputs": [],
   "source": [
    "__author__ = \"Christopher Potts\"\n",
    "__version__ = \"CS224u, Stanford, Spring 2020\""
   ]
  },
  {
   "cell_type": "markdown",
   "metadata": {},
   "source": [
    "## Contents\n",
    "\n",
    "1. [Overview](#Overview)\n",
    "1. [Set-up](#Set-up)\n",
    "1. [All two-word examples as a dev corpus](#All-two-word-examples-as-a-dev-corpus)\n",
    "1. [Dev dataset](#Dev-dataset)\n",
    "1. [Random train–test split for development](#Random-train–test-split-for-development)\n",
    "1. [Question 1: Improve the tokenizer [1 point]](#Question-1:-Improve-the-tokenizer-[1-point])\n",
    "1. [Use the tokenizer](#Use-the-tokenizer)\n",
    "1. [Question 2: Improve the color representations [1 point]](#Question-2:-Improve-the-color-representations-[1-point])\n",
    "1. [Use the color representer](#Use-the-color-representer)\n",
    "1. [Initial model](#Initial-model)\n",
    "1. [Question 3: GloVe embeddings [1 points]](#Question-3:-GloVe-embeddings-[1-points])\n",
    "1. [Try the GloVe representations](#Try-the-GloVe-representations)\n",
    "1. [Question 4: Color context [3 points]](#Question-4:-Color-context-[3-points])\n",
    "1. [Your original system [3 points]](#Your-original-system-[3-points])\n",
    "1. [Bakeoff [1 point]](#Bakeoff-[1-point])"
   ]
  },
  {
   "cell_type": "markdown",
   "metadata": {},
   "source": [
    "## Overview\n",
    "\n",
    "This homework and associated bake-off are oriented toward building an effective system for generating color descriptions that are pragmatic in the sense that they would help a reader/listener figure out which color was being referred to in a shared context consisting of a target color (whose identity is known only to the describer/speaker) and a set of distractors.\n",
    "\n",
    "The notebook [colors_overview.ipynb](colors_overview.ipynb) should be studied before work on this homework begins. That notebook provides backgroud on the task, the dataset, and the modeling code that you will be using and adapting.\n",
    "\n",
    "The homework questions are more open-ended than previous ones have been. Rather than asking you to implement pre-defined functionality, they ask you to try to improve baseline components of the full system in ways that you find to be effective. As usual, this culiminates in a prompt asking you to develop a novel system for entry into the bake-off. In this case, though, the work you do for the homework will likely be directly incorporated into that system."
   ]
  },
  {
   "cell_type": "markdown",
   "metadata": {},
   "source": [
    "## Set-up"
   ]
  },
  {
   "cell_type": "markdown",
   "metadata": {},
   "source": [
    "See [colors_overview.ipynb](colors_overview.ipynb) for set-up in instructions and other background details."
   ]
  },
  {
   "cell_type": "code",
   "execution_count": 2,
   "metadata": {},
   "outputs": [],
   "source": [
    "from colors import ColorsCorpusReader\n",
    "import os\n",
    "from sklearn.model_selection import train_test_split\n",
    "from torch_color_describer import (\n",
    "    ColorizedNeuralListener, create_example_dataset)\n",
    "import utils\n",
    "from utils import START_SYMBOL, END_SYMBOL, UNK_SYMBOL\n",
    "import numpy as np"
   ]
  },
  {
   "cell_type": "code",
   "execution_count": 3,
   "metadata": {},
   "outputs": [],
   "source": [
    "utils.fix_random_seeds()"
   ]
  },
  {
   "cell_type": "code",
   "execution_count": 4,
   "metadata": {},
   "outputs": [],
   "source": [
    "COLORS_SRC_FILENAME = os.path.join(\n",
    "    \"data\", \"colors\", \"filteredCorpus.csv\")"
   ]
  },
  {
   "cell_type": "markdown",
   "metadata": {},
   "source": [
    "## All two-word examples as a dev corpus\n",
    "\n",
    "So that you don't have to sit through excessively long training runs during development, I suggest working with the two-word-only subset of the corpus until you enter into the late stages of system testing."
   ]
  },
  {
   "cell_type": "code",
   "execution_count": 5,
   "metadata": {},
   "outputs": [],
   "source": [
    "dev_corpus = ColorsCorpusReader(\n",
    "    COLORS_SRC_FILENAME, \n",
    "    word_count=2, \n",
    "    normalize_colors=True)"
   ]
  },
  {
   "cell_type": "code",
   "execution_count": 6,
   "metadata": {},
   "outputs": [],
   "source": [
    "dev_examples = list(dev_corpus.read())"
   ]
  },
  {
   "cell_type": "markdown",
   "metadata": {},
   "source": [
    "This subset has about one-third the examples of the full corpus:"
   ]
  },
  {
   "cell_type": "code",
   "execution_count": 7,
   "metadata": {},
   "outputs": [
    {
     "data": {
      "text/plain": [
       "13890"
      ]
     },
     "execution_count": 7,
     "metadata": {},
     "output_type": "execute_result"
    }
   ],
   "source": [
    "len(dev_examples)"
   ]
  },
  {
   "cell_type": "markdown",
   "metadata": {},
   "source": [
    "We __should__ worry that it's not a fully representative sample. Most of the descriptions in the full corpus are shorter, and a large proportion are longer. So this dataset is mainly for debugging, development, and general hill-climbing. All findings should be validated on the full dataset at some point."
   ]
  },
  {
   "cell_type": "markdown",
   "metadata": {},
   "source": [
    "## Dev dataset\n",
    "\n",
    "The first step is to extract the raw color and raw texts from the corpus:"
   ]
  },
  {
   "cell_type": "code",
   "execution_count": 8,
   "metadata": {},
   "outputs": [],
   "source": [
    "dev_rawcols, dev_texts = zip(*[[ex.colors, ex.contents] for ex in dev_examples])"
   ]
  },
  {
   "cell_type": "markdown",
   "metadata": {},
   "source": [
    "The raw color representations are suitable inputs to a model, but the texts are just strings, so they can't really be processed as-is. Question 1 asks you to do some tokenizing!"
   ]
  },
  {
   "cell_type": "markdown",
   "metadata": {},
   "source": [
    "## Random train–test split for development\n",
    "\n",
    "For the sake of development runs, we create a random train–test split:"
   ]
  },
  {
   "cell_type": "code",
   "execution_count": 9,
   "metadata": {},
   "outputs": [],
   "source": [
    "dev_rawcols_train, dev_rawcols_test, dev_texts_train, dev_texts_test = \\\n",
    "    train_test_split(dev_rawcols, dev_texts)"
   ]
  },
  {
   "cell_type": "markdown",
   "metadata": {},
   "source": [
    "## Question 1: Improve the tokenizer [1 point]\n",
    "\n",
    "This is the first required question – the first required modification to the default pipeline.\n",
    "\n",
    "The function `tokenize_example` simply splits its string on whitespace and adds the required start and end symbols:"
   ]
  },
  {
   "cell_type": "code",
   "execution_count": 10,
   "metadata": {},
   "outputs": [],
   "source": [
    "from colors_utils import heuristic_ending_tokenizer\n",
    "\n",
    "def tokenize_example(s):\n",
    "    \n",
    "    # Improve me!\n",
    "    \n",
    "    return [START_SYMBOL] + heuristic_ending_tokenizer(s) + [END_SYMBOL]\n",
    "\n",
    "def clean_test_and_training(dev_seqs_train, dev_seqs_test):    \n",
    "    vocab = {}\n",
    "    for toks in dev_seqs_train+dev_seqs_test:\n",
    "        for w in toks:\n",
    "            if w not in vocab:\n",
    "                vocab[w]=0\n",
    "            vocab[w]+=1\n",
    "    removal_candidates = {k:v for k, v in vocab.items() if v == 1 }\n",
    "    \n",
    "    dev_seqs_train = [[w if w not in removal_candidates else UNK_SYMBOL for w in toks] for toks in dev_seqs_train]\n",
    "\n",
    "    dev_seqs_test = [[w if w not in removal_candidates else UNK_SYMBOL for w in toks] for toks in dev_seqs_test]\n",
    "    return dev_seqs_train, dev_seqs_test"
   ]
  },
  {
   "cell_type": "code",
   "execution_count": 11,
   "metadata": {},
   "outputs": [
    {
     "data": {
      "text/plain": [
       "['<s>', 'aqua', ',', 'teal', '</s>']"
      ]
     },
     "execution_count": 11,
     "metadata": {},
     "output_type": "execute_result"
    }
   ],
   "source": [
    "tokenize_example(dev_texts_train[376])"
   ]
  },
  {
   "cell_type": "markdown",
   "metadata": {},
   "source": [
    "__Your task__: Modify `tokenize_example` so that it does something more sophisticated with the input text. \n",
    "\n",
    "__Notes__:\n",
    "\n",
    "* There are useful ideas for this in [Monroe et al. 2017](https://transacl.org/ojs/index.php/tacl/article/view/1142)\n",
    "* There is no requirement that you do word-level tokenization. Sub-word and multi-word are options.\n",
    "* This question can interact with the size of your vocabulary (see just below), and in turn with decisions about how to use `UNK_SYMBOL`.\n",
    "\n",
    "__Important__: don't forget to add the start and end symbols, else the resulting models will definitely be terrible!"
   ]
  },
  {
   "cell_type": "markdown",
   "metadata": {},
   "source": [
    "## Use the tokenizer"
   ]
  },
  {
   "cell_type": "markdown",
   "metadata": {},
   "source": [
    "Once the tokenizer is working, run the following cell to tokenize your inputs:"
   ]
  },
  {
   "cell_type": "code",
   "execution_count": 12,
   "metadata": {},
   "outputs": [],
   "source": [
    "dev_seqs_train = [tokenize_example(s) for s in dev_texts_train]\n",
    "\n",
    "dev_seqs_test = [tokenize_example(s) for s in dev_texts_test]\n",
    "\n",
    "dev_seqs_train, dev_seqs_test = clean_test_and_training(dev_seqs_train, dev_seqs_test)"
   ]
  },
  {
   "cell_type": "markdown",
   "metadata": {},
   "source": [
    "We use only the train set to derive a vocabulary for the model:"
   ]
  },
  {
   "cell_type": "code",
   "execution_count": 13,
   "metadata": {},
   "outputs": [],
   "source": [
    "dev_vocab = sorted({w for toks in dev_seqs_train for w in toks}) + [UNK_SYMBOL]"
   ]
  },
  {
   "cell_type": "markdown",
   "metadata": {},
   "source": [
    "It's important that the `UNK_SYMBOL` is included somewhere in this list. Test examples with word not seen in training will be mapped to `UNK_SYMBOL`. If you model's vocab is the same as your train vocab, then `UNK_SYMBOL` will never be encountered during training, so it will be a random vector at test time."
   ]
  },
  {
   "cell_type": "code",
   "execution_count": 14,
   "metadata": {},
   "outputs": [
    {
     "data": {
      "text/plain": [
       "524"
      ]
     },
     "execution_count": 14,
     "metadata": {},
     "output_type": "execute_result"
    }
   ],
   "source": [
    "len(dev_vocab)"
   ]
  },
  {
   "cell_type": "markdown",
   "metadata": {},
   "source": [
    "## Question 2: Improve the color representations [1 point]\n",
    "\n",
    "This is the second required pipeline improvement for the assignment. \n",
    "\n",
    "The following functions do nothing at all to the raw input colors we get from the corpus. "
   ]
  },
  {
   "cell_type": "code",
   "execution_count": 15,
   "metadata": {},
   "outputs": [],
   "source": [
    "import colorsys\n",
    "\n",
    "def represent_color_context(colors):\n",
    "    \n",
    "    # Improve me!\n",
    "    \n",
    "    return [represent_color(color) for color in colors]\n",
    "\n",
    "\n",
    "def represent_color(color):\n",
    "    #import numpy.fft as fft\n",
    "    # Improve me!\n",
    "    #return color\n",
    "    return colorsys.rgb_to_hsv(*color)"
   ]
  },
  {
   "cell_type": "code",
   "execution_count": 16,
   "metadata": {},
   "outputs": [
    {
     "data": {
      "text/plain": [
       "[(0.2972459639126306, 0.78, 0.5),\n",
       " (0.08032596041909196, 0.6386617100371748, 0.7472222222222222),\n",
       " (0.5837378640776699, 0.6270928462709285, 0.73)]"
      ]
     },
     "execution_count": 16,
     "metadata": {},
     "output_type": "execute_result"
    }
   ],
   "source": [
    "represent_color_context(dev_rawcols_train[0])"
   ]
  },
  {
   "cell_type": "markdown",
   "metadata": {},
   "source": [
    "__Your task__: Modify `represent_color_context` and/or `represent_color` to represent colors in a new way.\n",
    "    \n",
    "__Notes__:\n",
    "\n",
    "* The Fourier-transform method of [Monroe et al. 2017](https://transacl.org/ojs/index.php/tacl/article/view/1142) is a proven choice.\n",
    "* You are not required to keep `represent_color`. This might be unnatural if you want to perform an operation on each color trio all at once.\n",
    "* For that matter, if you want to process all of the color contexts in the entire data set all at once, that is fine too, as long as you can also perform the operation at test time with an unknown number of examples being tested."
   ]
  },
  {
   "cell_type": "markdown",
   "metadata": {},
   "source": [
    "## Use the color representer"
   ]
  },
  {
   "cell_type": "markdown",
   "metadata": {},
   "source": [
    "The following cell just runs your `represent_color_context` on the train and test sets:"
   ]
  },
  {
   "cell_type": "code",
   "execution_count": 17,
   "metadata": {},
   "outputs": [],
   "source": [
    "dev_cols_train = [represent_color_context(colors) for colors in dev_rawcols_train]\n",
    "\n",
    "dev_cols_test = [represent_color_context(colors) for colors in dev_rawcols_test]"
   ]
  },
  {
   "cell_type": "markdown",
   "metadata": {},
   "source": [
    "At this point, our preprocessing steps are complete, and we can fit a first model."
   ]
  },
  {
   "cell_type": "markdown",
   "metadata": {},
   "source": [
    "## Initial model\n",
    "\n",
    "The first model is configured right now to be a small model run for just a few iterations. It should be enough to get traction, but it's unlikely to be a great model. You are free to modify this configuration if you wish; it is here just for demonstration and testing:"
   ]
  },
  {
   "cell_type": "code",
   "execution_count": 18,
   "metadata": {},
   "outputs": [
    {
     "name": "stdout",
     "output_type": "stream",
     "text": [
      "Using cuda\n"
     ]
    }
   ],
   "source": [
    "dev_mod = ColorizedNeuralListener(\n",
    "    dev_vocab, \n",
    "    embed_dim=10, \n",
    "    hidden_dim=10, \n",
    "    max_iter=5, \n",
    "    batch_size=128)"
   ]
  },
  {
   "cell_type": "code",
   "execution_count": 19,
   "metadata": {},
   "outputs": [],
   "source": [
    "#_ = dev_mod.fit(dev_cols_train, dev_seqs_train)"
   ]
  },
  {
   "cell_type": "markdown",
   "metadata": {},
   "source": [
    "We can also see the model's predicted sequences given color context inputs:"
   ]
  },
  {
   "cell_type": "code",
   "execution_count": 20,
   "metadata": {},
   "outputs": [],
   "source": [
    "#dev_mod.predict(dev_cols_test[:1], dev_seqs_train[:1])"
   ]
  },
  {
   "cell_type": "markdown",
   "metadata": {},
   "source": [
    "As discussed in [colors_overview.ipynb](colors_overview.ipynb), our primary metric is `listener_accuracy`:"
   ]
  },
  {
   "cell_type": "code",
   "execution_count": 21,
   "metadata": {},
   "outputs": [],
   "source": [
    "#dev_mod.listener_accuracy(dev_cols_test, dev_seqs_test)"
   ]
  },
  {
   "cell_type": "code",
   "execution_count": 22,
   "metadata": {},
   "outputs": [],
   "source": [
    "#dev_seqs_train[:1]"
   ]
  },
  {
   "cell_type": "markdown",
   "metadata": {},
   "source": [
    "## Question 3: GloVe embeddings [1 points]\n",
    "\n",
    "The above model uses a random initial embedding, as configured by the decoder used by `ContextualColorDescriber`. This homework question asks you to consider using GloVe inputs. \n",
    "\n",
    "__Your task__: Complete `create_glove_embedding` so that it creates a GloVe embedding based on your model vocabulary. This isn't mean to be analytically challenging, but rather just to create a basis for you to try out other kinds of rich initialization."
   ]
  },
  {
   "cell_type": "code",
   "execution_count": 23,
   "metadata": {},
   "outputs": [],
   "source": [
    "GLOVE_HOME = os.path.join('data', 'glove.6B')"
   ]
  },
  {
   "cell_type": "code",
   "execution_count": 24,
   "metadata": {},
   "outputs": [],
   "source": [
    "def create_glove_embedding(vocab, glove_base_filename='glove.6B.100d.txt'):\n",
    "    \n",
    "    # Use `utils.glove2dict` to read in the GloVe file:    \n",
    "    ##### YOUR CODE HERE\n",
    "    glove_dict = utils.glove2dict(os.path.join(GLOVE_HOME, glove_base_filename))\n",
    "\n",
    "    \n",
    "    # Use `utils.create_pretrained_embedding` to create the embedding.\n",
    "    # This function will, by default, ensure that START_TOKEN, \n",
    "    # END_TOKEN, and UNK_TOKEN are included in the embedding.\n",
    "    ##### YOUR CODE HERE\n",
    "    embedding, new_vocab = utils.create_pretrained_embedding(glove_dict, vocab)\n",
    "\n",
    "    \n",
    "    # Be sure to return the embedding you create as well as the\n",
    "    # vocabulary returned by `utils.create_pretrained_embedding`,\n",
    "    # which is likely to have been modified from the input `vocab`.\n",
    "    \n",
    "    ##### YOUR CODE HERE\n",
    "    return embedding, new_vocab\n"
   ]
  },
  {
   "cell_type": "markdown",
   "metadata": {},
   "source": [
    "## Try the GloVe representations"
   ]
  },
  {
   "cell_type": "markdown",
   "metadata": {},
   "source": [
    "Let's see if GloVe helped for our development data:"
   ]
  },
  {
   "cell_type": "code",
   "execution_count": 25,
   "metadata": {},
   "outputs": [],
   "source": [
    "#dev_glove_embedding, dev_glove_vocab = create_glove_embedding(dev_vocab)"
   ]
  },
  {
   "cell_type": "code",
   "execution_count": 26,
   "metadata": {},
   "outputs": [],
   "source": [
    "embedding = np.random.normal(\n",
    "            loc=0, scale=0.01, size=(len(dev_vocab), 100))"
   ]
  },
  {
   "cell_type": "markdown",
   "metadata": {},
   "source": [
    "The above might dramatically change your vocabulary, depending on how many items from your vocab are in the Glove space:"
   ]
  },
  {
   "cell_type": "markdown",
   "metadata": {},
   "source": [
    "## Question 4: Color context [3 points]"
   ]
  },
  {
   "cell_type": "code",
   "execution_count": 32,
   "metadata": {},
   "outputs": [],
   "source": [
    "toy_color_seqs, toy_word_seqs, toy_vocab = create_example_dataset(\n",
    "    group_size=50, vec_dim=2)"
   ]
  },
  {
   "cell_type": "code",
   "execution_count": 33,
   "metadata": {},
   "outputs": [],
   "source": [
    "toy_color_seqs_train, toy_color_seqs_test, toy_word_seqs_train, toy_word_seqs_test = \\\n",
    "    train_test_split(toy_color_seqs, toy_word_seqs)"
   ]
  },
  {
   "cell_type": "code",
   "execution_count": 34,
   "metadata": {},
   "outputs": [
    {
     "name": "stdout",
     "output_type": "stream",
     "text": [
      "Using cuda\n"
     ]
    }
   ],
   "source": [
    "toy_mod = ColorizedNeuralListener(\n",
    "    toy_vocab, \n",
    "    embed_dim=100, \n",
    "    embedding=embedding,\n",
    "    hidden_dim=100, \n",
    "    max_iter=100, \n",
    "    batch_size=128)"
   ]
  },
  {
   "cell_type": "code",
   "execution_count": 35,
   "metadata": {},
   "outputs": [
    {
     "name": "stdout",
     "output_type": "stream",
     "text": [
      "ColorizedNeuralListenerEncoder cuda\n",
      "ColorizedNeuralListenerEncoderDecoder cuda\n",
      "Train: Epoch 1; err = 1.0982208251953125; time = 0.3360753059387207\n",
      "Train: Epoch 2; err = 1.089280366897583; time = 0.022021770477294922\n",
      "Train: Epoch 3; err = 1.0608195066452026; time = 0.021004676818847656\n",
      "Train: Epoch 4; err = 1.0513336658477783; time = 0.02101421356201172\n",
      "Train: Epoch 5; err = 1.0008217096328735; time = 0.02101445198059082\n",
      "Train: Epoch 6; err = 0.9866648316383362; time = 0.02101421356201172\n",
      "Train: Epoch 7; err = 0.936097264289856; time = 0.021004676818847656\n",
      "Train: Epoch 8; err = 0.9063354134559631; time = 0.021004915237426758\n",
      "Train: Epoch 9; err = 0.8770572543144226; time = 0.021004199981689453\n",
      "Train: Epoch 10; err = 0.8754205703735352; time = 0.022004365921020508\n",
      "Train: Epoch 11; err = 0.8409029245376587; time = 0.021004915237426758\n",
      "Train: Epoch 12; err = 0.9665824770927429; time = 0.021014690399169922\n",
      "Train: Epoch 13; err = 0.9199685454368591; time = 0.021013975143432617\n",
      "Train: Epoch 14; err = 0.8627839684486389; time = 0.021004438400268555\n",
      "0.01\n",
      "tensor([0.0034, 0.3499, 0.6467], device='cuda:0', grad_fn=<MeanBackward1>) 0.8835166692733765\n",
      "Train: Epoch 15; err = 0.8835166692733765; time = 0.02800607681274414\n",
      "Train: Epoch 16; err = 0.8219499588012695; time = 0.021004915237426758\n",
      "Train: Epoch 17; err = 0.915809690952301; time = 0.021004199981689453\n",
      "Train: Epoch 18; err = 0.9445261359214783; time = 0.021013736724853516\n",
      "Train: Epoch 19; err = 0.9559489488601685; time = 0.02200460433959961\n",
      "Train: Epoch 20; err = 0.9566993117332458; time = 0.02101445198059082\n",
      "Train: Epoch 21; err = 0.9433045983314514; time = 0.020003557205200195\n",
      "Train: Epoch 22; err = 0.9271391034126282; time = 0.02101421356201172\n",
      "Train: Epoch 23; err = 0.9167714715003967; time = 0.021004438400268555\n",
      "Train: Epoch 24; err = 0.9112364053726196; time = 0.021021127700805664\n",
      "Train: Epoch 25; err = 0.9058839082717896; time = 0.021004676818847656\n",
      "Train: Epoch 26; err = 0.873591959476471; time = 0.021004199981689453\n",
      "Train: Epoch 27; err = 0.8724809288978577; time = 0.021004438400268555\n",
      "Train: Epoch 28; err = 0.8984764218330383; time = 0.021013736724853516\n",
      "Train: Epoch 29; err = 0.8990928530693054; time = 0.021013736724853516\n",
      "0.01\n",
      "tensor([1.9990e-04, 3.3742e-01, 6.6238e-01], device='cuda:0',\n",
      "       grad_fn=<MeanBackward1>) 0.8829994797706604\n",
      "Train: Epoch 30; err = 0.8829994797706604; time = 0.027997732162475586\n",
      "Train: Epoch 31; err = 0.7411389350891113; time = 0.02200460433959961\n",
      "Train: Epoch 32; err = 0.8957204818725586; time = 0.02400517463684082\n",
      "Train: Epoch 33; err = 0.9080325365066528; time = 0.021004438400268555\n",
      "Train: Epoch 34; err = 0.9094969630241394; time = 0.021013498306274414\n",
      "Train: Epoch 35; err = 0.9108335375785828; time = 0.020014286041259766\n",
      "Train: Epoch 36; err = 0.9132716059684753; time = 0.02100539207458496\n",
      "Train: Epoch 37; err = 0.9170492887496948; time = 0.02100515365600586\n",
      "Train: Epoch 38; err = 0.9202455282211304; time = 0.02101445198059082\n",
      "Train: Epoch 39; err = 0.9194517135620117; time = 0.021004915237426758\n",
      "Train: Epoch 40; err = 0.915729820728302; time = 0.021013975143432617\n",
      "Train: Epoch 41; err = 0.912463366985321; time = 0.0200045108795166\n",
      "Train: Epoch 42; err = 0.9105510711669922; time = 0.02100539207458496\n",
      "Train: Epoch 43; err = 0.9095671772956848; time = 0.021013259887695312\n",
      "Train: Epoch 44; err = 0.9090575575828552; time = 0.02100396156311035\n",
      "0.01\n",
      "tensor([3.5705e-01, 4.4363e-04, 6.4250e-01], device='cuda:0',\n",
      "       grad_fn=<MeanBackward1>) 0.9087488055229187\n",
      "Train: Epoch 45; err = 0.9087488055229187; time = 0.028006553649902344\n",
      "Train: Epoch 46; err = 0.9084707498550415; time = 0.022005558013916016\n",
      "Train: Epoch 47; err = 0.9080528020858765; time = 0.022014379501342773\n",
      "Train: Epoch 48; err = 0.9071353077888489; time = 0.021004199981689453\n",
      "Train: Epoch 49; err = 0.9042673110961914; time = 0.022015094757080078\n",
      "Train: Epoch 50; err = 0.8884335160255432; time = 0.020005226135253906\n",
      "Train: Epoch 51; err = 0.7556906938552856; time = 0.021015405654907227\n",
      "Train: Epoch 52; err = 0.9404410719871521; time = 0.021015167236328125\n",
      "Train: Epoch 53; err = 0.9484723210334778; time = 0.021022319793701172\n",
      "Train: Epoch 54; err = 0.9093875288963318; time = 0.024005413055419922\n",
      "Train: Epoch 55; err = 0.9085913896560669; time = 0.02500462532043457\n",
      "Train: Epoch 56; err = 0.9085816740989685; time = 0.021013736724853516\n",
      "Train: Epoch 57; err = 0.9085859060287476; time = 0.021004676818847656\n",
      "Train: Epoch 58; err = 0.908587634563446; time = 0.021004915237426758\n",
      "Train: Epoch 59; err = 0.9085882306098938; time = 0.021013736724853516\n",
      "0.01\n",
      "tensor([8.6695e-14, 3.5714e-01, 6.4286e-01], device='cuda:0',\n",
      "       grad_fn=<MeanBackward1>) 0.9085885286331177\n",
      "Train: Epoch 60; err = 0.9085885286331177; time = 0.027005672454833984\n",
      "Train: Epoch 61; err = 0.908588707447052; time = 0.02100515365600586\n",
      "Train: Epoch 62; err = 0.9085888266563416; time = 0.021996021270751953\n",
      "Train: Epoch 63; err = 0.9085890054702759; time = 0.02500462532043457\n",
      "Train: Epoch 64; err = 0.9085891842842102; time = 0.021004915237426758\n",
      "Train: Epoch 65; err = 0.9085897207260132; time = 0.022005081176757812\n",
      "Train: Epoch 66; err = 0.9085907936096191; time = 0.021004915237426758\n",
      "Train: Epoch 67; err = 0.9085947275161743; time = 0.02101421356201172\n",
      "Train: Epoch 68; err = 0.9086102843284607; time = 0.021004438400268555\n",
      "Train: Epoch 69; err = 0.9086750745773315; time = 0.021004199981689453\n",
      "Train: Epoch 70; err = 0.9088950157165527; time = 0.021004438400268555\n",
      "Train: Epoch 71; err = 0.9090451598167419; time = 0.021013975143432617\n",
      "Train: Epoch 72; err = 0.9087686538696289; time = 0.02100396156311035\n",
      "Train: Epoch 73; err = 0.9086419343948364; time = 0.021004676818847656\n",
      "Train: Epoch 74; err = 0.9086066484451294; time = 0.021004199981689453\n",
      "0.01\n",
      "tensor([1.1803e-11, 3.5716e-01, 6.4284e-01], device='cuda:0',\n",
      "       grad_fn=<MeanBackward1>) 0.9085961580276489\n",
      "Train: Epoch 75; err = 0.9085961580276489; time = 0.02700638771057129\n",
      "Train: Epoch 76; err = 0.908592700958252; time = 0.021013975143432617\n",
      "Train: Epoch 77; err = 0.9085912108421326; time = 0.022014379501342773\n",
      "Train: Epoch 78; err = 0.9085907340049744; time = 0.021004676818847656\n",
      "Train: Epoch 79; err = 0.9085904359817505; time = 0.021004915237426758\n",
      "Train: Epoch 80; err = 0.9085903167724609; time = 0.02101421356201172\n",
      "Train: Epoch 81; err = 0.9085903763771057; time = 0.02100515365600586\n",
      "Train: Epoch 82; err = 0.9085903167724609; time = 0.020003795623779297\n",
      "Train: Epoch 83; err = 0.9085901975631714; time = 0.022014617919921875\n",
      "Train: Epoch 84; err = 0.9085902571678162; time = 0.0200045108795166\n",
      "Train: Epoch 85; err = 0.9085903167724609; time = 0.020013809204101562\n",
      "Train: Epoch 86; err = 0.9085903167724609; time = 0.02199554443359375\n",
      "Train: Epoch 87; err = 0.9085903167724609; time = 0.02100348472595215\n",
      "Train: Epoch 88; err = 0.9085902571678162; time = 0.021004199981689453\n",
      "Train: Epoch 89; err = 0.9085903167724609; time = 0.021013975143432617\n",
      "0.01\n",
      "tensor([9.9853e-13, 3.5715e-01, 6.4285e-01], device='cuda:0',\n",
      "       grad_fn=<MeanBackward1>) 0.9085903167724609\n",
      "Train: Epoch 90; err = 0.9085903167724609; time = 0.027996301651000977\n",
      "Train: Epoch 91; err = 0.9085903167724609; time = 0.021004676818847656\n",
      "Train: Epoch 92; err = 0.9085903763771057; time = 0.02100515365600586\n",
      "Train: Epoch 93; err = 0.9085904359817505; time = 0.021004438400268555\n",
      "Train: Epoch 94; err = 0.9085903763771057; time = 0.0200045108795166\n",
      "Train: Epoch 95; err = 0.9085903763771057; time = 0.021004438400268555\n",
      "Train: Epoch 96; err = 0.9085903763771057; time = 0.021004676818847656\n",
      "Train: Epoch 97; err = 0.9085903763771057; time = 0.021004438400268555\n",
      "Train: Epoch 98; err = 0.9085903763771057; time = 0.021005868911743164\n",
      "Train: Epoch 99; err = 0.9085903763771057; time = 0.021003246307373047\n",
      "Train: Epoch 100; err = 0.9085903167724609; time = 0.02100396156311035\n"
     ]
    }
   ],
   "source": [
    "_ = toy_mod.fit(toy_color_seqs_train, toy_word_seqs_train)"
   ]
  },
  {
   "cell_type": "code",
   "execution_count": 36,
   "metadata": {},
   "outputs": [
    {
     "name": "stdout",
     "output_type": "stream",
     "text": [
      "28 / 38 0.7368421052631579\n"
     ]
    }
   ],
   "source": [
    "preds = toy_mod.predict(toy_color_seqs_test, toy_word_seqs_test)\n",
    "correct = sum([1 if x == 2 else 0 for x in preds])\n",
    "print(correct, \"/\", len(preds), correct/len(preds))"
   ]
  },
  {
   "cell_type": "markdown",
   "metadata": {},
   "source": [
    "If that worked, then you can now try this model on SCC problems!"
   ]
  },
  {
   "cell_type": "code",
   "execution_count": 37,
   "metadata": {},
   "outputs": [
    {
     "name": "stdout",
     "output_type": "stream",
     "text": [
      "Using cuda\n"
     ]
    }
   ],
   "source": [
    "dev_color_mod = ColorizedNeuralListener(\n",
    "    dev_vocab, \n",
    "    #embedding=dev_glove_embedding, \n",
    "    embed_dim=100,\n",
    "    embedding=embedding,\n",
    "    hidden_dim=100, \n",
    "    max_iter=500,\n",
    "    batch_size=64,\n",
    "    dropout_prob=0.,\n",
    "    eta=0.005,\n",
    "    lr_rate=0.96,\n",
    "    warm_start=True,\n",
    "    force_cpu=False)"
   ]
  },
  {
   "cell_type": "code",
   "execution_count": 38,
   "metadata": {},
   "outputs": [
    {
     "name": "stdout",
     "output_type": "stream",
     "text": [
      "ColorizedNeuralListenerEncoder cuda\n",
      "ColorizedNeuralListenerEncoderDecoder cuda\n",
      "Train: Epoch 1; err = 174.56135833263397; time = 3.2024505138397217\n",
      "Train: Epoch 2; err = 167.08786380290985; time = 3.181521415710449\n",
      "Train: Epoch 3; err = 163.8842829465866; time = 3.177652597427368\n",
      "Train: Epoch 4; err = 162.85227769613266; time = 3.1587154865264893\n",
      "Train: Epoch 5; err = 160.64099550247192; time = 3.171736717224121\n",
      "Train: Epoch 6; err = 159.84933269023895; time = 3.1931376457214355\n",
      "Train: Epoch 7; err = 158.64588981866837; time = 3.1952219009399414\n",
      "Train: Epoch 8; err = 158.42308926582336; time = 3.208022117614746\n",
      "Train: Epoch 9; err = 157.50649029016495; time = 3.1847214698791504\n",
      "Train: Epoch 10; err = 157.07443779706955; time = 3.210716962814331\n",
      "Train: Epoch 11; err = 156.55773693323135; time = 3.2857446670532227\n",
      "Train: Epoch 12; err = 155.76028686761856; time = 3.3997020721435547\n",
      "Train: Epoch 13; err = 155.037342607975; time = 3.2243144512176514\n",
      "Train: Epoch 14; err = 156.04501020908356; time = 3.203718900680542\n",
      "0.0048\n",
      "tensor([0.2303, 0.1562, 0.6135], device='cuda:0', grad_fn=<MeanBackward1>) 0.8809344172477722\n",
      "Train: Epoch 15; err = 154.64639335870743; time = 3.1667068004608154\n",
      "Train: Epoch 16; err = 155.4142740368843; time = 3.168735980987549\n",
      "Train: Epoch 17; err = 155.11519122123718; time = 3.165717363357544\n",
      "Train: Epoch 18; err = 154.97892981767654; time = 3.164716958999634\n",
      "Train: Epoch 19; err = 154.53015637397766; time = 3.2027156352996826\n",
      "Train: Epoch 20; err = 153.57825076580048; time = 3.2907562255859375\n",
      "Train: Epoch 21; err = 153.59008425474167; time = 3.254737615585327\n",
      "Train: Epoch 22; err = 152.92638093233109; time = 3.2377336025238037\n",
      "Train: Epoch 23; err = 153.47216999530792; time = 3.219729423522949\n",
      "Train: Epoch 24; err = 152.84580409526825; time = 3.2527363300323486\n",
      "Train: Epoch 25; err = 153.12934064865112; time = 3.268507242202759\n",
      "Train: Epoch 26; err = 152.73530060052872; time = 3.237733840942383\n",
      "Train: Epoch 27; err = 151.38378673791885; time = 3.2557384967803955\n",
      "Train: Epoch 28; err = 152.85295301675797; time = 3.2408535480499268\n",
      "Train: Epoch 29; err = 152.19369089603424; time = 3.2467458248138428\n",
      "0.004607999999999999\n",
      "tensor([0.2519, 0.1517, 0.5964], device='cuda:0', grad_fn=<MeanBackward1>) 0.8956533670425415\n",
      "Train: Epoch 30; err = 151.74342453479767; time = 3.2387232780456543\n",
      "Train: Epoch 31; err = 151.74716967344284; time = 3.2286648750305176\n",
      "Train: Epoch 32; err = 150.97396832704544; time = 3.2724785804748535\n",
      "Train: Epoch 33; err = 151.46111649274826; time = 3.247776746749878\n",
      "Train: Epoch 34; err = 151.15525168180466; time = 3.3057589530944824\n",
      "Train: Epoch 35; err = 150.54033237695694; time = 3.220719575881958\n",
      "Train: Epoch 36; err = 151.12730866670609; time = 3.2357335090637207\n",
      "Train: Epoch 37; err = 150.72932010889053; time = 3.2227230072021484\n",
      "Train: Epoch 38; err = 150.65421468019485; time = 3.2027151584625244\n",
      "Train: Epoch 39; err = 150.66561663150787; time = 3.212738275527954\n",
      "Train: Epoch 40; err = 150.62839126586914; time = 3.2616069316864014\n",
      "Train: Epoch 41; err = 150.30174833536148; time = 3.187826156616211\n",
      "Train: Epoch 42; err = 150.78950011730194; time = 3.176720142364502\n",
      "Train: Epoch 43; err = 150.41371190547943; time = 3.2768847942352295\n",
      "Train: Epoch 44; err = 150.1117199063301; time = 3.1627161502838135\n",
      "0.004423679999999999\n",
      "tensor([0.2566, 0.1917, 0.5517], device='cuda:0', grad_fn=<MeanBackward1>) 0.9423121809959412\n",
      "Train: Epoch 45; err = 149.95831090211868; time = 3.182413339614868\n",
      "Train: Epoch 46; err = 149.5800722837448; time = 3.166978359222412\n",
      "Train: Epoch 47; err = 148.86236989498138; time = 3.1937241554260254\n",
      "Train: Epoch 48; err = 149.69832450151443; time = 3.1987249851226807\n",
      "Train: Epoch 49; err = 149.81556808948517; time = 3.209728717803955\n",
      "Train: Epoch 50; err = 149.50659447908401; time = 3.1820104122161865\n",
      "Train: Epoch 51; err = 150.0063173174858; time = 3.1727190017700195\n",
      "Train: Epoch 52; err = 148.80243170261383; time = 3.157715320587158\n",
      "Train: Epoch 53; err = 149.17103707790375; time = 3.1607158184051514\n",
      "Train: Epoch 54; err = 148.81568104028702; time = 3.1747195720672607\n",
      "Train: Epoch 55; err = 148.7448609471321; time = 3.1677181720733643\n",
      "Train: Epoch 56; err = 148.42063307762146; time = 3.1727190017700195\n",
      "Train: Epoch 57; err = 149.0035970211029; time = 3.1670825481414795\n",
      "Train: Epoch 58; err = 147.95351350307465; time = 3.167832851409912\n",
      "Train: Epoch 59; err = 148.6020330786705; time = 3.155715227127075\n",
      "0.004246732799999999\n",
      "tensor([0.1563, 0.1852, 0.6585], device='cuda:0', grad_fn=<MeanBackward1>) 0.8464224934577942\n",
      "Train: Epoch 60; err = 147.8793302178383; time = 3.1847290992736816\n",
      "Train: Epoch 61; err = 148.3330590724945; time = 3.176671266555786\n",
      "Train: Epoch 62; err = 148.80642062425613; time = 3.1837215423583984\n",
      "Train: Epoch 63; err = 148.10435819625854; time = 3.1771016120910645\n",
      "Train: Epoch 64; err = 148.57028090953827; time = 3.1727185249328613\n",
      "Train: Epoch 65; err = 147.86619973182678; time = 3.1672627925872803\n",
      "Train: Epoch 66; err = 147.38029259443283; time = 3.1867222785949707\n",
      "Train: Epoch 67; err = 148.37273025512695; time = 3.203725814819336\n",
      "Train: Epoch 68; err = 147.57065331935883; time = 3.1672873497009277\n",
      "Train: Epoch 69; err = 147.17239463329315; time = 3.1737186908721924\n",
      "Train: Epoch 70; err = 147.3374252319336; time = 3.184695243835449\n",
      "Train: Epoch 71; err = 147.84204453229904; time = 3.181720733642578\n",
      "Train: Epoch 72; err = 147.19269859790802; time = 3.1717190742492676\n",
      "Train: Epoch 73; err = 147.32989591360092; time = 3.169718027114868\n",
      "Train: Epoch 74; err = 147.4279461503029; time = 3.167717456817627\n",
      "0.004076863487999999\n",
      "tensor([0.1942, 0.1952, 0.6106], device='cuda:0', grad_fn=<MeanBackward1>) 0.8974167108535767\n",
      "Train: Epoch 75; err = 147.22383213043213; time = 3.1797096729278564\n",
      "Train: Epoch 76; err = 146.82072430849075; time = 3.171729803085327\n",
      "Train: Epoch 77; err = 146.44260281324387; time = 3.1607158184051514\n",
      "Train: Epoch 78; err = 146.73689424991608; time = 3.1627163887023926\n",
      "Train: Epoch 79; err = 146.89989227056503; time = 3.1731984615325928\n",
      "Train: Epoch 80; err = 147.01878291368484; time = 3.1847221851348877\n",
      "Train: Epoch 81; err = 146.51382273435593; time = 3.173719644546509\n",
      "Train: Epoch 82; err = 147.44398093223572; time = 3.1657180786132812\n",
      "Train: Epoch 83; err = 146.56432819366455; time = 3.1987342834472656\n",
      "Train: Epoch 84; err = 146.1380125284195; time = 3.1542508602142334\n",
      "Train: Epoch 85; err = 145.98960411548615; time = 3.1617159843444824\n",
      "Train: Epoch 86; err = 146.43482464551926; time = 3.184492826461792\n",
      "Train: Epoch 87; err = 145.92967408895493; time = 3.184060573577881\n",
      "Train: Epoch 88; err = 145.8595342040062; time = 3.155714988708496\n",
      "Train: Epoch 89; err = 145.40183103084564; time = 3.1737120151519775\n",
      "0.003913788948479999\n",
      "tensor([0.1882, 0.1499, 0.6618], device='cuda:0', grad_fn=<MeanBackward1>) 0.8550420999526978\n",
      "Train: Epoch 90; err = 145.0561687350273; time = 3.160705804824829\n",
      "Train: Epoch 91; err = 145.92617988586426; time = 3.16072678565979\n",
      "Train: Epoch 92; err = 145.28359311819077; time = 3.251725435256958\n",
      "Train: Epoch 93; err = 145.27413707971573; time = 3.171729803085327\n",
      "Train: Epoch 94; err = 146.31362080574036; time = 3.1627798080444336\n",
      "Train: Epoch 95; err = 144.84818416833878; time = 3.1720454692840576\n",
      "Train: Epoch 96; err = 145.2652536034584; time = 3.1477134227752686\n",
      "Train: Epoch 97; err = 145.7557511329651; time = 3.161735773086548\n",
      "Train: Epoch 98; err = 145.65045374631882; time = 3.1746034622192383\n",
      "Train: Epoch 99; err = 145.4683471918106; time = 3.166718006134033\n",
      "Train: Epoch 100; err = 145.46211820840836; time = 3.1637167930603027\n",
      "Train: Epoch 101; err = 145.48182505369186; time = 3.1654982566833496\n",
      "Train: Epoch 102; err = 145.1421224474907; time = 3.1822404861450195\n",
      "Train: Epoch 103; err = 144.4458874464035; time = 3.175719738006592\n",
      "Train: Epoch 104; err = 145.02268010377884; time = 3.1838488578796387\n",
      "0.003757237390540799\n",
      "tensor([0.1496, 0.1335, 0.7169], device='cuda:0', grad_fn=<MeanBackward1>) 0.8002890944480896\n",
      "Train: Epoch 105; err = 144.7840006351471; time = 3.1619648933410645\n",
      "Train: Epoch 106; err = 145.13046902418137; time = 3.1617271900177\n",
      "Train: Epoch 107; err = 145.22887927293777; time = 3.1727185249328613\n"
     ]
    },
    {
     "name": "stdout",
     "output_type": "stream",
     "text": [
      "Train: Epoch 108; err = 144.28107303380966; time = 3.1857218742370605\n",
      "Train: Epoch 109; err = 143.84401607513428; time = 3.201570987701416\n",
      "Train: Epoch 110; err = 144.80945891141891; time = 3.1977243423461914\n",
      "Train: Epoch 111; err = 144.24522000551224; time = 3.1827211380004883\n",
      "Train: Epoch 112; err = 144.76441192626953; time = 3.179720401763916\n",
      "Train: Epoch 113; err = 144.32498455047607; time = 3.1595253944396973\n",
      "Train: Epoch 114; err = 143.7092608809471; time = 3.1677074432373047\n",
      "Train: Epoch 115; err = 144.5629557967186; time = 3.161921262741089\n",
      "Train: Epoch 116; err = 144.51799750328064; time = 3.164717197418213\n",
      "Train: Epoch 117; err = 143.61197310686111; time = 3.1867218017578125\n",
      "Train: Epoch 118; err = 143.9707232117653; time = 3.168718099594116\n",
      "Train: Epoch 119; err = 143.36501896381378; time = 3.157715320587158\n",
      "0.003606947894919167\n",
      "tensor([0.1970, 0.1600, 0.6430], device='cuda:0', grad_fn=<MeanBackward1>) 0.8780393600463867\n",
      "Train: Epoch 120; err = 144.2698773741722; time = 3.1677091121673584\n",
      "Train: Epoch 121; err = 145.09612661600113; time = 3.182729959487915\n",
      "Train: Epoch 122; err = 143.29832124710083; time = 3.170718193054199\n",
      "Train: Epoch 123; err = 143.80540823936462; time = 3.186711311340332\n",
      "Train: Epoch 124; err = 144.1711524128914; time = 3.190783739089966\n",
      "Train: Epoch 125; err = 143.8358645439148; time = 3.1537249088287354\n",
      "Train: Epoch 126; err = 144.05350178480148; time = 3.166717290878296\n",
      "Train: Epoch 127; err = 143.36377483606339; time = 3.1657166481018066\n",
      "Train: Epoch 128; err = 143.19755840301514; time = 3.1617860794067383\n",
      "Train: Epoch 129; err = 143.3823203444481; time = 3.1827211380004883\n",
      "Train: Epoch 130; err = 143.5363597869873; time = 3.169800043106079\n",
      "Train: Epoch 131; err = 144.0452095270157; time = 3.1577157974243164\n",
      "Train: Epoch 132; err = 143.31150209903717; time = 3.157715320587158\n",
      "Train: Epoch 133; err = 143.40446478128433; time = 3.1727185249328613\n",
      "Train: Epoch 134; err = 143.39836275577545; time = 3.157715082168579\n",
      "0.0034626699791224\n",
      "tensor([0.1488, 0.2519, 0.5993], device='cuda:0', grad_fn=<MeanBackward1>) 0.9277498126029968\n",
      "Train: Epoch 135; err = 143.09843128919601; time = 3.1684045791625977\n",
      "Train: Epoch 136; err = 143.29573929309845; time = 3.1707277297973633\n",
      "Train: Epoch 137; err = 142.75685101747513; time = 3.1681625843048096\n",
      "Train: Epoch 138; err = 142.77068543434143; time = 3.161658525466919\n",
      "Train: Epoch 139; err = 142.72656047344208; time = 3.1567153930664062\n",
      "Train: Epoch 140; err = 142.71083271503448; time = 3.1617162227630615\n",
      "Train: Epoch 141; err = 142.48063331842422; time = 3.15771484375\n",
      "Train: Epoch 142; err = 142.31727421283722; time = 3.1746304035186768\n",
      "Train: Epoch 143; err = 142.4448323249817; time = 3.16330885887146\n",
      "Train: Epoch 144; err = 142.01153135299683; time = 3.151714324951172\n",
      "Train: Epoch 145; err = 142.43752187490463; time = 3.1642003059387207\n",
      "Train: Epoch 146; err = 143.4009988307953; time = 3.1655642986297607\n",
      "Train: Epoch 147; err = 143.25171530246735; time = 3.205726385116577\n",
      "Train: Epoch 148; err = 141.9335781931877; time = 3.3398914337158203\n",
      "Train: Epoch 149; err = 141.8060467839241; time = 3.254737615585327\n",
      "0.003324163179957504\n",
      "tensor([0.2165, 0.1662, 0.6173], device='cuda:0', grad_fn=<MeanBackward1>) 0.8954088091850281\n",
      "Train: Epoch 150; err = 142.99221509695053; time = 3.1939263343811035\n",
      "Train: Epoch 151; err = 141.94685357809067; time = 3.167717933654785\n",
      "Train: Epoch 152; err = 143.01497966051102; time = 3.167717933654785\n",
      "Train: Epoch 153; err = 143.08830511569977; time = 3.164717197418213\n",
      "Train: Epoch 154; err = 142.9028537273407; time = 3.201725482940674\n",
      "Train: Epoch 155; err = 142.52541863918304; time = 3.155714511871338\n",
      "Train: Epoch 156; err = 142.56701743602753; time = 3.162226676940918\n",
      "Train: Epoch 157; err = 142.54105615615845; time = 3.181440591812134\n",
      "Train: Epoch 158; err = 142.02278965711594; time = 3.19472336769104\n",
      "Train: Epoch 159; err = 142.62946832180023; time = 3.1847217082977295\n",
      "Train: Epoch 160; err = 141.07468950748444; time = 3.1940417289733887\n",
      "Train: Epoch 161; err = 142.59134501218796; time = 3.1817219257354736\n",
      "Train: Epoch 162; err = 141.96724265813828; time = 3.18772292137146\n",
      "Train: Epoch 163; err = 141.9392322897911; time = 3.188333749771118\n",
      "Train: Epoch 164; err = 142.1014044880867; time = 3.1817309856414795\n",
      "0.0031911966527592038\n",
      "tensor([0.1886, 0.1957, 0.6157], device='cuda:0', grad_fn=<MeanBackward1>) 0.9063950181007385\n",
      "Train: Epoch 165; err = 141.47475427389145; time = 3.1804473400115967\n",
      "Train: Epoch 166; err = 141.18360114097595; time = 3.1677277088165283\n",
      "Train: Epoch 167; err = 141.51870810985565; time = 3.187150239944458\n",
      "Train: Epoch 168; err = 141.1364819407463; time = 3.153714895248413\n",
      "Train: Epoch 169; err = 141.72258859872818; time = 3.1846587657928467\n",
      "Train: Epoch 170; err = 142.17273318767548; time = 3.17317271232605\n",
      "Train: Epoch 171; err = 141.71303057670593; time = 3.183563470840454\n",
      "Train: Epoch 172; err = 141.5003423690796; time = 3.183058261871338\n",
      "Train: Epoch 173; err = 141.55696439743042; time = 3.176923990249634\n",
      "Train: Epoch 174; err = 141.913836479187; time = 3.162716865539551\n",
      "Train: Epoch 175; err = 141.62480002641678; time = 3.181720733642578\n",
      "Train: Epoch 176; err = 141.34176570177078; time = 3.180720806121826\n",
      "Train: Epoch 177; err = 141.2691957950592; time = 3.1617166996002197\n",
      "Train: Epoch 178; err = 141.06504797935486; time = 3.178720235824585\n",
      "Train: Epoch 179; err = 141.7574707865715; time = 3.15871524810791\n",
      "0.0030635487866488356\n",
      "tensor([0.2280, 0.2651, 0.5070], device='cuda:0', grad_fn=<MeanBackward1>) 1.0127698183059692\n",
      "Train: Epoch 180; err = 141.0196567773819; time = 3.187711477279663\n",
      "Train: Epoch 181; err = 142.20058220624924; time = 3.1807308197021484\n",
      "Train: Epoch 182; err = 140.90561538934708; time = 3.166717767715454\n",
      "Train: Epoch 183; err = 141.16746526956558; time = 3.1587154865264893\n",
      "Train: Epoch 184; err = 141.66822004318237; time = 3.193542003631592\n",
      "Train: Epoch 185; err = 140.88308203220367; time = 3.177720308303833\n",
      "Train: Epoch 186; err = 140.81259512901306; time = 3.1800312995910645\n",
      "Train: Epoch 187; err = 141.1302752494812; time = 3.1896116733551025\n",
      "Train: Epoch 188; err = 140.64896589517593; time = 3.1748404502868652\n",
      "Train: Epoch 189; err = 140.62631100416183; time = 3.189722776412964\n",
      "Train: Epoch 190; err = 140.68518954515457; time = 3.180720806121826\n",
      "Train: Epoch 191; err = 140.6002997159958; time = 3.163717269897461\n",
      "Train: Epoch 192; err = 140.30524349212646; time = 3.1977245807647705\n",
      "Train: Epoch 193; err = 140.76212060451508; time = 3.168717861175537\n",
      "Train: Epoch 194; err = 140.6257867217064; time = 3.167717695236206\n",
      "0.002941006835182882\n",
      "tensor([0.2119, 0.1294, 0.6587], device='cuda:0', grad_fn=<MeanBackward1>) 0.8611186146736145\n",
      "Train: Epoch 195; err = 140.96013128757477; time = 3.188713788986206\n",
      "Train: Epoch 196; err = 140.8347265124321; time = 3.1807305812835693\n",
      "Train: Epoch 197; err = 140.82934629917145; time = 3.1940958499908447\n",
      "Train: Epoch 198; err = 140.90611451864243; time = 3.1757194995880127\n",
      "Train: Epoch 199; err = 140.34782129526138; time = 3.1587162017822266\n",
      "Train: Epoch 200; err = 140.3565125465393; time = 3.178720712661743\n",
      "Train: Epoch 201; err = 141.09078311920166; time = 3.175719976425171\n",
      "Train: Epoch 202; err = 140.6114740371704; time = 3.185723304748535\n",
      "Train: Epoch 203; err = 140.78779447078705; time = 3.192723512649536\n",
      "Train: Epoch 204; err = 141.50183939933777; time = 3.162717342376709\n",
      "Train: Epoch 205; err = 141.0104369521141; time = 3.203726053237915\n",
      "Train: Epoch 206; err = 140.80531162023544; time = 3.1713037490844727\n",
      "Train: Epoch 207; err = 140.29807037115097; time = 3.1827211380004883\n",
      "Train: Epoch 208; err = 139.7613051533699; time = 3.1737191677093506\n",
      "Train: Epoch 209; err = 140.3401004076004; time = 3.188702344894409\n",
      "0.0028233665617755665\n",
      "tensor([0.1470, 0.2571, 0.5959], device='cuda:0', grad_fn=<MeanBackward1>) 0.9267128109931946\n",
      "Train: Epoch 210; err = 139.81825649738312; time = 3.1900243759155273\n",
      "Train: Epoch 211; err = 139.91925865411758; time = 3.1887319087982178\n",
      "Train: Epoch 212; err = 139.9877591729164; time = 3.1527905464172363\n",
      "Train: Epoch 213; err = 140.45297700166702; time = 3.1617259979248047\n"
     ]
    },
    {
     "name": "stdout",
     "output_type": "stream",
     "text": [
      "Train: Epoch 214; err = 139.99895811080933; time = 3.1587164402008057\n",
      "Train: Epoch 215; err = 140.60656642913818; time = 3.1837220191955566\n",
      "Train: Epoch 216; err = 140.61734056472778; time = 3.178730010986328\n",
      "Train: Epoch 217; err = 139.63931012153625; time = 3.184722423553467\n",
      "Train: Epoch 218; err = 140.15158611536026; time = 3.1837220191955566\n",
      "Train: Epoch 219; err = 140.2584571838379; time = 3.1577162742614746\n",
      "Train: Epoch 220; err = 140.52054738998413; time = 3.1887223720550537\n",
      "Train: Epoch 221; err = 140.01050198078156; time = 3.163717746734619\n",
      "Train: Epoch 222; err = 139.61737620830536; time = 3.179720640182495\n",
      "Train: Epoch 223; err = 140.7171352505684; time = 3.211728096008301\n",
      "Train: Epoch 224; err = 140.4386062026024; time = 3.1814780235290527\n",
      "0.0027104318993045437\n",
      "tensor([0.1564, 0.1730, 0.6706], device='cuda:0', grad_fn=<MeanBackward1>) 0.8597493171691895\n",
      "Train: Epoch 225; err = 139.71411007642746; time = 3.1607062816619873\n",
      "Train: Epoch 226; err = 140.26181030273438; time = 3.1697275638580322\n",
      "Train: Epoch 227; err = 139.69837403297424; time = 3.177719831466675\n",
      "Train: Epoch 228; err = 139.97700083255768; time = 3.166717052459717\n",
      "Train: Epoch 229; err = 140.09334754943848; time = 3.166717529296875\n",
      "Train: Epoch 230; err = 139.93173092603683; time = 3.191194772720337\n",
      "Train: Epoch 231; err = 140.3114881515503; time = 3.155714750289917\n",
      "Train: Epoch 232; err = 139.85124683380127; time = 3.190723419189453\n",
      "Train: Epoch 233; err = 139.23514473438263; time = 3.1717185974121094\n",
      "Train: Epoch 234; err = 139.6632363796234; time = 3.201105833053589\n",
      "Train: Epoch 235; err = 139.78703027963638; time = 3.168718099594116\n",
      "Train: Epoch 236; err = 139.3320835828781; time = 3.166059732437134\n",
      "Train: Epoch 237; err = 139.48059463500977; time = 3.163717031478882\n",
      "Train: Epoch 238; err = 138.7609782218933; time = 3.1587157249450684\n",
      "Train: Epoch 239; err = 139.79176193475723; time = 3.155714988708496\n",
      "0.002602014623332362\n",
      "tensor([0.1118, 0.1264, 0.7618], device='cuda:0', grad_fn=<MeanBackward1>) 0.7648560404777527\n",
      "Train: Epoch 240; err = 139.04324090480804; time = 3.1827104091644287\n",
      "Train: Epoch 241; err = 139.2178591489792; time = 3.181732177734375\n",
      "Train: Epoch 242; err = 139.5278296470642; time = 3.1910817623138428\n",
      "Train: Epoch 243; err = 139.38492780923843; time = 3.1924169063568115\n",
      "Train: Epoch 244; err = 139.34715807437897; time = 3.1937248706817627\n",
      "Train: Epoch 245; err = 139.59668558835983; time = 3.187722682952881\n",
      "Train: Epoch 246; err = 139.82022297382355; time = 3.1847221851348877\n",
      "Train: Epoch 247; err = 139.097350358963; time = 3.1748790740966797\n",
      "Train: Epoch 248; err = 140.00995564460754; time = 3.178719997406006\n",
      "Train: Epoch 249; err = 139.11393362283707; time = 3.157707929611206\n",
      "Train: Epoch 250; err = 139.33699452877045; time = 3.194805383682251\n",
      "Train: Epoch 251; err = 139.5680170059204; time = 3.193723440170288\n",
      "Train: Epoch 252; err = 139.2358580827713; time = 3.1817209720611572\n",
      "Train: Epoch 253; err = 139.18775951862335; time = 3.1857223510742188\n",
      "Train: Epoch 254; err = 139.2590413093567; time = 3.1868889331817627\n",
      "0.0024979340383990676\n",
      "tensor([0.1356, 0.1779, 0.6864], device='cuda:0', grad_fn=<MeanBackward1>) 0.8336586356163025\n",
      "Train: Epoch 255; err = 139.352024435997; time = 3.1965529918670654\n",
      "Train: Epoch 256; err = 138.52442836761475; time = 3.1790695190429688\n",
      "Train: Epoch 257; err = 139.2987767457962; time = 3.17471981048584\n",
      "Train: Epoch 258; err = 139.442089676857; time = 3.1857311725616455\n",
      "Train: Epoch 259; err = 139.1885181069374; time = 3.181640863418579\n",
      "Train: Epoch 260; err = 139.48330450057983; time = 3.193723440170288\n",
      "Train: Epoch 261; err = 139.28638792037964; time = 3.179720878601074\n",
      "Train: Epoch 262; err = 138.897978246212; time = 3.154714584350586\n",
      "Train: Epoch 263; err = 138.8581342101097; time = 3.1786839962005615\n",
      "Train: Epoch 264; err = 138.74637454748154; time = 3.2337331771850586\n",
      "Train: Epoch 265; err = 139.11966276168823; time = 3.196364641189575\n",
      "Train: Epoch 266; err = 139.49850791692734; time = 3.1847214698791504\n",
      "Train: Epoch 267; err = 138.9354322552681; time = 3.1717183589935303\n",
      "Train: Epoch 268; err = 138.5575737953186; time = 3.190722703933716\n",
      "Train: Epoch 269; err = 138.65699017047882; time = 3.1806154251098633\n",
      "0.002398016676863105\n",
      "tensor([0.2756, 0.2149, 0.5095], device='cuda:0', grad_fn=<MeanBackward1>) 1.0004048347473145\n",
      "Train: Epoch 270; err = 139.02317762374878; time = 3.1847124099731445\n",
      "Train: Epoch 271; err = 139.64461874961853; time = 3.182729721069336\n",
      "Train: Epoch 272; err = 138.88820761442184; time = 3.1907236576080322\n",
      "Train: Epoch 273; err = 138.48639607429504; time = 3.1488020420074463\n",
      "Train: Epoch 274; err = 138.79558849334717; time = 3.1747186183929443\n",
      "Train: Epoch 275; err = 138.82663774490356; time = 3.181324005126953\n",
      "Train: Epoch 276; err = 138.72145545482635; time = 3.1832144260406494\n",
      "Train: Epoch 277; err = 139.03357595205307; time = 3.156904697418213\n",
      "Train: Epoch 278; err = 138.99373030662537; time = 3.1673367023468018\n",
      "Train: Epoch 279; err = 139.4685131907463; time = 3.1512818336486816\n",
      "Train: Epoch 280; err = 138.27752780914307; time = 3.1587154865264893\n",
      "Train: Epoch 281; err = 139.30468332767487; time = 3.1967248916625977\n",
      "Train: Epoch 282; err = 141.18734329938889; time = 3.1597161293029785\n",
      "Train: Epoch 283; err = 138.71243554353714; time = 3.158830404281616\n",
      "Train: Epoch 284; err = 138.66626811027527; time = 3.1590118408203125\n",
      "0.0023020960097885805\n",
      "tensor([0.1697, 0.1324, 0.6979], device='cuda:0', grad_fn=<MeanBackward1>) 0.8261802792549133\n",
      "Train: Epoch 285; err = 138.3428978919983; time = 3.1591970920562744\n",
      "Train: Epoch 286; err = 137.8689643740654; time = 3.1557157039642334\n",
      "Train: Epoch 287; err = 138.363343834877; time = 3.151714563369751\n",
      "Train: Epoch 288; err = 138.02323997020721; time = 3.165717601776123\n",
      "Train: Epoch 289; err = 138.12373107671738; time = 3.1651320457458496\n",
      "Train: Epoch 290; err = 138.49142295122147; time = 3.186400890350342\n",
      "Train: Epoch 291; err = 138.16232013702393; time = 3.154715061187744\n",
      "Train: Epoch 292; err = 138.48901057243347; time = 3.1666200160980225\n",
      "Train: Epoch 293; err = 137.64673161506653; time = 3.156714916229248\n",
      "Train: Epoch 294; err = 138.09928953647614; time = 3.152724266052246\n",
      "Train: Epoch 295; err = 139.07257091999054; time = 3.166717290878296\n",
      "Train: Epoch 296; err = 137.90333718061447; time = 3.1597158908843994\n",
      "Train: Epoch 297; err = 137.79199123382568; time = 3.1627166271209717\n",
      "Train: Epoch 298; err = 138.62074613571167; time = 3.1867222785949707\n",
      "Train: Epoch 299; err = 138.6590537428856; time = 3.166717767715454\n",
      "0.002210012169397037\n",
      "tensor([0.2363, 0.0972, 0.6665], device='cuda:0', grad_fn=<MeanBackward1>) 0.8519139885902405\n",
      "Train: Epoch 300; err = 137.99189257621765; time = 3.1607072353363037\n",
      "Train: Epoch 301; err = 138.04325771331787; time = 3.1557252407073975\n",
      "Train: Epoch 302; err = 138.1557823419571; time = 3.1651437282562256\n",
      "Train: Epoch 303; err = 138.3662942647934; time = 3.156714916229248\n",
      "Train: Epoch 304; err = 138.3813195824623; time = 3.1517138481140137\n",
      "Train: Epoch 305; err = 138.66472631692886; time = 3.180711030960083\n",
      "Train: Epoch 306; err = 138.46538430452347; time = 3.2297415733337402\n",
      "Train: Epoch 307; err = 138.35164028406143; time = 3.164717435836792\n",
      "Train: Epoch 308; err = 138.09757101535797; time = 3.155715227127075\n",
      "Train: Epoch 309; err = 137.7748058438301; time = 3.1587157249450684\n",
      "Train: Epoch 310; err = 138.57360351085663; time = 3.1637163162231445\n",
      "Train: Epoch 311; err = 138.6664754152298; time = 3.151714563369751\n",
      "Train: Epoch 312; err = 138.12646561861038; time = 3.153202533721924\n",
      "Train: Epoch 313; err = 138.61972433328629; time = 3.177626848220825\n",
      "Train: Epoch 314; err = 138.03853398561478; time = 3.168452739715576\n",
      "0.0021216116826211556\n",
      "tensor([0.1498, 0.1805, 0.6697], device='cuda:0', grad_fn=<MeanBackward1>) 0.8512316942214966\n",
      "Train: Epoch 315; err = 137.7863991856575; time = 3.1707189083099365\n",
      "Train: Epoch 316; err = 138.73359596729279; time = 3.1613266468048096\n",
      "Train: Epoch 317; err = 138.13774383068085; time = 3.1857218742370605\n",
      "Train: Epoch 318; err = 137.23416644334793; time = 3.1607160568237305\n",
      "Train: Epoch 319; err = 138.55552583932877; time = 3.170707941055298\n"
     ]
    },
    {
     "name": "stdout",
     "output_type": "stream",
     "text": [
      "Train: Epoch 320; err = 137.92804551124573; time = 3.174518585205078\n",
      "Train: Epoch 321; err = 138.0873899459839; time = 3.1577155590057373\n",
      "Train: Epoch 322; err = 137.24233919382095; time = 3.163717031478882\n",
      "Train: Epoch 323; err = 137.59803158044815; time = 3.1597158908843994\n",
      "Train: Epoch 324; err = 137.60551846027374; time = 3.1557154655456543\n",
      "Train: Epoch 325; err = 137.6108642220497; time = 3.170719623565674\n",
      "Train: Epoch 326; err = 138.0148013830185; time = 3.1620240211486816\n",
      "Train: Epoch 327; err = 138.17199528217316; time = 3.167095899581909\n",
      "Train: Epoch 328; err = 137.62960201501846; time = 3.177720069885254\n",
      "Train: Epoch 329; err = 137.22999930381775; time = 3.174720287322998\n",
      "0.0020367472153163093\n",
      "tensor([0.2158, 0.1884, 0.5958], device='cuda:0', grad_fn=<MeanBackward1>) 0.9231944680213928\n",
      "Train: Epoch 330; err = 138.1065125465393; time = 3.166707754135132\n",
      "Train: Epoch 331; err = 137.71439385414124; time = 3.1507232189178467\n",
      "Train: Epoch 332; err = 137.34217137098312; time = 3.164717435836792\n",
      "Train: Epoch 333; err = 137.47810685634613; time = 3.165717601776123\n",
      "Train: Epoch 334; err = 137.77341121435165; time = 3.1617166996002197\n",
      "Train: Epoch 335; err = 137.6872617006302; time = 3.176464557647705\n",
      "Train: Epoch 336; err = 137.7591500878334; time = 3.187732458114624\n",
      "Train: Epoch 337; err = 137.4080033302307; time = 3.1707186698913574\n",
      "Train: Epoch 338; err = 138.25341296195984; time = 3.1713430881500244\n",
      "Train: Epoch 339; err = 138.22252374887466; time = 3.164717435836792\n",
      "Train: Epoch 340; err = 137.27528351545334; time = 3.175719976425171\n",
      "Train: Epoch 341; err = 137.72415333986282; time = 3.1618354320526123\n",
      "Train: Epoch 342; err = 137.09327083826065; time = 3.156332492828369\n",
      "Train: Epoch 343; err = 136.90530389547348; time = 3.153714656829834\n",
      "Train: Epoch 344; err = 137.26831078529358; time = 3.1685400009155273\n",
      "0.001955277326703657\n",
      "tensor([0.1018, 0.1541, 0.7441], device='cuda:0', grad_fn=<MeanBackward1>) 0.7836871147155762\n",
      "Train: Epoch 345; err = 136.8862727880478; time = 3.1897122859954834\n",
      "Train: Epoch 346; err = 138.11313885450363; time = 3.183732032775879\n",
      "Train: Epoch 347; err = 137.17635732889175; time = 3.1696407794952393\n",
      "Train: Epoch 348; err = 137.4472178220749; time = 3.1692049503326416\n",
      "Train: Epoch 349; err = 138.86928588151932; time = 3.153704881668091\n",
      "Train: Epoch 350; err = 137.5462802052498; time = 3.165717124938965\n",
      "Train: Epoch 351; err = 137.65957510471344; time = 3.156895637512207\n",
      "Train: Epoch 352; err = 137.4837864637375; time = 3.1678836345672607\n",
      "Train: Epoch 353; err = 137.8021565079689; time = 3.1547152996063232\n",
      "Train: Epoch 354; err = 137.88782459497452; time = 3.167727470397949\n",
      "Train: Epoch 355; err = 137.76420813798904; time = 3.17672061920166\n",
      "Train: Epoch 356; err = 137.33454394340515; time = 3.1606979370117188\n",
      "Train: Epoch 357; err = 137.80619740486145; time = 3.1587157249450684\n",
      "Train: Epoch 358; err = 137.66384434700012; time = 3.1508378982543945\n",
      "Train: Epoch 359; err = 137.19397473335266; time = 3.16555118560791\n",
      "0.0018770662336355104\n",
      "tensor([0.1617, 0.1297, 0.7085], device='cuda:0', grad_fn=<MeanBackward1>) 0.8163986206054688\n",
      "Train: Epoch 360; err = 137.7241929769516; time = 3.1853041648864746\n",
      "Train: Epoch 361; err = 137.26259684562683; time = 3.1567153930664062\n",
      "Train: Epoch 362; err = 137.3689866065979; time = 3.1562719345092773\n",
      "Train: Epoch 363; err = 136.83214271068573; time = 3.1603646278381348\n",
      "Train: Epoch 364; err = 137.67213428020477; time = 3.1617233753204346\n",
      "Train: Epoch 365; err = 137.64956760406494; time = 3.155715227127075\n",
      "Train: Epoch 366; err = 136.34222054481506; time = 3.1747193336486816\n",
      "Train: Epoch 367; err = 136.95576775074005; time = 3.1757192611694336\n",
      "Train: Epoch 368; err = 137.50314688682556; time = 3.164716958999634\n",
      "Train: Epoch 369; err = 137.48290663957596; time = 3.158707618713379\n",
      "Train: Epoch 370; err = 137.03002202510834; time = 3.1817104816436768\n",
      "Train: Epoch 371; err = 137.11964374780655; time = 3.1738038063049316\n",
      "Train: Epoch 372; err = 137.35467171669006; time = 3.1574130058288574\n",
      "Train: Epoch 373; err = 137.4799548983574; time = 3.179152011871338\n",
      "Train: Epoch 374; err = 137.11959582567215; time = 3.165686845779419\n",
      "0.00180198358429009\n",
      "tensor([0.1469, 0.1373, 0.7158], device='cuda:0', grad_fn=<MeanBackward1>) 0.8012943863868713\n",
      "Train: Epoch 375; err = 137.24614357948303; time = 3.1635727882385254\n",
      "Train: Epoch 376; err = 136.79264456033707; time = 3.1751813888549805\n",
      "Train: Epoch 377; err = 137.59581816196442; time = 3.1608495712280273\n",
      "Train: Epoch 378; err = 136.84377300739288; time = 3.1617166996002197\n",
      "Train: Epoch 379; err = 137.2994270324707; time = 3.1507139205932617\n",
      "Train: Epoch 380; err = 137.1120262145996; time = 3.1753032207489014\n",
      "Train: Epoch 381; err = 136.96801507472992; time = 3.163717031478882\n",
      "Train: Epoch 382; err = 136.45278698205948; time = 3.154724359512329\n",
      "Train: Epoch 383; err = 136.83325272798538; time = 3.1847219467163086\n",
      "Train: Epoch 384; err = 137.19413763284683; time = 3.166717290878296\n",
      "Train: Epoch 385; err = 137.18250459432602; time = 3.1667168140411377\n",
      "Train: Epoch 386; err = 137.8573803305626; time = 3.1667191982269287\n",
      "Train: Epoch 387; err = 137.42220830917358; time = 3.1717188358306885\n",
      "Train: Epoch 388; err = 136.76976710557938; time = 3.1707184314727783\n",
      "Train: Epoch 389; err = 137.95267540216446; time = 3.153979778289795\n",
      "0.0017299042409184863\n",
      "tensor([0.1987, 0.1567, 0.6446], device='cuda:0', grad_fn=<MeanBackward1>) 0.8723596930503845\n",
      "Train: Epoch 390; err = 137.25451356172562; time = 3.37776517868042\n",
      "Train: Epoch 391; err = 136.9272798895836; time = 3.246553897857666\n",
      "Train: Epoch 392; err = 136.82316100597382; time = 3.1717188358306885\n",
      "Train: Epoch 393; err = 137.34523779153824; time = 3.1997146606445312\n",
      "Train: Epoch 394; err = 136.4724742770195; time = 3.237744092941284\n",
      "Train: Epoch 395; err = 136.6357793211937; time = 3.189723491668701\n",
      "Train: Epoch 396; err = 136.50866067409515; time = 3.2077267169952393\n",
      "Train: Epoch 397; err = 135.89593255519867; time = 3.1697182655334473\n",
      "Train: Epoch 398; err = 136.44193679094315; time = 3.1637167930603027\n",
      "Train: Epoch 399; err = 136.98650062084198; time = 3.1727185249328613\n",
      "Train: Epoch 400; err = 137.03024291992188; time = 3.158533811569214\n",
      "Train: Epoch 401; err = 136.98472452163696; time = 3.1650829315185547\n",
      "Train: Epoch 402; err = 136.5826579928398; time = 3.1477129459381104\n",
      "Train: Epoch 403; err = 136.7474748492241; time = 3.16371750831604\n",
      "Train: Epoch 404; err = 136.04835665225983; time = 3.177720546722412\n",
      "0.0016607080712817469\n",
      "tensor([0.1812, 0.1663, 0.6524], device='cuda:0', grad_fn=<MeanBackward1>) 0.8624979257583618\n",
      "Train: Epoch 405; err = 136.3661852478981; time = 3.1688027381896973\n",
      "Train: Epoch 406; err = 136.81554478406906; time = 3.1623222827911377\n",
      "Train: Epoch 407; err = 136.72442764043808; time = 3.173719882965088\n",
      "Train: Epoch 408; err = 137.39268445968628; time = 3.1697182655334473\n",
      "Train: Epoch 409; err = 137.05263978242874; time = 3.1923668384552\n",
      "Train: Epoch 410; err = 136.54340904951096; time = 3.1889524459838867\n",
      "Train: Epoch 411; err = 136.16765958070755; time = 3.1817808151245117\n",
      "Train: Epoch 412; err = 136.66461557149887; time = 3.160485029220581\n",
      "Train: Epoch 413; err = 136.37285828590393; time = 3.17572021484375\n",
      "Train: Epoch 414; err = 136.65079027414322; time = 3.163726329803467\n",
      "Train: Epoch 415; err = 136.7738420367241; time = 3.178720474243164\n",
      "Train: Epoch 416; err = 136.4508462548256; time = 3.177729845046997\n",
      "Train: Epoch 417; err = 136.62112432718277; time = 3.156715154647827\n",
      "Train: Epoch 418; err = 136.44817966222763; time = 3.1627166271209717\n",
      "Train: Epoch 419; err = 137.57967257499695; time = 3.1678054332733154\n",
      "0.001594279748430477\n",
      "tensor([0.1450, 0.2287, 0.6262], device='cuda:0', grad_fn=<MeanBackward1>) 0.8963652849197388\n",
      "Train: Epoch 420; err = 137.00930678844452; time = 3.1760430335998535\n",
      "Train: Epoch 421; err = 136.57780635356903; time = 3.2037363052368164\n",
      "Train: Epoch 422; err = 136.267786860466; time = 3.175719738006592\n",
      "Train: Epoch 423; err = 136.16153919696808; time = 3.1717185974121094\n",
      "Train: Epoch 424; err = 136.79994350671768; time = 3.166717290878296\n",
      "Train: Epoch 425; err = 136.34771078824997; time = 3.1567142009735107\n"
     ]
    },
    {
     "name": "stdout",
     "output_type": "stream",
     "text": [
      "Train: Epoch 426; err = 136.16405844688416; time = 3.1737117767333984\n",
      "Train: Epoch 427; err = 136.35755729675293; time = 3.180720329284668\n",
      "Train: Epoch 428; err = 137.01834338903427; time = 3.1651461124420166\n",
      "Train: Epoch 429; err = 136.27032828330994; time = 3.152714252471924\n",
      "Train: Epoch 430; err = 136.64199370145798; time = 3.1507136821746826\n",
      "Train: Epoch 431; err = 136.71562159061432; time = 3.1607160568237305\n",
      "Train: Epoch 432; err = 137.02787870168686; time = 3.1577155590057373\n",
      "Train: Epoch 433; err = 136.61765557527542; time = 3.1687190532684326\n",
      "Train: Epoch 434; err = 136.21070086956024; time = 3.165743827819824\n",
      "0.0015305085584932578\n",
      "tensor([0.0904, 0.2411, 0.6685], device='cuda:0', grad_fn=<MeanBackward1>) 0.8581616282463074\n",
      "Train: Epoch 435; err = 136.28225314617157; time = 3.1717190742492676\n",
      "Train: Epoch 436; err = 136.09461826086044; time = 3.175720453262329\n",
      "Train: Epoch 437; err = 136.23166698217392; time = 3.16996431350708\n",
      "Train: Epoch 438; err = 136.00128483772278; time = 3.158726453781128\n",
      "Train: Epoch 439; err = 136.63445127010345; time = 3.176884174346924\n",
      "Train: Epoch 440; err = 137.11152601242065; time = 3.17672061920166\n",
      "Train: Epoch 441; err = 135.9629546403885; time = 3.1667182445526123\n",
      "Train: Epoch 442; err = 136.60685527324677; time = 3.1827306747436523\n",
      "Train: Epoch 443; err = 136.07452756166458; time = 3.16271710395813\n",
      "Train: Epoch 444; err = 135.80314272642136; time = 3.1720426082611084\n",
      "Train: Epoch 445; err = 135.94357132911682; time = 3.158997058868408\n",
      "Train: Epoch 446; err = 136.1711002588272; time = 3.1817216873168945\n",
      "Train: Epoch 447; err = 135.94929611682892; time = 3.1607167720794678\n",
      "Train: Epoch 448; err = 136.163154900074; time = 3.177720069885254\n",
      "Train: Epoch 449; err = 135.9814419746399; time = 3.1827213764190674\n",
      "0.0014692882161535274\n",
      "tensor([0.0945, 0.0856, 0.8199], device='cuda:0', grad_fn=<MeanBackward1>) 0.7177079916000366\n",
      "Train: Epoch 450; err = 136.43224489688873; time = 3.1747186183929443\n",
      "Train: Epoch 451; err = 136.00071054697037; time = 3.1676177978515625\n",
      "Train: Epoch 452; err = 136.2858651280403; time = 3.1677181720733643\n",
      "Train: Epoch 453; err = 134.8322167992592; time = 3.157715320587158\n",
      "Train: Epoch 454; err = 136.39379405975342; time = 3.170976161956787\n",
      "Train: Epoch 455; err = 136.13864243030548; time = 3.1597158908843994\n",
      "Train: Epoch 456; err = 136.20720541477203; time = 3.1738553047180176\n",
      "Train: Epoch 457; err = 135.88222628831863; time = 3.1597158908843994\n",
      "Train: Epoch 458; err = 135.73040014505386; time = 3.162716865539551\n",
      "Train: Epoch 459; err = 136.3073592185974; time = 3.168717861175537\n",
      "Train: Epoch 460; err = 135.99912333488464; time = 3.166717529296875\n",
      "Train: Epoch 461; err = 136.23679965734482; time = 3.151714324951172\n",
      "Train: Epoch 462; err = 136.6084126830101; time = 3.171738862991333\n",
      "Train: Epoch 463; err = 136.27953273057938; time = 3.169157028198242\n",
      "Train: Epoch 464; err = 136.38475626707077; time = 3.167717933654785\n",
      "0.0014105166875073862\n",
      "tensor([0.1585, 0.1537, 0.6877], device='cuda:0', grad_fn=<MeanBackward1>) 0.8272938132286072\n",
      "Train: Epoch 465; err = 136.37212270498276; time = 3.177708864212036\n",
      "Train: Epoch 466; err = 136.5033114552498; time = 3.174729585647583\n",
      "Train: Epoch 467; err = 136.33307194709778; time = 3.17521595954895\n",
      "Train: Epoch 468; err = 135.95964044332504; time = 3.1567153930664062\n",
      "Train: Epoch 469; err = 136.1418541073799; time = 3.1815896034240723\n",
      "Train: Epoch 470; err = 136.12840515375137; time = 3.1757194995880127\n",
      "Train: Epoch 471; err = 135.42325282096863; time = 3.1547157764434814\n",
      "Train: Epoch 472; err = 136.45448678731918; time = 3.1877224445343018\n",
      "Train: Epoch 473; err = 135.59657055139542; time = 3.1857221126556396\n",
      "Train: Epoch 474; err = 135.66883653402328; time = 3.1827309131622314\n",
      "Train: Epoch 475; err = 136.1836656332016; time = 3.1817116737365723\n",
      "Train: Epoch 476; err = 136.13332599401474; time = 3.167717456817627\n",
      "Train: Epoch 477; err = 136.37270295619965; time = 3.1987249851226807\n",
      "Train: Epoch 478; err = 135.98697048425674; time = 3.1837222576141357\n",
      "Train: Epoch 479; err = 135.77832412719727; time = 3.1537702083587646\n",
      "0.0013540960200070908\n",
      "tensor([0.1259, 0.1777, 0.6964], device='cuda:0', grad_fn=<MeanBackward1>) 0.8315253853797913\n",
      "Train: Epoch 480; err = 135.57275491952896; time = 3.1677184104919434\n",
      "Train: Epoch 481; err = 135.85465532541275; time = 3.1587164402008057\n",
      "Train: Epoch 482; err = 135.6755871772766; time = 3.159717321395874\n",
      "Train: Epoch 483; err = 135.0508524775505; time = 3.1910805702209473\n",
      "Train: Epoch 484; err = 135.70142817497253; time = 3.165268659591675\n",
      "Train: Epoch 485; err = 135.40476846694946; time = 3.187722682952881\n",
      "Train: Epoch 486; err = 136.76103693246841; time = 3.1669199466705322\n",
      "Train: Epoch 487; err = 136.44588667154312; time = 3.1867220401763916\n",
      "Train: Epoch 488; err = 136.41788506507874; time = 3.179720401763916\n",
      "Train: Epoch 489; err = 136.34290605783463; time = 3.1575982570648193\n",
      "Train: Epoch 490; err = 135.69623637199402; time = 3.171518325805664\n",
      "Train: Epoch 491; err = 135.9905634522438; time = 3.1590306758880615\n",
      "Train: Epoch 492; err = 135.4585321545601; time = 3.1617162227630615\n",
      "Train: Epoch 493; err = 135.49918615818024; time = 3.1597161293029785\n",
      "Train: Epoch 494; err = 135.94421231746674; time = 3.1557154655456543\n",
      "0.0012999321792068071\n",
      "tensor([0.1644, 0.0763, 0.7593], device='cuda:0', grad_fn=<MeanBackward1>) 0.7693244814872742\n",
      "Train: Epoch 495; err = 135.88024026155472; time = 3.180710554122925\n",
      "Train: Epoch 496; err = 135.61834466457367; time = 3.1557254791259766\n",
      "Train: Epoch 497; err = 135.99935972690582; time = 3.154714822769165\n",
      "Train: Epoch 498; err = 136.1126708984375; time = 3.1517138481140137\n",
      "Train: Epoch 499; err = 135.6120159626007; time = 3.1617162227630615\n",
      "Train: Epoch 500; err = 135.6183299422264; time = 3.1687183380126953\n"
     ]
    }
   ],
   "source": [
    "_ = dev_color_mod.fit(dev_cols_train, dev_seqs_train)"
   ]
  },
  {
   "cell_type": "code",
   "execution_count": 39,
   "metadata": {},
   "outputs": [],
   "source": [
    "test_preds = dev_color_mod.predict(dev_cols_test, dev_seqs_test)\n",
    "#dev_color_mod.predict(dev_cols_test, dev_seqs_test, probabilities=True)\n",
    "train_preds = dev_color_mod.predict(dev_cols_train, dev_seqs_train)\n",
    "#dev_color_mod.predict(dev_cols_test, dev_seqs_test, probabilities=True)"
   ]
  },
  {
   "cell_type": "code",
   "execution_count": 40,
   "metadata": {},
   "outputs": [
    {
     "name": "stdout",
     "output_type": "stream",
     "text": [
      "test 2114 / 3473 0.6086956521739131\n",
      "train 7961 / 10417 0.7642315445905731\n"
     ]
    }
   ],
   "source": [
    "correct = sum([1 if x == 2 else 0 for x in test_preds])\n",
    "print(\"test\", correct, \"/\", len(test_preds), correct/len(test_preds))\n",
    "correct = sum([1 if x == 2 else 0 for x in train_preds])\n",
    "print(\"train\", correct, \"/\", len(train_preds), correct/len(train_preds))"
   ]
  },
  {
   "cell_type": "code",
   "execution_count": 41,
   "metadata": {},
   "outputs": [],
   "source": [
    "totals = {}\n",
    "for ex in dev_examples:\n",
    "    #ex.display(typ='speaker')\n",
    "    #print(ex.condition)\n",
    "    if ex.condition not in totals:\n",
    "        totals[ex.condition] = 0\n",
    "    totals[ex.condition]+=1\n",
    "    #print(dev_color_mod.predict([ex.speaker_context], [tokenize_example(ex.contents)], probabilities=True))\n",
    "    #print(dev_color_mod.predict([ex.speaker_context], [tokenize_example(ex.contents)])[0])\n",
    "    #print()\n",
    "    \n",
    "scores = {}\n",
    "for ex in dev_examples:\n",
    "    #ex.display(typ='speaker')\n",
    "    #print(ex.condition)\n",
    "    if ex.condition not in scores:\n",
    "        scores[ex.condition] = 0\n",
    "    if dev_color_mod.predict([represent_color_context(ex.colors)], [tokenize_example(ex.contents)])[0] == 2:\n",
    "        scores[ex.condition]+=1"
   ]
  },
  {
   "cell_type": "code",
   "execution_count": 42,
   "metadata": {},
   "outputs": [
    {
     "name": "stdout",
     "output_type": "stream",
     "text": [
      "close : 4071 / 5776 = 0.7048130193905817\n",
      "far : 2009 / 2657 = 0.756115920210764\n",
      "split : 3869 / 5457 = 0.7089976177386843\n"
     ]
    }
   ],
   "source": [
    "for condition in scores:\n",
    "    print(condition, \":\", scores[condition], \"/\", totals[condition], \"=\", scores[condition]/totals[condition])"
   ]
  },
  {
   "cell_type": "code",
   "execution_count": 43,
   "metadata": {},
   "outputs": [],
   "source": [
    "#dev_perp = dev_color_mod.perplexities(dev_cols_test, dev_seqs_test)\n",
    "#dev_perp[0]"
   ]
  },
  {
   "cell_type": "code",
   "execution_count": 44,
   "metadata": {},
   "outputs": [],
   "source": [
    "#dev_color_mod.to_pickle(os.path.join('data', 'colors' 'color_describer_unigram_20e.pt'))"
   ]
  },
  {
   "cell_type": "code",
   "execution_count": null,
   "metadata": {},
   "outputs": [],
   "source": []
  },
  {
   "cell_type": "code",
   "execution_count": null,
   "metadata": {},
   "outputs": [],
   "source": []
  }
 ],
 "metadata": {
  "kernelspec": {
   "display_name": "Python 3",
   "language": "python",
   "name": "python3"
  },
  "language_info": {
   "codemirror_mode": {
    "name": "ipython",
    "version": 3
   },
   "file_extension": ".py",
   "mimetype": "text/x-python",
   "name": "python",
   "nbconvert_exporter": "python",
   "pygments_lexer": "ipython3",
   "version": "3.7.4"
  }
 },
 "nbformat": 4,
 "nbformat_minor": 2
}
