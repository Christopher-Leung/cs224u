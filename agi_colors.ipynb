{
 "cells": [
  {
   "cell_type": "markdown",
   "metadata": {},
   "source": [
    "# Homework and bake-off: pragmatic color descriptions"
   ]
  },
  {
   "cell_type": "code",
   "execution_count": 1,
   "metadata": {},
   "outputs": [],
   "source": [
    "__author__ = \"Christopher Potts\"\n",
    "__version__ = \"CS224u, Stanford, Spring 2020\""
   ]
  },
  {
   "cell_type": "markdown",
   "metadata": {},
   "source": [
    "## Contents\n",
    "\n",
    "1. [Overview](#Overview)\n",
    "1. [Set-up](#Set-up)\n",
    "1. [All two-word examples as a dev corpus](#All-two-word-examples-as-a-dev-corpus)\n",
    "1. [Dev dataset](#Dev-dataset)\n",
    "1. [Random train–test split for development](#Random-train–test-split-for-development)\n",
    "1. [Question 1: Improve the tokenizer [1 point]](#Question-1:-Improve-the-tokenizer-[1-point])\n",
    "1. [Use the tokenizer](#Use-the-tokenizer)\n",
    "1. [Question 2: Improve the color representations [1 point]](#Question-2:-Improve-the-color-representations-[1-point])\n",
    "1. [Use the color representer](#Use-the-color-representer)\n",
    "1. [Initial model](#Initial-model)\n",
    "1. [Question 3: GloVe embeddings [1 points]](#Question-3:-GloVe-embeddings-[1-points])\n",
    "1. [Try the GloVe representations](#Try-the-GloVe-representations)\n",
    "1. [Question 4: Color context [3 points]](#Question-4:-Color-context-[3-points])\n",
    "1. [Your original system [3 points]](#Your-original-system-[3-points])\n",
    "1. [Bakeoff [1 point]](#Bakeoff-[1-point])"
   ]
  },
  {
   "cell_type": "markdown",
   "metadata": {},
   "source": [
    "## Overview\n",
    "\n",
    "This homework and associated bake-off are oriented toward building an effective system for generating color descriptions that are pragmatic in the sense that they would help a reader/listener figure out which color was being referred to in a shared context consisting of a target color (whose identity is known only to the describer/speaker) and a set of distractors.\n",
    "\n",
    "The notebook [colors_overview.ipynb](colors_overview.ipynb) should be studied before work on this homework begins. That notebook provides backgroud on the task, the dataset, and the modeling code that you will be using and adapting.\n",
    "\n",
    "The homework questions are more open-ended than previous ones have been. Rather than asking you to implement pre-defined functionality, they ask you to try to improve baseline components of the full system in ways that you find to be effective. As usual, this culiminates in a prompt asking you to develop a novel system for entry into the bake-off. In this case, though, the work you do for the homework will likely be directly incorporated into that system."
   ]
  },
  {
   "cell_type": "markdown",
   "metadata": {},
   "source": [
    "## Set-up"
   ]
  },
  {
   "cell_type": "markdown",
   "metadata": {},
   "source": [
    "See [colors_overview.ipynb](colors_overview.ipynb) for set-up in instructions and other background details."
   ]
  },
  {
   "cell_type": "code",
   "execution_count": 2,
   "metadata": {},
   "outputs": [],
   "source": [
    "from colors import ColorsCorpusReader\n",
    "import os\n",
    "from sklearn.model_selection import train_test_split\n",
    "from torch_color_describer import (\n",
    "    ContextualColorDescriber, create_example_dataset)\n",
    "import utils\n",
    "from utils import START_SYMBOL, END_SYMBOL, UNK_SYMBOL"
   ]
  },
  {
   "cell_type": "code",
   "execution_count": 3,
   "metadata": {},
   "outputs": [],
   "source": [
    "utils.fix_random_seeds()"
   ]
  },
  {
   "cell_type": "code",
   "execution_count": 4,
   "metadata": {},
   "outputs": [],
   "source": [
    "COLORS_SRC_FILENAME = os.path.join(\n",
    "    \"data\", \"colors\", \"filteredCorpus.csv\")"
   ]
  },
  {
   "cell_type": "markdown",
   "metadata": {},
   "source": [
    "## All two-word examples as a dev corpus\n",
    "\n",
    "So that you don't have to sit through excessively long training runs during development, I suggest working with the two-word-only subset of the corpus until you enter into the late stages of system testing."
   ]
  },
  {
   "cell_type": "code",
   "execution_count": 5,
   "metadata": {},
   "outputs": [],
   "source": [
    "dev_corpus = ColorsCorpusReader(\n",
    "    COLORS_SRC_FILENAME, \n",
    "    word_count=None, \n",
    "    normalize_colors=True)"
   ]
  },
  {
   "cell_type": "code",
   "execution_count": 6,
   "metadata": {},
   "outputs": [],
   "source": [
    "dev_examples = list(dev_corpus.read())"
   ]
  },
  {
   "cell_type": "markdown",
   "metadata": {},
   "source": [
    "This subset has about one-third the examples of the full corpus:"
   ]
  },
  {
   "cell_type": "code",
   "execution_count": 7,
   "metadata": {},
   "outputs": [
    {
     "data": {
      "text/plain": [
       "46994"
      ]
     },
     "execution_count": 7,
     "metadata": {},
     "output_type": "execute_result"
    }
   ],
   "source": [
    "len(dev_examples)"
   ]
  },
  {
   "cell_type": "markdown",
   "metadata": {},
   "source": [
    "We __should__ worry that it's not a fully representative sample. Most of the descriptions in the full corpus are shorter, and a large proportion are longer. So this dataset is mainly for debugging, development, and general hill-climbing. All findings should be validated on the full dataset at some point."
   ]
  },
  {
   "cell_type": "markdown",
   "metadata": {},
   "source": [
    "## Dev dataset\n",
    "\n",
    "The first step is to extract the raw color and raw texts from the corpus:"
   ]
  },
  {
   "cell_type": "code",
   "execution_count": 8,
   "metadata": {},
   "outputs": [],
   "source": [
    "dev_rawcols, dev_texts = zip(*[[ex.colors, ex.contents] for ex in dev_examples])"
   ]
  },
  {
   "cell_type": "markdown",
   "metadata": {},
   "source": [
    "The raw color representations are suitable inputs to a model, but the texts are just strings, so they can't really be processed as-is. Question 1 asks you to do some tokenizing!"
   ]
  },
  {
   "cell_type": "markdown",
   "metadata": {},
   "source": [
    "## Random train–test split for development\n",
    "\n",
    "For the sake of development runs, we create a random train–test split:"
   ]
  },
  {
   "cell_type": "code",
   "execution_count": 9,
   "metadata": {},
   "outputs": [],
   "source": [
    "dev_rawcols_train, dev_rawcols_test, dev_texts_train, dev_texts_test = \\\n",
    "    train_test_split(dev_rawcols, dev_texts)"
   ]
  },
  {
   "cell_type": "markdown",
   "metadata": {},
   "source": [
    "## Question 1: Improve the tokenizer [1 point]\n",
    "\n",
    "This is the first required question – the first required modification to the default pipeline.\n",
    "\n",
    "The function `tokenize_example` simply splits its string on whitespace and adds the required start and end symbols:"
   ]
  },
  {
   "cell_type": "code",
   "execution_count": 10,
   "metadata": {},
   "outputs": [],
   "source": [
    "from colors_utils import basic_unigram_tokenizer, whitespace_tokenizer\n",
    "\n",
    "def tokenize_example(s):\n",
    "    \n",
    "    # Improve me!\n",
    "    \n",
    "    return [START_SYMBOL] + basic_unigram_tokenizer(s) + [END_SYMBOL]"
   ]
  },
  {
   "cell_type": "code",
   "execution_count": 11,
   "metadata": {},
   "outputs": [
    {
     "data": {
      "text/plain": [
       "['<s>', 'aqua', '</s>']"
      ]
     },
     "execution_count": 11,
     "metadata": {},
     "output_type": "execute_result"
    }
   ],
   "source": [
    "tokenize_example(dev_texts_train[376])"
   ]
  },
  {
   "cell_type": "markdown",
   "metadata": {},
   "source": [
    "__Your task__: Modify `tokenize_example` so that it does something more sophisticated with the input text. \n",
    "\n",
    "__Notes__:\n",
    "\n",
    "* There are useful ideas for this in [Monroe et al. 2017](https://transacl.org/ojs/index.php/tacl/article/view/1142)\n",
    "* There is no requirement that you do word-level tokenization. Sub-word and multi-word are options.\n",
    "* This question can interact with the size of your vocabulary (see just below), and in turn with decisions about how to use `UNK_SYMBOL`.\n",
    "\n",
    "__Important__: don't forget to add the start and end symbols, else the resulting models will definitely be terrible!"
   ]
  },
  {
   "cell_type": "markdown",
   "metadata": {},
   "source": [
    "## Use the tokenizer"
   ]
  },
  {
   "cell_type": "markdown",
   "metadata": {},
   "source": [
    "Once the tokenizer is working, run the following cell to tokenize your inputs:"
   ]
  },
  {
   "cell_type": "code",
   "execution_count": 12,
   "metadata": {},
   "outputs": [],
   "source": [
    "dev_seqs_train = [tokenize_example(s) for s in dev_texts_train]\n",
    "\n",
    "dev_seqs_test = [tokenize_example(s) for s in dev_texts_test]"
   ]
  },
  {
   "cell_type": "markdown",
   "metadata": {},
   "source": [
    "We use only the train set to derive a vocabulary for the model:"
   ]
  },
  {
   "cell_type": "code",
   "execution_count": 13,
   "metadata": {},
   "outputs": [],
   "source": [
    "dev_vocab = sorted({w for toks in dev_seqs_train for w in toks}) + [UNK_SYMBOL]"
   ]
  },
  {
   "cell_type": "markdown",
   "metadata": {},
   "source": [
    "It's important that the `UNK_SYMBOL` is included somewhere in this list. Test examples with word not seen in training will be mapped to `UNK_SYMBOL`. If you model's vocab is the same as your train vocab, then `UNK_SYMBOL` will never be encountered during training, so it will be a random vector at test time."
   ]
  },
  {
   "cell_type": "code",
   "execution_count": 14,
   "metadata": {},
   "outputs": [
    {
     "data": {
      "text/plain": [
       "2989"
      ]
     },
     "execution_count": 14,
     "metadata": {},
     "output_type": "execute_result"
    }
   ],
   "source": [
    "len(dev_vocab)"
   ]
  },
  {
   "cell_type": "markdown",
   "metadata": {},
   "source": [
    "## Question 2: Improve the color representations [1 point]\n",
    "\n",
    "This is the second required pipeline improvement for the assignment. \n",
    "\n",
    "The following functions do nothing at all to the raw input colors we get from the corpus. "
   ]
  },
  {
   "cell_type": "code",
   "execution_count": 15,
   "metadata": {},
   "outputs": [],
   "source": [
    "def represent_color_context(colors):\n",
    "    \n",
    "    # Improve me!\n",
    "    \n",
    "    return [represent_color(color) for color in colors]\n",
    "\n",
    "\n",
    "def represent_color(color):\n",
    "    import numpy.fft as fft\n",
    "    # Improve me!\n",
    "    \n",
    "    return fft.fft(color)"
   ]
  },
  {
   "cell_type": "code",
   "execution_count": 16,
   "metadata": {},
   "outputs": [
    {
     "data": {
      "text/plain": [
       "[array([2.07833333+0.j        , 0.24833333+0.19052559j,\n",
       "        0.24833333-0.19052559j]),\n",
       " array([ 0.88 +0.j        , -0.215-0.23382686j, -0.215+0.23382686j]),\n",
       " array([1.145+0.j        , 0.29 -0.37239092j, 0.29 +0.37239092j])]"
      ]
     },
     "execution_count": 16,
     "metadata": {},
     "output_type": "execute_result"
    }
   ],
   "source": [
    "represent_color_context(dev_rawcols_train[0])"
   ]
  },
  {
   "cell_type": "markdown",
   "metadata": {},
   "source": [
    "__Your task__: Modify `represent_color_context` and/or `represent_color` to represent colors in a new way.\n",
    "    \n",
    "__Notes__:\n",
    "\n",
    "* The Fourier-transform method of [Monroe et al. 2017](https://transacl.org/ojs/index.php/tacl/article/view/1142) is a proven choice.\n",
    "* You are not required to keep `represent_color`. This might be unnatural if you want to perform an operation on each color trio all at once.\n",
    "* For that matter, if you want to process all of the color contexts in the entire data set all at once, that is fine too, as long as you can also perform the operation at test time with an unknown number of examples being tested."
   ]
  },
  {
   "cell_type": "markdown",
   "metadata": {},
   "source": [
    "## Use the color representer"
   ]
  },
  {
   "cell_type": "markdown",
   "metadata": {},
   "source": [
    "The following cell just runs your `represent_color_context` on the train and test sets:"
   ]
  },
  {
   "cell_type": "code",
   "execution_count": 17,
   "metadata": {},
   "outputs": [],
   "source": [
    "dev_cols_train = [represent_color_context(colors) for colors in dev_rawcols_train]\n",
    "\n",
    "dev_cols_test = [represent_color_context(colors) for colors in dev_rawcols_test]"
   ]
  },
  {
   "cell_type": "markdown",
   "metadata": {},
   "source": [
    "At this point, our preprocessing steps are complete, and we can fit a first model."
   ]
  },
  {
   "cell_type": "markdown",
   "metadata": {},
   "source": [
    "## Initial model\n",
    "\n",
    "The first model is configured right now to be a small model run for just a few iterations. It should be enough to get traction, but it's unlikely to be a great model. You are free to modify this configuration if you wish; it is here just for demonstration and testing:"
   ]
  },
  {
   "cell_type": "code",
   "execution_count": 18,
   "metadata": {},
   "outputs": [
    {
     "name": "stdout",
     "output_type": "stream",
     "text": [
      "Using cuda\n"
     ]
    }
   ],
   "source": [
    "dev_mod = ContextualColorDescriber(\n",
    "    dev_vocab, \n",
    "    embed_dim=10, \n",
    "    hidden_dim=10, \n",
    "    max_iter=5, \n",
    "    batch_size=128)"
   ]
  },
  {
   "cell_type": "code",
   "execution_count": 19,
   "metadata": {},
   "outputs": [],
   "source": [
    "#_ = dev_mod.fit(dev_cols_train, dev_seqs_train)"
   ]
  },
  {
   "cell_type": "markdown",
   "metadata": {},
   "source": [
    "We can also see the model's predicted sequences given color context inputs:"
   ]
  },
  {
   "cell_type": "code",
   "execution_count": 20,
   "metadata": {},
   "outputs": [],
   "source": [
    "#dev_mod.predict(dev_cols_test[:1])"
   ]
  },
  {
   "cell_type": "markdown",
   "metadata": {},
   "source": [
    "As discussed in [colors_overview.ipynb](colors_overview.ipynb), our primary metric is `listener_accuracy`:"
   ]
  },
  {
   "cell_type": "code",
   "execution_count": 21,
   "metadata": {},
   "outputs": [],
   "source": [
    "#dev_mod.listener_accuracy(dev_cols_test, dev_seqs_test)"
   ]
  },
  {
   "cell_type": "code",
   "execution_count": 22,
   "metadata": {},
   "outputs": [],
   "source": [
    "#dev_seqs_test[:1]"
   ]
  },
  {
   "cell_type": "markdown",
   "metadata": {},
   "source": [
    "## Question 3: GloVe embeddings [1 points]\n",
    "\n",
    "The above model uses a random initial embedding, as configured by the decoder used by `ContextualColorDescriber`. This homework question asks you to consider using GloVe inputs. \n",
    "\n",
    "__Your task__: Complete `create_glove_embedding` so that it creates a GloVe embedding based on your model vocabulary. This isn't mean to be analytically challenging, but rather just to create a basis for you to try out other kinds of rich initialization."
   ]
  },
  {
   "cell_type": "code",
   "execution_count": 23,
   "metadata": {},
   "outputs": [],
   "source": [
    "GLOVE_HOME = os.path.join('data', 'glove.6B')"
   ]
  },
  {
   "cell_type": "code",
   "execution_count": 24,
   "metadata": {},
   "outputs": [],
   "source": [
    "def create_glove_embedding(vocab, glove_base_filename='glove.6B.100d.txt'):\n",
    "    \n",
    "    # Use `utils.glove2dict` to read in the GloVe file:    \n",
    "    ##### YOUR CODE HERE\n",
    "    glove_dict = utils.glove2dict(os.path.join(GLOVE_HOME, glove_base_filename))\n",
    "\n",
    "    \n",
    "    # Use `utils.create_pretrained_embedding` to create the embedding.\n",
    "    # This function will, by default, ensure that START_TOKEN, \n",
    "    # END_TOKEN, and UNK_TOKEN are included in the embedding.\n",
    "    ##### YOUR CODE HERE\n",
    "    embedding, new_vocab = utils.create_pretrained_embedding(glove_dict, vocab)\n",
    "\n",
    "    \n",
    "    # Be sure to return the embedding you create as well as the\n",
    "    # vocabulary returned by `utils.create_pretrained_embedding`,\n",
    "    # which is likely to have been modified from the input `vocab`.\n",
    "    \n",
    "    ##### YOUR CODE HERE\n",
    "    return embedding, new_vocab\n"
   ]
  },
  {
   "cell_type": "markdown",
   "metadata": {},
   "source": [
    "## Try the GloVe representations"
   ]
  },
  {
   "cell_type": "markdown",
   "metadata": {},
   "source": [
    "Let's see if GloVe helped for our development data:"
   ]
  },
  {
   "cell_type": "code",
   "execution_count": 25,
   "metadata": {},
   "outputs": [],
   "source": [
    "dev_glove_embedding, dev_glove_vocab = create_glove_embedding(dev_vocab)"
   ]
  },
  {
   "cell_type": "markdown",
   "metadata": {},
   "source": [
    "The above might dramatically change your vocabulary, depending on how many items from your vocab are in the Glove space:"
   ]
  },
  {
   "cell_type": "code",
   "execution_count": 26,
   "metadata": {},
   "outputs": [
    {
     "data": {
      "text/plain": [
       "2989"
      ]
     },
     "execution_count": 26,
     "metadata": {},
     "output_type": "execute_result"
    }
   ],
   "source": [
    "len(dev_vocab)"
   ]
  },
  {
   "cell_type": "code",
   "execution_count": 27,
   "metadata": {},
   "outputs": [
    {
     "data": {
      "text/plain": [
       "2989"
      ]
     },
     "execution_count": 27,
     "metadata": {},
     "output_type": "execute_result"
    }
   ],
   "source": [
    "len(dev_glove_vocab)"
   ]
  },
  {
   "cell_type": "code",
   "execution_count": 28,
   "metadata": {},
   "outputs": [
    {
     "name": "stdout",
     "output_type": "stream",
     "text": [
      "Using cuda\n"
     ]
    }
   ],
   "source": [
    "dev_mod_glove = ContextualColorDescriber(\n",
    "    dev_glove_vocab, \n",
    "    embedding=dev_glove_embedding,\n",
    "    hidden_dim=10, \n",
    "    max_iter=10, \n",
    "    batch_size=128)"
   ]
  },
  {
   "cell_type": "code",
   "execution_count": 29,
   "metadata": {},
   "outputs": [],
   "source": [
    "# _ = dev_mod_glove.fit(dev_cols_train, dev_seqs_train)"
   ]
  },
  {
   "cell_type": "code",
   "execution_count": 30,
   "metadata": {},
   "outputs": [],
   "source": [
    "# dev_mod_glove.listener_accuracy(dev_cols_test, dev_seqs_test)"
   ]
  },
  {
   "cell_type": "markdown",
   "metadata": {},
   "source": [
    "You probably saw a small boost, assuming your tokeization scheme leads to good overlap with the GloVe vocabulary. The input representations are larger than in our previous model (at least as I configured things), so we would need to do more runs with higher `max_iter` values to see whether this is worthwhile overall."
   ]
  },
  {
   "cell_type": "markdown",
   "metadata": {},
   "source": [
    "## Question 4: Color context [3 points]\n",
    "\n",
    "The final required homework question is the most challenging, but it should set you up to think in much more flexible ways about the underlying model we're using.\n",
    "\n",
    "The question asks you to modify various model components in `torch_color_describer.py`. The section called [Modifying the core model](colors_overview.ipynb#Modifying-the-core-model) from the core unit notebook provides a number of examples illustrating the basic techniques, so you might review that material if you get stuck here.\n",
    "\n",
    "__Your task__: [Monroe et al. 2017](https://transacl.org/ojs/index.php/tacl/article/view/1142) append the target color (the final one in the context) to each input token that gets processed by the decoder. The question asks you to subclass the `Decoder` and `EncoderDecoder` from `torch_color_describer.py` so that you can build models that do this."
   ]
  },
  {
   "cell_type": "markdown",
   "metadata": {},
   "source": [
    "__Step 1__: Modify the `Decoder` so that the input vector to the model at each timestep is not just a token representaton `x` but the concatenation of `x` with the representation of the target color.\n",
    "\n",
    "__Notes__:\n",
    "\n",
    "* You might notice at this point that the original `Decoder.forward` method has an optional keyword argument `target_colors` that is passed to `Decoder.get_embeddings`. Because this is already in place, all you have to do is modify the `get_embeddings` method to use this argument.\n",
    "\n",
    "* The change affects the configuration of `self.rnn`, so you need to subclass the `__init__` method as well, so that its `input_size` argument accomodates the embedding as well as the color representations.\n",
    "\n",
    "* You can do the relevant operations efficiently in pure PyTorch using `repeat_interleave` and `cat`, but the important thing is to get a working implementation – you can always optimize the code later if the ideas prove useful to you. \n",
    "\n",
    "Here's skeleton code for you to flesh out:"
   ]
  },
  {
   "cell_type": "code",
   "execution_count": 31,
   "metadata": {},
   "outputs": [],
   "source": [
    "import torch\n",
    "import torch.nn as nn\n",
    "from torch_color_describer import Decoder\n",
    "\n",
    "class ColorContextDecoder(Decoder):    \n",
    "    def __init__(self, color_dim, *args, **kwargs):\n",
    "        self.color_dim = color_dim\n",
    "        super().__init__(*args, **kwargs)\n",
    "        \n",
    "        # Fix the `self.rnn` attribute:\n",
    "        ##### YOUR CODE HERE\n",
    "        self.rnn = nn.LSTM(\n",
    "            input_size=self.embed_dim + self.color_dim,\n",
    "            hidden_size=self.hidden_dim,\n",
    "            batch_first=True)\n",
    "\n",
    "        \n",
    "\n",
    "    def get_embeddings(self, word_seqs, target_colors=None):  \n",
    "        \"\"\"You can assume that `target_colors` is a tensor of shape \n",
    "        (m, n), where m is the length of the batch (same as \n",
    "        `word_seqs.shape[0]`) and n is the dimensionality of the \n",
    "        color representations the model is using. The goal is\n",
    "        to attached each color vector i to each of the tokens in\n",
    "        the ith sequence of (the embedded version of) `word_seqs`.\n",
    "        \n",
    "        \"\"\"        \n",
    "        ##### YOUR CODE HERE\n",
    "        unpadded_word_seqs, _ = torch.nn.utils.rnn.pad_packed_sequence(\n",
    "            word_seqs, batch_first=True)\n",
    "        seq_len = unpadded_word_seqs.shape[1] # assuming this is a padded sequence, length of the longest sequence in the batch\n",
    "        embedded_word_seqs = self.embedding(unpadded_word_seqs)\n",
    "        \n",
    "        repeated_colors = torch.repeat_interleave(target_colors, seq_len, axis=0)\n",
    "        repeated_colors = repeated_colors.view(-1, seq_len, target_colors.shape[1])\n",
    "\n",
    "        result = torch.cat((embedded_word_seqs, repeated_colors), dim=2)\n",
    "\n",
    "        return result\n",
    "\n"
   ]
  },
  {
   "cell_type": "markdown",
   "metadata": {},
   "source": [
    "__Step 2__: Modify the `EncoderDecoder`. For this, you just need to make a small change to the `forward` method: extract the target colors from `color_seqs` and feed them to the decoder."
   ]
  },
  {
   "cell_type": "code",
   "execution_count": 32,
   "metadata": {},
   "outputs": [],
   "source": [
    "from torch_color_describer import EncoderDecoder\n",
    "\n",
    "class ColorizedEncoderDecoder(EncoderDecoder):\n",
    "    \n",
    "    def forward(self, \n",
    "            color_seqs, \n",
    "            word_seqs, \n",
    "            seq_lengths=None, \n",
    "            hidden=None, \n",
    "            targets=None):\n",
    "        if hidden is None:\n",
    "            hidden = self.encoder(color_seqs)\n",
    "            \n",
    "        # Extract the target colors from `color_seqs` and \n",
    "        # feed them to the decoder, which already has a\n",
    "        # `target_colors` keyword.        \n",
    "        ##### YOUR CODE HERE\n",
    "        target_colors = torch.stack([item[-1] for item in color_seqs]).to(self.device)\n",
    "        output, hidden = self.decoder(\n",
    "            word_seqs, seq_lengths=seq_lengths, hidden=hidden, target_colors=target_colors)\n",
    "        \n",
    "        return output, hidden, targets\n"
   ]
  },
  {
   "cell_type": "markdown",
   "metadata": {},
   "source": [
    "__Step 3__: Finally, as in the examples in [Modifying the core model](colors_overview.ipynb#Modifying-the-core-model), you need to modify the `build_graph` method of `ContextualColorDescriber` so that it uses your new `ColorContextDecoder` and `ColorizedEncoderDecoder`. Here's starter code:"
   ]
  },
  {
   "cell_type": "code",
   "execution_count": 33,
   "metadata": {},
   "outputs": [],
   "source": [
    "from torch_color_describer import Encoder\n",
    "\n",
    "class ColorizedInputDescriber(ContextualColorDescriber):\n",
    "        \n",
    "    def build_graph(self):\n",
    "        \n",
    "        # We didn't modify the encoder, so this is\n",
    "        # just copied over from the original:\n",
    "        encoder = Encoder(\n",
    "            color_dim=self.color_dim,\n",
    "            hidden_dim=self.hidden_dim,\n",
    "            force_cpu=self.force_cpu)\n",
    "\n",
    "        # Use your `ColorContextDecoder`, making sure\n",
    "        # to pass in all the keyword arguments coming\n",
    "        # from `ColorizedInputDescriber`:\n",
    "        \n",
    "        ##### YOUR CODE HERE\n",
    "        decoder = ColorContextDecoder(\n",
    "            vocab_size=self.vocab_size,\n",
    "            embed_dim=self.embed_dim,\n",
    "            embedding=self.embedding,\n",
    "            color_dim=self.color_dim,\n",
    "            hidden_dim=self.hidden_dim,\n",
    "            force_cpu=self.force_cpu)\n",
    "\n",
    "        \n",
    "        # Return a `ColorizedEncoderDecoder` that uses\n",
    "        # your encoder and decoder:\n",
    "        \n",
    "        ##### YOUR CODE HERE\n",
    "        return ColorizedEncoderDecoder(encoder, decoder)\n",
    "\n"
   ]
  },
  {
   "cell_type": "markdown",
   "metadata": {},
   "source": [
    "That's it! Since these modifications are pretty intricate, you might want to use [a toy dataset](colors_overview.ipynb#Toy-problems-for-development-work) to debug it:"
   ]
  },
  {
   "cell_type": "code",
   "execution_count": 34,
   "metadata": {},
   "outputs": [],
   "source": [
    "toy_color_seqs, toy_word_seqs, toy_vocab = create_example_dataset(\n",
    "    group_size=50, vec_dim=2)"
   ]
  },
  {
   "cell_type": "code",
   "execution_count": 35,
   "metadata": {},
   "outputs": [],
   "source": [
    "toy_color_seqs_train, toy_color_seqs_test, toy_word_seqs_train, toy_word_seqs_test = \\\n",
    "    train_test_split(toy_color_seqs, toy_word_seqs)"
   ]
  },
  {
   "cell_type": "code",
   "execution_count": 36,
   "metadata": {},
   "outputs": [
    {
     "name": "stdout",
     "output_type": "stream",
     "text": [
      "Using cuda\n"
     ]
    }
   ],
   "source": [
    "toy_mod = ColorizedInputDescriber(\n",
    "    toy_vocab, \n",
    "    embed_dim=10, \n",
    "    hidden_dim=100, \n",
    "    max_iter=10, \n",
    "    batch_size=128)"
   ]
  },
  {
   "cell_type": "code",
   "execution_count": 37,
   "metadata": {},
   "outputs": [
    {
     "name": "stdout",
     "output_type": "stream",
     "text": [
      "Encoder cuda\n",
      "ColorContextDecoder cuda\n",
      "ColorizedEncoderDecoder cuda\n",
      "Epoch 1; err = 1.6311750411987305; time = 0.3400750160217285\n",
      "Epoch 2; err = 1.551213026046753; time = 0.03000640869140625\n",
      "Epoch 3; err = 1.466810703277588; time = 0.029006481170654297\n",
      "Epoch 4; err = 1.3554185628890991; time = 0.02800583839416504\n",
      "Epoch 5; err = 1.2397462129592896; time = 0.028006315231323242\n",
      "Epoch 6; err = 1.1482919454574585; time = 0.028006315231323242\n",
      "Epoch 7; err = 1.1105046272277832; time = 0.03200650215148926\n",
      "Epoch 8; err = 1.014852523803711; time = 0.028006315231323242\n",
      "Epoch 9; err = 0.9668906927108765; time = 0.029006004333496094\n",
      "Epoch 10; err = 0.8717980980873108; time = 0.029006242752075195\n"
     ]
    }
   ],
   "source": [
    "_ = toy_mod.fit(toy_color_seqs_train, toy_word_seqs_train)"
   ]
  },
  {
   "cell_type": "code",
   "execution_count": 38,
   "metadata": {},
   "outputs": [
    {
     "name": "stderr",
     "output_type": "stream",
     "text": [
      "all_probs 27"
     ]
    },
    {
     "data": {
      "text/plain": [
       "0.7631578947368421"
      ]
     },
     "execution_count": 38,
     "metadata": {},
     "output_type": "execute_result"
    }
   ],
   "source": [
    "toy_mod.listener_accuracy(toy_color_seqs_test, toy_word_seqs_test)"
   ]
  },
  {
   "cell_type": "markdown",
   "metadata": {},
   "source": [
    "If that worked, then you can now try this model on SCC problems!"
   ]
  },
  {
   "cell_type": "code",
   "execution_count": 44,
   "metadata": {},
   "outputs": [
    {
     "name": "stdout",
     "output_type": "stream",
     "text": [
      "Using cuda\n"
     ]
    }
   ],
   "source": [
    "dev_color_mod = ColorizedInputDescriber(\n",
    "    dev_glove_vocab, \n",
    "    embedding=dev_glove_embedding, \n",
    "    hidden_dim=100, \n",
    "    max_iter=70, \n",
    "    batch_size=128,\n",
    "    force_cpu=False)"
   ]
  },
  {
   "cell_type": "code",
   "execution_count": 45,
   "metadata": {},
   "outputs": [
    {
     "name": "stdout",
     "output_type": "stream",
     "text": [
      "Encoder cuda\n",
      "ColorContextDecoder cuda\n",
      "ColorizedEncoderDecoder cuda\n",
      "Epoch 1; err = 1327.3431642055511; time = 11.265564441680908\n",
      "Epoch 2; err = 391.0809544324875; time = 11.276556015014648\n",
      "Epoch 3; err = 170.65298181772232; time = 11.259552001953125\n",
      "Epoch 4; err = 142.10476587712765; time = 11.246548891067505\n",
      "Epoch 5; err = 129.10688044130802; time = 11.286447525024414\n",
      "Epoch 6; err = 125.38633920252323; time = 11.248560428619385\n",
      "Epoch 7; err = 121.28997687995434; time = 11.263563632965088\n",
      "Epoch 8; err = 117.15089257061481; time = 11.267460107803345\n",
      "Epoch 9; err = 115.66089119017124; time = 11.21754240989685\n",
      "Epoch 10; err = 111.86522163450718; time = 11.208539962768555\n",
      "Epoch 11; err = 110.05225163698196; time = 11.224543333053589\n",
      "Epoch 12; err = 110.88953267037868; time = 11.21554160118103\n",
      "Epoch 13; err = 107.32818837463856; time = 11.213297128677368\n",
      "Epoch 14; err = 107.33777935802937; time = 11.259562492370605\n",
      "Epoch 15; err = 104.08696757256985; time = 11.435601949691772\n",
      "Epoch 16; err = 101.96946451067924; time = 11.31357479095459\n",
      "Epoch 17; err = 103.13795776665211; time = 11.27756643295288\n",
      "Epoch 18; err = 102.26011902093887; time = 11.268563747406006\n",
      "Epoch 19; err = 100.26720215380192; time = 11.306210279464722\n",
      "Epoch 20; err = 100.86783255636692; time = 11.235546350479126\n",
      "Epoch 21; err = 100.45702387392521; time = 11.583625555038452\n",
      "Epoch 22; err = 99.65857934951782; time = 12.088739395141602\n",
      "Epoch 23; err = 97.34663638472557; time = 11.676290273666382\n",
      "Epoch 24; err = 98.86827370524406; time = 11.274566173553467\n",
      "Epoch 25; err = 95.75078125298023; time = 11.392592668533325\n",
      "Epoch 26; err = 95.92583154141903; time = 11.32557725906372\n",
      "Epoch 27; err = 97.12727697193623; time = 11.281567335128784\n",
      "Epoch 28; err = 96.16682794690132; time = 11.403595209121704\n",
      "Epoch 29; err = 95.55949878692627; time = 11.284567832946777\n",
      "Epoch 30; err = 94.29292625188828; time = 11.294560432434082\n",
      "Epoch 31; err = 95.20897153019905; time = 11.255561590194702\n",
      "Epoch 32; err = 95.35236431658268; time = 11.245559692382812\n",
      "Epoch 33; err = 94.03441400825977; time = 11.25485897064209\n",
      "Epoch 34; err = 92.72017949819565; time = 11.234545946121216\n",
      "Epoch 35; err = 95.12751734256744; time = 11.220543146133423\n",
      "Epoch 36; err = 92.99469079077244; time = 11.23954701423645\n",
      "Epoch 37; err = 92.91145226359367; time = 11.238495111465454\n",
      "Epoch 38; err = 92.32502262294292; time = 11.269358158111572\n",
      "Epoch 39; err = 93.31516978144646; time = 11.20885705947876\n",
      "Epoch 40; err = 93.24356354773045; time = 11.287569046020508\n",
      "Epoch 41; err = 92.6124020665884; time = 11.290569543838501\n",
      "Epoch 42; err = 90.9737633317709; time = 11.267563819885254\n",
      "Epoch 43; err = 91.92516453564167; time = 11.250165700912476\n",
      "Epoch 44; err = 89.73764225840569; time = 11.25455093383789\n",
      "Epoch 45; err = 90.64594249427319; time = 11.196537494659424\n",
      "Epoch 46; err = 92.37984035909176; time = 11.174532890319824\n",
      "Epoch 47; err = 90.8766307681799; time = 11.224543571472168\n",
      "Epoch 48; err = 90.71344465017319; time = 11.219542503356934\n",
      "Epoch 49; err = 89.36176694184542; time = 11.210541009902954\n",
      "Epoch 50; err = 91.19978901743889; time = 11.281556367874146\n",
      "Epoch 51; err = 91.18421542644501; time = 11.224542617797852\n",
      "Epoch 52; err = 90.48778447508812; time = 11.200538396835327\n",
      "Epoch 53; err = 88.91645009815693; time = 11.239546775817871\n",
      "Epoch 54; err = 89.05259090662003; time = 11.20453929901123\n",
      "Epoch 55; err = 88.94872800260782; time = 11.234546422958374\n",
      "Epoch 56; err = 90.84968313574791; time = 11.198538303375244\n",
      "Epoch 57; err = 88.93513372540474; time = 11.22112774848938\n",
      "Epoch 58; err = 87.38007093966007; time = 11.290966272354126\n",
      "Epoch 59; err = 89.46787290275097; time = 11.288569211959839\n",
      "Epoch 60; err = 88.31918646395206; time = 11.260562658309937\n",
      "Epoch 61; err = 87.81589823961258; time = 11.256561994552612\n",
      "Epoch 62; err = 87.97944170236588; time = 11.26456356048584\n",
      "Epoch 63; err = 88.15289801359177; time = 11.258562088012695\n",
      "Epoch 64; err = 87.62553372979164; time = 11.24955940246582\n",
      "Epoch 65; err = 89.1490280777216; time = 11.233556747436523\n",
      "Epoch 66; err = 88.30149392038584; time = 11.270563840866089\n",
      "Epoch 67; err = 88.22208352386951; time = 11.255561828613281\n",
      "Epoch 68; err = 86.54326540231705; time = 11.280566930770874\n",
      "Epoch 69; err = 86.62831737101078; time = 11.284568548202515\n",
      "Epoch 70; err = 87.38734777271748; time = 11.26100206375122\n",
      "Epoch 71; err = 88.35884733498096; time = 11.237546920776367\n",
      "Epoch 72; err = 87.06136147677898; time = 11.295559644699097\n",
      "Epoch 73; err = 86.64357393980026; time = 11.247382164001465\n",
      "Epoch 74; err = 87.22250252962112; time = 11.272564888000488\n",
      "Epoch 75; err = 86.90636637061834; time = 11.269340753555298\n",
      "Epoch 76; err = 87.58855357766151; time = 11.251285791397095\n",
      "Epoch 77; err = 85.81949642300606; time = 11.32699465751648\n",
      "Epoch 78; err = 86.67827236652374; time = 11.446486711502075\n",
      "Epoch 79; err = 84.58337180316448; time = 11.48560357093811\n",
      "Epoch 80; err = 86.82661898434162; time = 11.448594808578491\n",
      "Epoch 81; err = 85.11655113101006; time = 11.420588254928589\n",
      "Epoch 82; err = 86.58846405148506; time = 11.434138536453247\n",
      "Epoch 83; err = 87.12248399853706; time = 11.413596868515015\n",
      "Epoch 84; err = 86.6600899323821; time = 11.43560266494751\n",
      "Epoch 85; err = 89.08938317000866; time = 11.263570547103882\n",
      "Epoch 86; err = 86.11898405849934; time = 11.524621963500977\n",
      "Epoch 87; err = 85.66328027844429; time = 11.295570850372314\n",
      "Epoch 88; err = 83.78011028468609; time = 11.295570611953735\n",
      "Epoch 89; err = 87.56132461130619; time = 11.273077964782715\n",
      "Epoch 90; err = 84.95523789525032; time = 11.233546257019043\n",
      "Epoch 91; err = 85.97664178162813; time = 11.245548725128174\n",
      "Epoch 92; err = 87.22094868123531; time = 11.362574100494385\n",
      "Epoch 93; err = 84.24693950265646; time = 11.34084439277649\n",
      "Epoch 94; err = 84.28491695225239; time = 11.41059684753418\n",
      "Epoch 95; err = 86.05382975190878; time = 11.406595230102539\n",
      "Epoch 96; err = 86.75954097509384; time = 11.309573888778687\n",
      "Epoch 97; err = 84.35246728360653; time = 11.247559547424316\n",
      "Epoch 98; err = 84.38336656987667; time = 11.289569616317749\n",
      "Epoch 99; err = 85.17767451703548; time = 11.290569305419922\n",
      "Epoch 100; err = 85.11127732694149; time = 11.313574314117432\n",
      "Epoch 101; err = 84.34339751303196; time = 11.248664140701294\n",
      "Epoch 102; err = 86.51600421965122; time = 11.220542907714844\n",
      "Epoch 103; err = 85.34824009239674; time = 11.231545448303223\n",
      "Epoch 104; err = 87.09593158960342; time = 11.213541030883789\n",
      "Epoch 105; err = 85.80341398715973; time = 11.220542669296265\n",
      "Epoch 106; err = 85.0630634278059; time = 11.236637830734253\n",
      "Epoch 107; err = 84.7386008054018; time = 11.293570041656494\n",
      "Epoch 108; err = 84.28647442162037; time = 11.278566598892212\n",
      "Epoch 109; err = 84.25248546898365; time = 11.260562658309937\n",
      "Epoch 110; err = 84.99159833788872; time = 11.246558904647827\n",
      "Epoch 111; err = 85.91226825118065; time = 11.270564556121826\n",
      "Epoch 112; err = 85.15666535496712; time = 11.275566339492798\n",
      "Epoch 113; err = 84.58600891381502; time = 11.264563798904419\n",
      "Epoch 114; err = 86.54291212558746; time = 11.256561994552612\n",
      "Epoch 115; err = 85.58180770277977; time = 11.320576429367065\n",
      "Epoch 116; err = 84.657386302948; time = 11.457606792449951\n",
      "Epoch 117; err = 85.23829860985279; time = 11.43460202217102\n",
      "Epoch 118; err = 85.7252699881792; time = 11.394593000411987\n",
      "Epoch 119; err = 84.99500894546509; time = 11.419598817825317\n",
      "Epoch 120; err = 84.71832898259163; time = 11.485613107681274\n",
      "Epoch 121; err = 84.26839509606361; time = 11.436602354049683\n",
      "Epoch 122; err = 83.25988221168518; time = 11.58106517791748\n",
      "Epoch 123; err = 86.61565621197224; time = 11.524622440338135\n",
      "Epoch 124; err = 86.68588350713253; time = 11.286752223968506\n",
      "Epoch 125; err = 83.5954239666462; time = 11.325567245483398\n",
      "Epoch 126; err = 85.04977998137474; time = 11.274554967880249\n",
      "Epoch 127; err = 85.55192510783672; time = 11.267553806304932\n",
      "Epoch 128; err = 83.87236418575048; time = 11.3015615940094\n",
      "Epoch 129; err = 83.88026057183743; time = 11.285557746887207\n",
      "Epoch 130; err = 86.55189834535122; time = 11.250520706176758\n",
      "Epoch 131; err = 87.96661937236786; time = 11.263562679290771\n",
      "Epoch 132; err = 85.29751037806273; time = 11.293583869934082\n",
      "Epoch 133; err = 84.40080910921097; time = 11.289568901062012\n",
      "Epoch 134; err = 85.9382574185729; time = 11.289569854736328\n",
      "Epoch 135; err = 84.0142100006342; time = 11.28656792640686\n",
      "Epoch 136; err = 83.36164949834347; time = 11.306573152542114\n",
      "Epoch 137; err = 85.06451427936554; time = 11.297570705413818\n",
      "Epoch 138; err = 88.91468474268913; time = 11.27656602859497\n",
      "Epoch 139; err = 82.45509667694569; time = 11.303571939468384\n",
      "Epoch 140; err = 84.45816724002361; time = 11.266563653945923\n",
      "Epoch 141; err = 83.60250593721867; time = 11.298571348190308\n",
      "Epoch 142; err = 86.1671779602766; time = 11.273565769195557\n",
      "Epoch 143; err = 86.55484873056412; time = 11.27747631072998\n",
      "Epoch 144; err = 86.53291443735361; time = 11.21554183959961\n",
      "Epoch 145; err = 84.89476697146893; time = 11.28432846069336\n",
      "Epoch 146; err = 83.77964581549168; time = 11.278566837310791\n",
      "Epoch 147; err = 84.30884634703398; time = 11.278128623962402\n",
      "Epoch 148; err = 84.66855736076832; time = 11.205539226531982\n",
      "Epoch 149; err = 84.31804546713829; time = 11.236320734024048\n",
      "Epoch 150; err = 84.37361147999763; time = 11.283567905426025\n",
      "Epoch 151; err = 86.15018439292908; time = 11.280566930770874\n",
      "Epoch 152; err = 86.81746257841587; time = 11.27656626701355\n",
      "Epoch 153; err = 85.0370361506939; time = 11.301809310913086\n",
      "Epoch 154; err = 85.473474226892; time = 11.246548891067505\n",
      "Epoch 155; err = 87.4473809748888; time = 11.255550861358643\n",
      "Epoch 156; err = 85.16226188093424; time = 11.224543809890747\n",
      "Epoch 157; err = 85.192064255476; time = 11.32456660270691\n",
      "Epoch 158; err = 85.45265051722527; time = 11.59162712097168\n",
      "Epoch 159; err = 84.13901409506798; time = 11.213541030883789\n",
      "Epoch 160; err = 83.69957363605499; time = 11.243882894515991\n",
      "Epoch 161; err = 82.5311781167984; time = 11.295570373535156\n",
      "Epoch 162; err = 83.89358302205801; time = 11.294708728790283\n",
      "Epoch 163; err = 84.24203859269619; time = 11.387668132781982\n",
      "Epoch 164; err = 91.80286391079426; time = 11.305572509765625\n",
      "Epoch 165; err = 87.04034178704023; time = 11.46960997581482\n",
      "Epoch 166; err = 86.38636995851994; time = 11.51661992073059\n",
      "Epoch 167; err = 85.02419992536306; time = 11.32257628440857\n",
      "Epoch 168; err = 84.36874361336231; time = 11.302571535110474\n",
      "Epoch 169; err = 84.70523680746555; time = 11.281567335128784\n",
      "Epoch 170; err = 82.51686638593674; time = 11.264562845230103\n",
      "Epoch 171; err = 83.9430456534028; time = 11.407596111297607\n",
      "Epoch 172; err = 84.49377690255642; time = 11.269571542739868\n",
      "Epoch 173; err = 82.97968229651451; time = 11.268564462661743\n",
      "Epoch 174; err = 84.76983089745045; time = 11.26056170463562\n",
      "Epoch 175; err = 83.97632225602865; time = 11.28556776046753\n",
      "Epoch 176; err = 85.77265745401382; time = 11.281566858291626\n",
      "Epoch 177; err = 99.26845701038837; time = 11.298571348190308\n",
      "Epoch 178; err = 91.02716413140297; time = 11.42017126083374\n",
      "Epoch 179; err = 86.60804389417171; time = 11.496605634689331\n",
      "Epoch 180; err = 84.09764601290226; time = 11.31456470489502\n",
      "Epoch 181; err = 84.80030083656311; time = 11.288511753082275\n",
      "Epoch 182; err = 87.67887821793556; time = 11.283568143844604\n",
      "Epoch 183; err = 84.44682531058788; time = 11.282567739486694\n",
      "Epoch 184; err = 85.67774434387684; time = 11.261562824249268\n",
      "Epoch 185; err = 86.21696585416794; time = 11.276565551757812\n",
      "Epoch 186; err = 85.19536858797073; time = 11.291569232940674\n",
      "Epoch 187; err = 85.79732610285282; time = 11.246550559997559\n",
      "Epoch 188; err = 83.68167567253113; time = 11.523364782333374\n",
      "Epoch 189; err = 83.38719150424004; time = 11.473611116409302\n",
      "Epoch 190; err = 84.1341544687748; time = 11.308573722839355\n",
      "Epoch 191; err = 85.8272410929203; time = 11.287568807601929\n",
      "Epoch 192; err = 87.57472388446331; time = 11.311574459075928\n",
      "Epoch 193; err = 87.41679301857948; time = 11.280566930770874\n",
      "Epoch 194; err = 86.04236271977425; time = 11.30057168006897\n",
      "Epoch 195; err = 85.3838155567646; time = 11.314820766448975\n",
      "Epoch 196; err = 85.3416369408369; time = 11.357600927352905\n",
      "Epoch 197; err = 86.59450753778219; time = 11.506609439849854\n",
      "Epoch 198; err = 85.7419926226139; time = 11.516225576400757\n",
      "Epoch 199; err = 85.49732103943825; time = 11.529623031616211\n",
      "Epoch 200; err = 84.56356849521399; time = 11.310573816299438\n"
     ]
    }
   ],
   "source": [
    "_ = dev_color_mod.fit(dev_cols_train, dev_seqs_train)"
   ]
  },
  {
   "cell_type": "code",
   "execution_count": 46,
   "metadata": {},
   "outputs": [
    {
     "name": "stderr",
     "output_type": "stream",
     "text": [
      "all_probs 27"
     ]
    },
    {
     "data": {
      "text/plain": [
       "0.7783641160949868"
      ]
     },
     "execution_count": 46,
     "metadata": {},
     "output_type": "execute_result"
    }
   ],
   "source": [
    " dev_color_mod.listener_accuracy(dev_cols_test, dev_seqs_test)"
   ]
  },
  {
   "cell_type": "code",
   "execution_count": 42,
   "metadata": {},
   "outputs": [],
   "source": [
    "#dev_perp = dev_color_mod.perplexities(dev_cols_test, dev_seqs_test)\n",
    "#dev_perp[0]"
   ]
  },
  {
   "cell_type": "code",
   "execution_count": 43,
   "metadata": {},
   "outputs": [],
   "source": [
    "#dev_color_mod.to_pickle(os.path.join('data', 'colors' 'color_describer_unigram_20e.pt'))"
   ]
  },
  {
   "cell_type": "code",
   "execution_count": null,
   "metadata": {},
   "outputs": [],
   "source": []
  }
 ],
 "metadata": {
  "kernelspec": {
   "display_name": "Python 3",
   "language": "python",
   "name": "python3"
  },
  "language_info": {
   "codemirror_mode": {
    "name": "ipython",
    "version": 3
   },
   "file_extension": ".py",
   "mimetype": "text/x-python",
   "name": "python",
   "nbconvert_exporter": "python",
   "pygments_lexer": "ipython3",
   "version": "3.7.4"
  }
 },
 "nbformat": 4,
 "nbformat_minor": 2
}
